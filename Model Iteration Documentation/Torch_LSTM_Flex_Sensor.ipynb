{
  "cells": [
    {
      "cell_type": "markdown",
      "metadata": {
        "id": "view-in-github",
        "colab_type": "text"
      },
      "source": [
        "<a href=\"https://colab.research.google.com/github/AdnanBayu/LSTM-Flex-Sensor/blob/main/Torch_LSTM_Flex_Sensor.ipynb\" target=\"_parent\"><img src=\"https://colab.research.google.com/assets/colab-badge.svg\" alt=\"Open In Colab\"/></a>"
      ]
    },
    {
      "cell_type": "markdown",
      "metadata": {
        "id": "BDb6Jw6o6m0w"
      },
      "source": [
        "# IMPORT"
      ]
    },
    {
      "cell_type": "code",
      "execution_count": 1,
      "metadata": {
        "id": "jsqfLopGjTa3"
      },
      "outputs": [],
      "source": [
        "# @title <p>Essential Import\n",
        "import os, shutil, json\n",
        "from zipfile import ZipFile\n",
        "import matplotlib.pyplot as plt\n",
        "import numpy as np, pandas as pd, random as rd\n",
        "from matplotlib import pyplot as plt\n",
        "from sklearn.preprocessing import LabelEncoder\n",
        "from sklearn.model_selection import train_test_split\n",
        "from sklearn.preprocessing import LabelEncoder\n",
        "from sklearn.metrics import confusion_matrix, multilabel_confusion_matrix, ConfusionMatrixDisplay, classification_report\n",
        "import warnings\n",
        "import gdown\n",
        "import torch\n",
        "import torch.nn.functional as Functional\n",
        "from torch import nn\n",
        "from torch.utils.data import Dataset, DataLoader\n",
        "from torch.nn import functional\n",
        "from tqdm.notebook import tqdm\n",
        "warnings.filterwarnings(\"ignore\")\n",
        "device = torch.device(\"cuda\" if torch.cuda.is_available() else \"cpu\")"
      ]
    },
    {
      "cell_type": "code",
      "execution_count": 2,
      "metadata": {
        "colab": {
          "base_uri": "https://localhost:8080/",
          "height": 0
        },
        "id": "wRLKfo8wIppw",
        "outputId": "80afad27-4efd-4973-a792-14ad6382e10d"
      },
      "outputs": [
        {
          "output_type": "stream",
          "name": "stderr",
          "text": [
            "Downloading...\n",
            "From: https://drive.google.com/uc?id=1SOUWbn0SSH-nQ4AgVghXAeEerPniHhdM\n",
            "To: /content/data-real.zip\n",
            "100%|██████████| 2.32M/2.32M [00:00<00:00, 172MB/s]\n"
          ]
        },
        {
          "output_type": "execute_result",
          "data": {
            "text/plain": [
              "'data-real.zip'"
            ],
            "application/vnd.google.colaboratory.intrinsic+json": {
              "type": "string"
            }
          },
          "metadata": {},
          "execution_count": 2
        }
      ],
      "source": [
        "# @title <p> Download Data Sensor Real\n",
        "url = 'https://drive.google.com/file/d/1SOUWbn0SSH-nQ4AgVghXAeEerPniHhdM/view?usp=sharing'\n",
        "output_path = 'data-real.zip'\n",
        "gdown.download(url, output_path, quiet=False,fuzzy=True)"
      ]
    },
    {
      "cell_type": "code",
      "execution_count": 3,
      "metadata": {
        "colab": {
          "base_uri": "https://localhost:8080/",
          "height": 0
        },
        "id": "xeb3j0XqKro3",
        "outputId": "414af107-6659-4c76-fb62-41ec23928768"
      },
      "outputs": [
        {
          "output_type": "stream",
          "name": "stderr",
          "text": [
            "Downloading...\n",
            "From: https://drive.google.com/uc?id=1zFfUlMn9aCm9Ngvj3ENKBo3KaK6apNSB\n",
            "To: /content/data-real-config.zip\n",
            "100%|██████████| 3.50k/3.50k [00:00<00:00, 9.91MB/s]\n"
          ]
        },
        {
          "output_type": "execute_result",
          "data": {
            "text/plain": [
              "'data-real-config.zip'"
            ],
            "application/vnd.google.colaboratory.intrinsic+json": {
              "type": "string"
            }
          },
          "metadata": {},
          "execution_count": 3
        }
      ],
      "source": [
        "# @title <p> Download Data Real Config Real\n",
        "url = 'https://drive.google.com/file/d/1zFfUlMn9aCm9Ngvj3ENKBo3KaK6apNSB/view?usp=sharing'\n",
        "output_path = 'data-real-config.zip'\n",
        "gdown.download(url, output_path, quiet=False,fuzzy=True)"
      ]
    },
    {
      "cell_type": "code",
      "execution_count": 4,
      "metadata": {
        "id": "vdQowX9TtQWc"
      },
      "outputs": [],
      "source": [
        "# @title <p> Assign file path\n",
        "DATA_DIR = 'data'\n",
        "CONFIG_DIR = 'data-real-config/config'\n",
        "\n",
        "if not os.path.isdir(DATA_DIR) :\n",
        "  !unzip data-real.zip &> /dev/null\n",
        "\n",
        "if not os.path.isdir(CONFIG_DIR) :\n",
        "  !unzip data-real-config.zip &> /dev/null"
      ]
    },
    {
      "cell_type": "code",
      "execution_count": 5,
      "metadata": {
        "id": "yXx8R9sy82Eg"
      },
      "outputs": [],
      "source": [
        "# @title <p> Formatting Data Real\n",
        "columns = [f'finger{n}' for n in range(1, 6)] + ['acc_x', 'acc_y', 'acc_z', 'gir_x', 'gir_y', 'gir_z', 'label', 'name', 'file']\n",
        "data_arr = []\n",
        "# include = ['ade', 'alfa', 'amalia', 'anes', 'bayu', 'cahyan', 'nurhadi', 'timo', 'zalfa', 'additional'] #exclude anis\n",
        "include = ['amalia', 'bayu', 'nurhadi', 'timo', 'additional']\n",
        "\n",
        "def convert_data_str_int(data):\n",
        "    return [float(x) for x in data.split(',')]\n",
        "\n",
        "#read each file by alphabet name\n",
        "for name in os.listdir(DATA_DIR):\n",
        "  for letter in os.listdir(os.path.join(DATA_DIR,name)):\n",
        "    for data_point in os.listdir(os.path.join(DATA_DIR,name,letter)):\n",
        "      if name in include:\n",
        "        data_path = os.path.join(DATA_DIR, name, letter, data_point)\n",
        "        with open(data_path, 'r') as f:\n",
        "          lines = f.readlines()\n",
        "          lines = lines[-30:]\n",
        "        for line in lines:\n",
        "          data_arr.append(convert_data_str_int(line) + [letter] + [name] + [data_point])"
      ]
    },
    {
      "cell_type": "code",
      "execution_count": 6,
      "metadata": {
        "colab": {
          "base_uri": "https://localhost:8080/",
          "height": 0
        },
        "id": "8ihIxoSmVVtF",
        "outputId": "f65f6491-6619-41cc-92c6-a215f3481b0d"
      },
      "outputs": [
        {
          "output_type": "execute_result",
          "data": {
            "text/plain": [
              "     finger1  finger2  finger3  finger4  finger5 label     name     file\n",
              "960   3053.0   3781.0   3926.0   3774.0   3363.0     a  nurhadi  a-5.txt\n",
              "961   3066.0   3790.0   3866.0   3777.0   3361.0     a  nurhadi  a-5.txt\n",
              "962   3068.0   3791.0   3839.0   3766.0   3360.0     a  nurhadi  a-5.txt\n",
              "963   3069.0   3783.0   3965.0   3773.0   3351.0     a  nurhadi  a-5.txt\n",
              "964   3066.0   3773.0   3971.0   3760.0   3346.0     a  nurhadi  a-5.txt"
            ],
            "text/html": [
              "\n",
              "  <div id=\"df-5d114109-11f9-4cea-9945-83b3a0170596\" class=\"colab-df-container\">\n",
              "    <div>\n",
              "<style scoped>\n",
              "    .dataframe tbody tr th:only-of-type {\n",
              "        vertical-align: middle;\n",
              "    }\n",
              "\n",
              "    .dataframe tbody tr th {\n",
              "        vertical-align: top;\n",
              "    }\n",
              "\n",
              "    .dataframe thead th {\n",
              "        text-align: right;\n",
              "    }\n",
              "</style>\n",
              "<table border=\"1\" class=\"dataframe\">\n",
              "  <thead>\n",
              "    <tr style=\"text-align: right;\">\n",
              "      <th></th>\n",
              "      <th>finger1</th>\n",
              "      <th>finger2</th>\n",
              "      <th>finger3</th>\n",
              "      <th>finger4</th>\n",
              "      <th>finger5</th>\n",
              "      <th>label</th>\n",
              "      <th>name</th>\n",
              "      <th>file</th>\n",
              "    </tr>\n",
              "  </thead>\n",
              "  <tbody>\n",
              "    <tr>\n",
              "      <th>960</th>\n",
              "      <td>3053.0</td>\n",
              "      <td>3781.0</td>\n",
              "      <td>3926.0</td>\n",
              "      <td>3774.0</td>\n",
              "      <td>3363.0</td>\n",
              "      <td>a</td>\n",
              "      <td>nurhadi</td>\n",
              "      <td>a-5.txt</td>\n",
              "    </tr>\n",
              "    <tr>\n",
              "      <th>961</th>\n",
              "      <td>3066.0</td>\n",
              "      <td>3790.0</td>\n",
              "      <td>3866.0</td>\n",
              "      <td>3777.0</td>\n",
              "      <td>3361.0</td>\n",
              "      <td>a</td>\n",
              "      <td>nurhadi</td>\n",
              "      <td>a-5.txt</td>\n",
              "    </tr>\n",
              "    <tr>\n",
              "      <th>962</th>\n",
              "      <td>3068.0</td>\n",
              "      <td>3791.0</td>\n",
              "      <td>3839.0</td>\n",
              "      <td>3766.0</td>\n",
              "      <td>3360.0</td>\n",
              "      <td>a</td>\n",
              "      <td>nurhadi</td>\n",
              "      <td>a-5.txt</td>\n",
              "    </tr>\n",
              "    <tr>\n",
              "      <th>963</th>\n",
              "      <td>3069.0</td>\n",
              "      <td>3783.0</td>\n",
              "      <td>3965.0</td>\n",
              "      <td>3773.0</td>\n",
              "      <td>3351.0</td>\n",
              "      <td>a</td>\n",
              "      <td>nurhadi</td>\n",
              "      <td>a-5.txt</td>\n",
              "    </tr>\n",
              "    <tr>\n",
              "      <th>964</th>\n",
              "      <td>3066.0</td>\n",
              "      <td>3773.0</td>\n",
              "      <td>3971.0</td>\n",
              "      <td>3760.0</td>\n",
              "      <td>3346.0</td>\n",
              "      <td>a</td>\n",
              "      <td>nurhadi</td>\n",
              "      <td>a-5.txt</td>\n",
              "    </tr>\n",
              "  </tbody>\n",
              "</table>\n",
              "</div>\n",
              "    <div class=\"colab-df-buttons\">\n",
              "\n",
              "  <div class=\"colab-df-container\">\n",
              "    <button class=\"colab-df-convert\" onclick=\"convertToInteractive('df-5d114109-11f9-4cea-9945-83b3a0170596')\"\n",
              "            title=\"Convert this dataframe to an interactive table.\"\n",
              "            style=\"display:none;\">\n",
              "\n",
              "  <svg xmlns=\"http://www.w3.org/2000/svg\" height=\"24px\" viewBox=\"0 -960 960 960\">\n",
              "    <path d=\"M120-120v-720h720v720H120Zm60-500h600v-160H180v160Zm220 220h160v-160H400v160Zm0 220h160v-160H400v160ZM180-400h160v-160H180v160Zm440 0h160v-160H620v160ZM180-180h160v-160H180v160Zm440 0h160v-160H620v160Z\"/>\n",
              "  </svg>\n",
              "    </button>\n",
              "\n",
              "  <style>\n",
              "    .colab-df-container {\n",
              "      display:flex;\n",
              "      gap: 12px;\n",
              "    }\n",
              "\n",
              "    .colab-df-convert {\n",
              "      background-color: #E8F0FE;\n",
              "      border: none;\n",
              "      border-radius: 50%;\n",
              "      cursor: pointer;\n",
              "      display: none;\n",
              "      fill: #1967D2;\n",
              "      height: 32px;\n",
              "      padding: 0 0 0 0;\n",
              "      width: 32px;\n",
              "    }\n",
              "\n",
              "    .colab-df-convert:hover {\n",
              "      background-color: #E2EBFA;\n",
              "      box-shadow: 0px 1px 2px rgba(60, 64, 67, 0.3), 0px 1px 3px 1px rgba(60, 64, 67, 0.15);\n",
              "      fill: #174EA6;\n",
              "    }\n",
              "\n",
              "    .colab-df-buttons div {\n",
              "      margin-bottom: 4px;\n",
              "    }\n",
              "\n",
              "    [theme=dark] .colab-df-convert {\n",
              "      background-color: #3B4455;\n",
              "      fill: #D2E3FC;\n",
              "    }\n",
              "\n",
              "    [theme=dark] .colab-df-convert:hover {\n",
              "      background-color: #434B5C;\n",
              "      box-shadow: 0px 1px 3px 1px rgba(0, 0, 0, 0.15);\n",
              "      filter: drop-shadow(0px 1px 2px rgba(0, 0, 0, 0.3));\n",
              "      fill: #FFFFFF;\n",
              "    }\n",
              "  </style>\n",
              "\n",
              "    <script>\n",
              "      const buttonEl =\n",
              "        document.querySelector('#df-5d114109-11f9-4cea-9945-83b3a0170596 button.colab-df-convert');\n",
              "      buttonEl.style.display =\n",
              "        google.colab.kernel.accessAllowed ? 'block' : 'none';\n",
              "\n",
              "      async function convertToInteractive(key) {\n",
              "        const element = document.querySelector('#df-5d114109-11f9-4cea-9945-83b3a0170596');\n",
              "        const dataTable =\n",
              "          await google.colab.kernel.invokeFunction('convertToInteractive',\n",
              "                                                    [key], {});\n",
              "        if (!dataTable) return;\n",
              "\n",
              "        const docLinkHtml = 'Like what you see? Visit the ' +\n",
              "          '<a target=\"_blank\" href=https://colab.research.google.com/notebooks/data_table.ipynb>data table notebook</a>'\n",
              "          + ' to learn more about interactive tables.';\n",
              "        element.innerHTML = '';\n",
              "        dataTable['output_type'] = 'display_data';\n",
              "        await google.colab.output.renderOutput(dataTable, element);\n",
              "        const docLink = document.createElement('div');\n",
              "        docLink.innerHTML = docLinkHtml;\n",
              "        element.appendChild(docLink);\n",
              "      }\n",
              "    </script>\n",
              "  </div>\n",
              "\n",
              "\n",
              "    <div id=\"df-3e879154-8a30-439d-b651-da9f96515f45\">\n",
              "      <button class=\"colab-df-quickchart\" onclick=\"quickchart('df-3e879154-8a30-439d-b651-da9f96515f45')\"\n",
              "                title=\"Suggest charts\"\n",
              "                style=\"display:none;\">\n",
              "\n",
              "<svg xmlns=\"http://www.w3.org/2000/svg\" height=\"24px\"viewBox=\"0 0 24 24\"\n",
              "     width=\"24px\">\n",
              "    <g>\n",
              "        <path d=\"M19 3H5c-1.1 0-2 .9-2 2v14c0 1.1.9 2 2 2h14c1.1 0 2-.9 2-2V5c0-1.1-.9-2-2-2zM9 17H7v-7h2v7zm4 0h-2V7h2v10zm4 0h-2v-4h2v4z\"/>\n",
              "    </g>\n",
              "</svg>\n",
              "      </button>\n",
              "\n",
              "<style>\n",
              "  .colab-df-quickchart {\n",
              "      --bg-color: #E8F0FE;\n",
              "      --fill-color: #1967D2;\n",
              "      --hover-bg-color: #E2EBFA;\n",
              "      --hover-fill-color: #174EA6;\n",
              "      --disabled-fill-color: #AAA;\n",
              "      --disabled-bg-color: #DDD;\n",
              "  }\n",
              "\n",
              "  [theme=dark] .colab-df-quickchart {\n",
              "      --bg-color: #3B4455;\n",
              "      --fill-color: #D2E3FC;\n",
              "      --hover-bg-color: #434B5C;\n",
              "      --hover-fill-color: #FFFFFF;\n",
              "      --disabled-bg-color: #3B4455;\n",
              "      --disabled-fill-color: #666;\n",
              "  }\n",
              "\n",
              "  .colab-df-quickchart {\n",
              "    background-color: var(--bg-color);\n",
              "    border: none;\n",
              "    border-radius: 50%;\n",
              "    cursor: pointer;\n",
              "    display: none;\n",
              "    fill: var(--fill-color);\n",
              "    height: 32px;\n",
              "    padding: 0;\n",
              "    width: 32px;\n",
              "  }\n",
              "\n",
              "  .colab-df-quickchart:hover {\n",
              "    background-color: var(--hover-bg-color);\n",
              "    box-shadow: 0 1px 2px rgba(60, 64, 67, 0.3), 0 1px 3px 1px rgba(60, 64, 67, 0.15);\n",
              "    fill: var(--button-hover-fill-color);\n",
              "  }\n",
              "\n",
              "  .colab-df-quickchart-complete:disabled,\n",
              "  .colab-df-quickchart-complete:disabled:hover {\n",
              "    background-color: var(--disabled-bg-color);\n",
              "    fill: var(--disabled-fill-color);\n",
              "    box-shadow: none;\n",
              "  }\n",
              "\n",
              "  .colab-df-spinner {\n",
              "    border: 2px solid var(--fill-color);\n",
              "    border-color: transparent;\n",
              "    border-bottom-color: var(--fill-color);\n",
              "    animation:\n",
              "      spin 1s steps(1) infinite;\n",
              "  }\n",
              "\n",
              "  @keyframes spin {\n",
              "    0% {\n",
              "      border-color: transparent;\n",
              "      border-bottom-color: var(--fill-color);\n",
              "      border-left-color: var(--fill-color);\n",
              "    }\n",
              "    20% {\n",
              "      border-color: transparent;\n",
              "      border-left-color: var(--fill-color);\n",
              "      border-top-color: var(--fill-color);\n",
              "    }\n",
              "    30% {\n",
              "      border-color: transparent;\n",
              "      border-left-color: var(--fill-color);\n",
              "      border-top-color: var(--fill-color);\n",
              "      border-right-color: var(--fill-color);\n",
              "    }\n",
              "    40% {\n",
              "      border-color: transparent;\n",
              "      border-right-color: var(--fill-color);\n",
              "      border-top-color: var(--fill-color);\n",
              "    }\n",
              "    60% {\n",
              "      border-color: transparent;\n",
              "      border-right-color: var(--fill-color);\n",
              "    }\n",
              "    80% {\n",
              "      border-color: transparent;\n",
              "      border-right-color: var(--fill-color);\n",
              "      border-bottom-color: var(--fill-color);\n",
              "    }\n",
              "    90% {\n",
              "      border-color: transparent;\n",
              "      border-bottom-color: var(--fill-color);\n",
              "    }\n",
              "  }\n",
              "</style>\n",
              "\n",
              "      <script>\n",
              "        async function quickchart(key) {\n",
              "          const quickchartButtonEl =\n",
              "            document.querySelector('#' + key + ' button');\n",
              "          quickchartButtonEl.disabled = true;  // To prevent multiple clicks.\n",
              "          quickchartButtonEl.classList.add('colab-df-spinner');\n",
              "          try {\n",
              "            const charts = await google.colab.kernel.invokeFunction(\n",
              "                'suggestCharts', [key], {});\n",
              "          } catch (error) {\n",
              "            console.error('Error during call to suggestCharts:', error);\n",
              "          }\n",
              "          quickchartButtonEl.classList.remove('colab-df-spinner');\n",
              "          quickchartButtonEl.classList.add('colab-df-quickchart-complete');\n",
              "        }\n",
              "        (() => {\n",
              "          let quickchartButtonEl =\n",
              "            document.querySelector('#df-3e879154-8a30-439d-b651-da9f96515f45 button');\n",
              "          quickchartButtonEl.style.display =\n",
              "            google.colab.kernel.accessAllowed ? 'block' : 'none';\n",
              "        })();\n",
              "      </script>\n",
              "    </div>\n",
              "\n",
              "    </div>\n",
              "  </div>\n"
            ],
            "application/vnd.google.colaboratory.intrinsic+json": {
              "type": "dataframe",
              "variable_name": "data_df",
              "summary": "{\n  \"name\": \"data_df\",\n  \"rows\": 30791,\n  \"fields\": [\n    {\n      \"column\": \"finger1\",\n      \"properties\": {\n        \"dtype\": \"number\",\n        \"std\": 230.9481697228892,\n        \"min\": 154.0,\n        \"max\": 4034.0,\n        \"num_unique_values\": 953,\n        \"samples\": [\n          3394.0,\n          3870.0,\n          3708.0\n        ],\n        \"semantic_type\": \"\",\n        \"description\": \"\"\n      }\n    },\n    {\n      \"column\": \"finger2\",\n      \"properties\": {\n        \"dtype\": \"number\",\n        \"std\": 277.8864365646604,\n        \"min\": 2807.0,\n        \"max\": 4030.0,\n        \"num_unique_values\": 1020,\n        \"samples\": [\n          3359.0,\n          3558.0,\n          3353.0\n        ],\n        \"semantic_type\": \"\",\n        \"description\": \"\"\n      }\n    },\n    {\n      \"column\": \"finger3\",\n      \"properties\": {\n        \"dtype\": \"number\",\n        \"std\": 241.22164318486765,\n        \"min\": 3055.0,\n        \"max\": 4095.0,\n        \"num_unique_values\": 922,\n        \"samples\": [\n          3143.0,\n          3529.0,\n          3560.0\n        ],\n        \"semantic_type\": \"\",\n        \"description\": \"\"\n      }\n    },\n    {\n      \"column\": \"finger4\",\n      \"properties\": {\n        \"dtype\": \"number\",\n        \"std\": 237.9332398897521,\n        \"min\": 2945.0,\n        \"max\": 4022.0,\n        \"num_unique_values\": 1004,\n        \"samples\": [\n          3257.0,\n          3873.0,\n          3101.0\n        ],\n        \"semantic_type\": \"\",\n        \"description\": \"\"\n      }\n    },\n    {\n      \"column\": \"finger5\",\n      \"properties\": {\n        \"dtype\": \"number\",\n        \"std\": 233.7341705614746,\n        \"min\": 2734.0,\n        \"max\": 3643.0,\n        \"num_unique_values\": 858,\n        \"samples\": [\n          3044.0,\n          3442.0,\n          3286.0\n        ],\n        \"semantic_type\": \"\",\n        \"description\": \"\"\n      }\n    },\n    {\n      \"column\": \"label\",\n      \"properties\": {\n        \"dtype\": \"category\",\n        \"num_unique_values\": 26,\n        \"samples\": [\n          \"i\",\n          \"q\",\n          \"a\"\n        ],\n        \"semantic_type\": \"\",\n        \"description\": \"\"\n      }\n    },\n    {\n      \"column\": \"name\",\n      \"properties\": {\n        \"dtype\": \"category\",\n        \"num_unique_values\": 5,\n        \"samples\": [\n          \"amalia\",\n          \"bayu\",\n          \"timo\"\n        ],\n        \"semantic_type\": \"\",\n        \"description\": \"\"\n      }\n    },\n    {\n      \"column\": \"file\",\n      \"properties\": {\n        \"dtype\": \"category\",\n        \"num_unique_values\": 385,\n        \"samples\": [\n          \"r-13.txt\",\n          \"q-15.txt\",\n          \"x-12.txt\"\n        ],\n        \"semantic_type\": \"\",\n        \"description\": \"\"\n      }\n    }\n  ]\n}"
            }
          },
          "metadata": {},
          "execution_count": 6
        }
      ],
      "source": [
        "# @title <p> Create Dataframe\n",
        "data_df = pd.DataFrame(data_arr, columns = columns)\n",
        "data_df = data_df.drop(['acc_x', 'acc_y', 'acc_z', 'gir_x', 'gir_y', 'gir_z'], axis=1)\n",
        "data_df = data_df.sort_index()\n",
        "data_df = data_df.sort_values(by='label', kind='stable')\n",
        "data_df.head()"
      ]
    },
    {
      "cell_type": "markdown",
      "metadata": {
        "id": "Ld4ax3vEYIzp"
      },
      "source": [
        "#DATA VISUALIZATION"
      ]
    },
    {
      "cell_type": "code",
      "execution_count": 7,
      "metadata": {
        "id": "OECxJiHgM3W5"
      },
      "outputs": [],
      "source": [
        "# @title <p> Create Variable for Sensor Visualization Check\n",
        "PARTICIPANT_NAME = \"timo\" #@param{type: 'string'}\n",
        "LETTER_PRINT = \"p\" #@param{type: 'string'}\n",
        "FILE_PRINT = [f'{LETTER_PRINT}-{n}.txt' for n in range(1,6)]"
      ]
    },
    {
      "cell_type": "code",
      "execution_count": 8,
      "metadata": {
        "colab": {
          "base_uri": "https://localhost:8080/",
          "height": 0
        },
        "id": "kTcU977UYIiF",
        "outputId": "7325a9ff-da61-4eee-cd2d-b7a0ec94bb33"
      },
      "outputs": [
        {
          "output_type": "display_data",
          "data": {
            "text/plain": [
              "<Figure size 1000x2000 with 5 Axes>"
            ],
            "image/png": "[encoded data removed]"
          },
          "metadata": {}
        }
      ],
      "source": [
        "# @title <p> Check Flex Sensor Data\n",
        "def sensor_viz_flex(data, name, letter, file_print):\n",
        "  data_viz = data[data['name'] == name]\n",
        "  data_viz = data_viz[data_viz['label'] == letter]\n",
        "\n",
        "  # Create subplots\n",
        "  fig, axes = plt.subplots(5, 1, figsize=(10, 20))\n",
        "  axes = axes.flatten()  # Flatten the 2x2 array of axes for easy iteration\n",
        "\n",
        "  # Loop through the data and axes to create subplots\n",
        "  for i, ax in enumerate(axes):\n",
        "    if i < len(file_print):\n",
        "        file = file_print[i]\n",
        "        data_to_plot = data_viz[data_viz[\"file\"] == file]\n",
        "        # print(data_to_plot.iloc[:,0:5])\n",
        "\n",
        "        time = np.linspace(0, 3, data_to_plot.shape[0])\n",
        "\n",
        "        for j in range(5):\n",
        "          ax.plot(time, data_to_plot.iloc[:,j], label=f'flex{j+1}')\n",
        "\n",
        "        ax.set_title(f'File {name} {file}')\n",
        "        ax.set_xlabel('waktu (s)')\n",
        "        ax.set_ylabel('resistansi sensor flex (ohm)')\n",
        "        ax.legend()\n",
        "    else:\n",
        "        ax.axis('off')  # Turn off empty subplots\n",
        "\n",
        "  plt.tight_layout()\n",
        "  plt.show()\n",
        "\n",
        "sensor_viz_flex(data_df, PARTICIPANT_NAME, LETTER_PRINT, FILE_PRINT)"
      ]
    },
    {
      "cell_type": "markdown",
      "metadata": {
        "id": "pCXrcHPiSST3"
      },
      "source": [
        "# DATA CONFIG IMPORT"
      ]
    },
    {
      "cell_type": "code",
      "execution_count": null,
      "metadata": {
        "colab": {
          "base_uri": "https://localhost:8080/"
        },
        "id": "wnbbaDmpXksR",
        "outputId": "46e0dfb5-c6a8-4da9-881a-e8482a638266"
      },
      "outputs": [
        {
          "name": "stdout",
          "output_type": "stream",
          "text": [
            "max of 1'st finger : 2718.0, \n",
            "min of 1'st finger : 2555.0, \n",
            "max of 2'st finger : 2735.0, \n",
            "min of 2'st finger : 2608.0, \n",
            "max of 3'st finger : 3711.0, \n",
            "min of 3'st finger : 3278.0, \n",
            "max of 4'st finger : 3275.0, \n",
            "min of 4'st finger : 3148.0, \n",
            "max of 5'st finger : 3066.0, \n",
            "min of 5'st finger : 2797.0, \n",
            "\n"
          ]
        }
      ],
      "source": [
        "# @title <p> Check txt File Contents\n",
        "f = open(os.path.join(CONFIG_DIR, 'ade.txt'), 'r')\n",
        "contents = f.read()\n",
        "print(contents)"
      ]
    },
    {
      "cell_type": "code",
      "execution_count": null,
      "metadata": {
        "id": "x__VyFwtScDt"
      },
      "outputs": [],
      "source": [
        "# @title <p> Formatting Config Data\n",
        "minmax_fingers = ['max_1',\n",
        "           'min_1',\n",
        "           'max_2',\n",
        "           'min_2',\n",
        "           'max_3',\n",
        "           'min_3',\n",
        "           'max_4',\n",
        "           'min_4',\n",
        "           'max_5',\n",
        "           'min_5']\n",
        "config_participants = [a for a in os.listdir(CONFIG_DIR)]\n",
        "config_dict = {participant : {config_fingers : [] for config_fingers in minmax_fingers} for participant in config_participants}\n",
        "config_dict_cleaned = {participant : {config_fingers : [] for config_fingers in minmax_fingers} for participant in config_participants}\n",
        "\n",
        "#read each file by participant name\n",
        "for name in os.listdir(CONFIG_DIR):\n",
        "  data_path = os.path.join(CONFIG_DIR, name)\n",
        "  with open(data_path, 'r') as f:\n",
        "    content = f.read().splitlines()\n",
        "    for i, finger in enumerate(minmax_fingers):\n",
        "      data_line = float(content[i].split(':')[-1][:-2].strip())\n",
        "      config_dict_cleaned[name][finger].append(data_line)"
      ]
    },
    {
      "cell_type": "code",
      "execution_count": null,
      "metadata": {
        "colab": {
          "base_uri": "https://localhost:8080/"
        },
        "collapsed": true,
        "id": "A8E6alJga-zl",
        "outputId": "96de7246-db9f-440b-c7c7-674609c0f849"
      },
      "outputs": [
        {
          "data": {
            "text/plain": [
              "{'max_1': [2718.0],\n",
              " 'min_1': [2555.0],\n",
              " 'max_2': [2735.0],\n",
              " 'min_2': [2608.0],\n",
              " 'max_3': [3711.0],\n",
              " 'min_3': [3278.0],\n",
              " 'max_4': [3275.0],\n",
              " 'min_4': [3148.0],\n",
              " 'max_5': [3066.0],\n",
              " 'min_5': [2797.0]}"
            ]
          },
          "execution_count": 11,
          "metadata": {},
          "output_type": "execute_result"
        }
      ],
      "source": [
        "# @title <p> Check Formatted Config Data\n",
        "config_dict_cleaned['ade.txt']"
      ]
    },
    {
      "cell_type": "code",
      "execution_count": null,
      "metadata": {
        "id": "r8YZhxFrXMpA"
      },
      "outputs": [],
      "source": [
        "config_dict_cleaned['additional.txt'] = {\n",
        "    'max_1': [4100.0],\n",
        "    'min_1': [2500.0],\n",
        "    'max_2': [4100.0],\n",
        "    'min_2': [2500.0],\n",
        "    'max_3': [4100.0],\n",
        "    'min_3': [2500.0],\n",
        "    'max_4': [4100.0],\n",
        "    'min_4': [2500.0],\n",
        "    'max_5': [4100.0],\n",
        "    'min_5': [2500.0]\n",
        "}"
      ]
    },
    {
      "cell_type": "code",
      "execution_count": null,
      "metadata": {
        "colab": {
          "base_uri": "https://localhost:8080/",
          "height": 617
        },
        "id": "VJFSIzNo36TO",
        "outputId": "8809a1d9-0219-4bf0-dbb2-ec8d8dfcea8b"
      },
      "outputs": [
        {
          "data": {
            "application/vnd.google.colaboratory.intrinsic+json": {
              "summary": "{\n  \"name\": \"data_df\",\n  \"rows\": 30791,\n  \"fields\": [\n    {\n      \"column\": \"finger1\",\n      \"properties\": {\n        \"dtype\": \"number\",\n        \"std\": 230.94816972288902,\n        \"min\": 154.0,\n        \"max\": 4034.0,\n        \"num_unique_values\": 953,\n        \"samples\": [\n          3411.0,\n          3545.0,\n          3738.0\n        ],\n        \"semantic_type\": \"\",\n        \"description\": \"\"\n      }\n    },\n    {\n      \"column\": \"finger2\",\n      \"properties\": {\n        \"dtype\": \"number\",\n        \"std\": 277.8864365646608,\n        \"min\": 2807.0,\n        \"max\": 4030.0,\n        \"num_unique_values\": 1020,\n        \"samples\": [\n          3338.0,\n          3452.0,\n          3336.0\n        ],\n        \"semantic_type\": \"\",\n        \"description\": \"\"\n      }\n    },\n    {\n      \"column\": \"finger3\",\n      \"properties\": {\n        \"dtype\": \"number\",\n        \"std\": 241.22164318486804,\n        \"min\": 3055.0,\n        \"max\": 4095.0,\n        \"num_unique_values\": 922,\n        \"samples\": [\n          3163.0,\n          3137.0,\n          3642.0\n        ],\n        \"semantic_type\": \"\",\n        \"description\": \"\"\n      }\n    },\n    {\n      \"column\": \"finger4\",\n      \"properties\": {\n        \"dtype\": \"number\",\n        \"std\": 237.933239889752,\n        \"min\": 2945.0,\n        \"max\": 4022.0,\n        \"num_unique_values\": 1004,\n        \"samples\": [\n          3260.0,\n          3916.0,\n          2982.0\n        ],\n        \"semantic_type\": \"\",\n        \"description\": \"\"\n      }\n    },\n    {\n      \"column\": \"finger5\",\n      \"properties\": {\n        \"dtype\": \"number\",\n        \"std\": 233.73417056147434,\n        \"min\": 2734.0,\n        \"max\": 3643.0,\n        \"num_unique_values\": 858,\n        \"samples\": [\n          3166.0,\n          3158.0,\n          3281.0\n        ],\n        \"semantic_type\": \"\",\n        \"description\": \"\"\n      }\n    },\n    {\n      \"column\": \"label\",\n      \"properties\": {\n        \"dtype\": \"category\",\n        \"num_unique_values\": 26,\n        \"samples\": [\n          \"i\",\n          \"q\",\n          \"a\"\n        ],\n        \"semantic_type\": \"\",\n        \"description\": \"\"\n      }\n    },\n    {\n      \"column\": \"name\",\n      \"properties\": {\n        \"dtype\": \"category\",\n        \"num_unique_values\": 5,\n        \"samples\": [\n          \"amalia\",\n          \"additional\",\n          \"nurhadi\"\n        ],\n        \"semantic_type\": \"\",\n        \"description\": \"\"\n      }\n    },\n    {\n      \"column\": \"file\",\n      \"properties\": {\n        \"dtype\": \"category\",\n        \"num_unique_values\": 385,\n        \"samples\": [\n          \"r-13.txt\",\n          \"q-13.txt\",\n          \"x-12.txt\"\n        ],\n        \"semantic_type\": \"\",\n        \"description\": \"\"\n      }\n    },\n    {\n      \"column\": \"max_1\",\n      \"properties\": {\n        \"dtype\": \"number\",\n        \"std\": 279.55081140104204,\n        \"min\": 3454.0,\n        \"max\": 4100.0,\n        \"num_unique_values\": 5,\n        \"samples\": [\n          3582.0,\n          4100.0,\n          3536.0\n        ],\n        \"semantic_type\": \"\",\n        \"description\": \"\"\n      }\n    },\n    {\n      \"column\": \"min_1\",\n      \"properties\": {\n        \"dtype\": \"number\",\n        \"std\": 235.96058094544225,\n        \"min\": 2500.0,\n        \"max\": 3043.0,\n        \"num_unique_values\": 5,\n        \"samples\": [\n          3039.0,\n          2500.0,\n          2959.0\n        ],\n        \"semantic_type\": \"\",\n        \"description\": \"\"\n      }\n    },\n    {\n      \"column\": \"max_2\",\n      \"properties\": {\n        \"dtype\": \"number\",\n        \"std\": 246.0940400323349,\n        \"min\": 3549.0,\n        \"max\": 4100.0,\n        \"num_unique_values\": 5,\n        \"samples\": [\n          3615.0,\n          4100.0,\n          3549.0\n        ],\n        \"semantic_type\": \"\",\n        \"description\": \"\"\n      }\n    },\n    {\n      \"column\": \"min_2\",\n      \"properties\": {\n        \"dtype\": \"number\",\n        \"std\": 237.40666208616497,\n        \"min\": 2500.0,\n        \"max\": 3059.0,\n        \"num_unique_values\": 5,\n        \"samples\": [\n          3038.0,\n          2500.0,\n          2980.0\n        ],\n        \"semantic_type\": \"\",\n        \"description\": \"\"\n      }\n    },\n    {\n      \"column\": \"max_3\",\n      \"properties\": {\n        \"dtype\": \"number\",\n        \"std\": 209.20304699904477,\n        \"min\": 3548.0,\n        \"max\": 4100.0,\n        \"num_unique_values\": 5,\n        \"samples\": [\n          3756.0,\n          4100.0,\n          3548.0\n        ],\n        \"semantic_type\": \"\",\n        \"description\": \"\"\n      }\n    },\n    {\n      \"column\": \"min_3\",\n      \"properties\": {\n        \"dtype\": \"number\",\n        \"std\": 360.6296039557525,\n        \"min\": 2500.0,\n        \"max\": 3371.0,\n        \"num_unique_values\": 5,\n        \"samples\": [\n          3247.0,\n          2500.0,\n          3218.0\n        ],\n        \"semantic_type\": \"\",\n        \"description\": \"\"\n      }\n    },\n    {\n      \"column\": \"max_4\",\n      \"properties\": {\n        \"dtype\": \"number\",\n        \"std\": 198.45667192743704,\n        \"min\": 3658.0,\n        \"max\": 4100.0,\n        \"num_unique_values\": 5,\n        \"samples\": [\n          3724.0,\n          4100.0,\n          3697.0\n        ],\n        \"semantic_type\": \"\",\n        \"description\": \"\"\n      }\n    },\n    {\n      \"column\": \"min_4\",\n      \"properties\": {\n        \"dtype\": \"number\",\n        \"std\": 245.8598906072506,\n        \"min\": 2500.0,\n        \"max\": 3063.0,\n        \"num_unique_values\": 5,\n        \"samples\": [\n          3019.0,\n          2500.0,\n          3023.0\n        ],\n        \"semantic_type\": \"\",\n        \"description\": \"\"\n      }\n    },\n    {\n      \"column\": \"max_5\",\n      \"properties\": {\n        \"dtype\": \"number\",\n        \"std\": 414.68411791146826,\n        \"min\": 3104.0,\n        \"max\": 4100.0,\n        \"num_unique_values\": 5,\n        \"samples\": [\n          3104.0,\n          4100.0,\n          3214.0\n        ],\n        \"semantic_type\": \"\",\n        \"description\": \"\"\n      }\n    },\n    {\n      \"column\": \"min_5\",\n      \"properties\": {\n        \"dtype\": \"number\",\n        \"std\": 217.8922271739147,\n        \"min\": 2500.0,\n        \"max\": 3054.0,\n        \"num_unique_values\": 5,\n        \"samples\": [\n          2758.0,\n          2500.0,\n          2800.0\n        ],\n        \"semantic_type\": \"\",\n        \"description\": \"\"\n      }\n    }\n  ]\n}",
              "type": "dataframe",
              "variable_name": "data_df"
            },
            "text/html": [
              "\n",
              "  <div id=\"df-766497b1-4d75-47b1-9d6d-903d6b9be63b\" class=\"colab-df-container\">\n",
              "    <div>\n",
              "<style scoped>\n",
              "    .dataframe tbody tr th:only-of-type {\n",
              "        vertical-align: middle;\n",
              "    }\n",
              "\n",
              "    .dataframe tbody tr th {\n",
              "        vertical-align: top;\n",
              "    }\n",
              "\n",
              "    .dataframe thead th {\n",
              "        text-align: right;\n",
              "    }\n",
              "</style>\n",
              "<table border=\"1\" class=\"dataframe\">\n",
              "  <thead>\n",
              "    <tr style=\"text-align: right;\">\n",
              "      <th></th>\n",
              "      <th>finger1</th>\n",
              "      <th>finger2</th>\n",
              "      <th>finger3</th>\n",
              "      <th>finger4</th>\n",
              "      <th>finger5</th>\n",
              "      <th>label</th>\n",
              "      <th>name</th>\n",
              "      <th>file</th>\n",
              "      <th>max_1</th>\n",
              "      <th>min_1</th>\n",
              "      <th>max_2</th>\n",
              "      <th>min_2</th>\n",
              "      <th>max_3</th>\n",
              "      <th>min_3</th>\n",
              "      <th>max_4</th>\n",
              "      <th>min_4</th>\n",
              "      <th>max_5</th>\n",
              "      <th>min_5</th>\n",
              "    </tr>\n",
              "  </thead>\n",
              "  <tbody>\n",
              "    <tr>\n",
              "      <th>1021</th>\n",
              "      <td>3151.0</td>\n",
              "      <td>3785.0</td>\n",
              "      <td>4049.0</td>\n",
              "      <td>3808.0</td>\n",
              "      <td>3383.0</td>\n",
              "      <td>a</td>\n",
              "      <td>bayu</td>\n",
              "      <td>a-5.txt</td>\n",
              "      <td>3664.0</td>\n",
              "      <td>3043.0</td>\n",
              "      <td>3718.0</td>\n",
              "      <td>3059.0</td>\n",
              "      <td>3805.0</td>\n",
              "      <td>3371.0</td>\n",
              "      <td>3730.0</td>\n",
              "      <td>3063.0</td>\n",
              "      <td>3113.0</td>\n",
              "      <td>2795.0</td>\n",
              "    </tr>\n",
              "    <tr>\n",
              "      <th>1022</th>\n",
              "      <td>3150.0</td>\n",
              "      <td>3786.0</td>\n",
              "      <td>4016.0</td>\n",
              "      <td>3803.0</td>\n",
              "      <td>3379.0</td>\n",
              "      <td>a</td>\n",
              "      <td>bayu</td>\n",
              "      <td>a-5.txt</td>\n",
              "      <td>3664.0</td>\n",
              "      <td>3043.0</td>\n",
              "      <td>3718.0</td>\n",
              "      <td>3059.0</td>\n",
              "      <td>3805.0</td>\n",
              "      <td>3371.0</td>\n",
              "      <td>3730.0</td>\n",
              "      <td>3063.0</td>\n",
              "      <td>3113.0</td>\n",
              "      <td>2795.0</td>\n",
              "    </tr>\n",
              "    <tr>\n",
              "      <th>1023</th>\n",
              "      <td>3145.0</td>\n",
              "      <td>3783.0</td>\n",
              "      <td>3974.0</td>\n",
              "      <td>3804.0</td>\n",
              "      <td>3379.0</td>\n",
              "      <td>a</td>\n",
              "      <td>bayu</td>\n",
              "      <td>a-5.txt</td>\n",
              "      <td>3664.0</td>\n",
              "      <td>3043.0</td>\n",
              "      <td>3718.0</td>\n",
              "      <td>3059.0</td>\n",
              "      <td>3805.0</td>\n",
              "      <td>3371.0</td>\n",
              "      <td>3730.0</td>\n",
              "      <td>3063.0</td>\n",
              "      <td>3113.0</td>\n",
              "      <td>2795.0</td>\n",
              "    </tr>\n",
              "    <tr>\n",
              "      <th>1024</th>\n",
              "      <td>3143.0</td>\n",
              "      <td>3781.0</td>\n",
              "      <td>3856.0</td>\n",
              "      <td>3805.0</td>\n",
              "      <td>3378.0</td>\n",
              "      <td>a</td>\n",
              "      <td>bayu</td>\n",
              "      <td>a-5.txt</td>\n",
              "      <td>3664.0</td>\n",
              "      <td>3043.0</td>\n",
              "      <td>3718.0</td>\n",
              "      <td>3059.0</td>\n",
              "      <td>3805.0</td>\n",
              "      <td>3371.0</td>\n",
              "      <td>3730.0</td>\n",
              "      <td>3063.0</td>\n",
              "      <td>3113.0</td>\n",
              "      <td>2795.0</td>\n",
              "    </tr>\n",
              "    <tr>\n",
              "      <th>1025</th>\n",
              "      <td>3147.0</td>\n",
              "      <td>3776.0</td>\n",
              "      <td>3856.0</td>\n",
              "      <td>3804.0</td>\n",
              "      <td>3376.0</td>\n",
              "      <td>a</td>\n",
              "      <td>bayu</td>\n",
              "      <td>a-5.txt</td>\n",
              "      <td>3664.0</td>\n",
              "      <td>3043.0</td>\n",
              "      <td>3718.0</td>\n",
              "      <td>3059.0</td>\n",
              "      <td>3805.0</td>\n",
              "      <td>3371.0</td>\n",
              "      <td>3730.0</td>\n",
              "      <td>3063.0</td>\n",
              "      <td>3113.0</td>\n",
              "      <td>2795.0</td>\n",
              "    </tr>\n",
              "    <tr>\n",
              "      <th>...</th>\n",
              "      <td>...</td>\n",
              "      <td>...</td>\n",
              "      <td>...</td>\n",
              "      <td>...</td>\n",
              "      <td>...</td>\n",
              "      <td>...</td>\n",
              "      <td>...</td>\n",
              "      <td>...</td>\n",
              "      <td>...</td>\n",
              "      <td>...</td>\n",
              "      <td>...</td>\n",
              "      <td>...</td>\n",
              "      <td>...</td>\n",
              "      <td>...</td>\n",
              "      <td>...</td>\n",
              "      <td>...</td>\n",
              "      <td>...</td>\n",
              "      <td>...</td>\n",
              "    </tr>\n",
              "    <tr>\n",
              "      <th>20893</th>\n",
              "      <td>3583.0</td>\n",
              "      <td>3189.0</td>\n",
              "      <td>3862.0</td>\n",
              "      <td>3463.0</td>\n",
              "      <td>3388.0</td>\n",
              "      <td>z</td>\n",
              "      <td>additional</td>\n",
              "      <td>z-4.txt</td>\n",
              "      <td>4100.0</td>\n",
              "      <td>2500.0</td>\n",
              "      <td>4100.0</td>\n",
              "      <td>2500.0</td>\n",
              "      <td>4100.0</td>\n",
              "      <td>2500.0</td>\n",
              "      <td>4100.0</td>\n",
              "      <td>2500.0</td>\n",
              "      <td>4100.0</td>\n",
              "      <td>2500.0</td>\n",
              "    </tr>\n",
              "    <tr>\n",
              "      <th>20894</th>\n",
              "      <td>3601.0</td>\n",
              "      <td>3201.0</td>\n",
              "      <td>3869.0</td>\n",
              "      <td>3473.0</td>\n",
              "      <td>3405.0</td>\n",
              "      <td>z</td>\n",
              "      <td>additional</td>\n",
              "      <td>z-4.txt</td>\n",
              "      <td>4100.0</td>\n",
              "      <td>2500.0</td>\n",
              "      <td>4100.0</td>\n",
              "      <td>2500.0</td>\n",
              "      <td>4100.0</td>\n",
              "      <td>2500.0</td>\n",
              "      <td>4100.0</td>\n",
              "      <td>2500.0</td>\n",
              "      <td>4100.0</td>\n",
              "      <td>2500.0</td>\n",
              "    </tr>\n",
              "    <tr>\n",
              "      <th>20895</th>\n",
              "      <td>3583.0</td>\n",
              "      <td>3200.0</td>\n",
              "      <td>3866.0</td>\n",
              "      <td>3475.0</td>\n",
              "      <td>3417.0</td>\n",
              "      <td>z</td>\n",
              "      <td>additional</td>\n",
              "      <td>z-4.txt</td>\n",
              "      <td>4100.0</td>\n",
              "      <td>2500.0</td>\n",
              "      <td>4100.0</td>\n",
              "      <td>2500.0</td>\n",
              "      <td>4100.0</td>\n",
              "      <td>2500.0</td>\n",
              "      <td>4100.0</td>\n",
              "      <td>2500.0</td>\n",
              "      <td>4100.0</td>\n",
              "      <td>2500.0</td>\n",
              "    </tr>\n",
              "    <tr>\n",
              "      <th>20896</th>\n",
              "      <td>3573.0</td>\n",
              "      <td>3196.0</td>\n",
              "      <td>3866.0</td>\n",
              "      <td>3472.0</td>\n",
              "      <td>3428.0</td>\n",
              "      <td>z</td>\n",
              "      <td>additional</td>\n",
              "      <td>z-4.txt</td>\n",
              "      <td>4100.0</td>\n",
              "      <td>2500.0</td>\n",
              "      <td>4100.0</td>\n",
              "      <td>2500.0</td>\n",
              "      <td>4100.0</td>\n",
              "      <td>2500.0</td>\n",
              "      <td>4100.0</td>\n",
              "      <td>2500.0</td>\n",
              "      <td>4100.0</td>\n",
              "      <td>2500.0</td>\n",
              "    </tr>\n",
              "    <tr>\n",
              "      <th>20897</th>\n",
              "      <td>3583.0</td>\n",
              "      <td>3197.0</td>\n",
              "      <td>3881.0</td>\n",
              "      <td>3483.0</td>\n",
              "      <td>3461.0</td>\n",
              "      <td>z</td>\n",
              "      <td>additional</td>\n",
              "      <td>z-4.txt</td>\n",
              "      <td>4100.0</td>\n",
              "      <td>2500.0</td>\n",
              "      <td>4100.0</td>\n",
              "      <td>2500.0</td>\n",
              "      <td>4100.0</td>\n",
              "      <td>2500.0</td>\n",
              "      <td>4100.0</td>\n",
              "      <td>2500.0</td>\n",
              "      <td>4100.0</td>\n",
              "      <td>2500.0</td>\n",
              "    </tr>\n",
              "  </tbody>\n",
              "</table>\n",
              "<p>30791 rows × 18 columns</p>\n",
              "</div>\n",
              "    <div class=\"colab-df-buttons\">\n",
              "\n",
              "  <div class=\"colab-df-container\">\n",
              "    <button class=\"colab-df-convert\" onclick=\"convertToInteractive('df-766497b1-4d75-47b1-9d6d-903d6b9be63b')\"\n",
              "            title=\"Convert this dataframe to an interactive table.\"\n",
              "            style=\"display:none;\">\n",
              "\n",
              "  <svg xmlns=\"http://www.w3.org/2000/svg\" height=\"24px\" viewBox=\"0 -960 960 960\">\n",
              "    <path d=\"M120-120v-720h720v720H120Zm60-500h600v-160H180v160Zm220 220h160v-160H400v160Zm0 220h160v-160H400v160ZM180-400h160v-160H180v160Zm440 0h160v-160H620v160ZM180-180h160v-160H180v160Zm440 0h160v-160H620v160Z\"/>\n",
              "  </svg>\n",
              "    </button>\n",
              "\n",
              "  <style>\n",
              "    .colab-df-container {\n",
              "      display:flex;\n",
              "      gap: 12px;\n",
              "    }\n",
              "\n",
              "    .colab-df-convert {\n",
              "      background-color: #E8F0FE;\n",
              "      border: none;\n",
              "      border-radius: 50%;\n",
              "      cursor: pointer;\n",
              "      display: none;\n",
              "      fill: #1967D2;\n",
              "      height: 32px;\n",
              "      padding: 0 0 0 0;\n",
              "      width: 32px;\n",
              "    }\n",
              "\n",
              "    .colab-df-convert:hover {\n",
              "      background-color: #E2EBFA;\n",
              "      box-shadow: 0px 1px 2px rgba(60, 64, 67, 0.3), 0px 1px 3px 1px rgba(60, 64, 67, 0.15);\n",
              "      fill: #174EA6;\n",
              "    }\n",
              "\n",
              "    .colab-df-buttons div {\n",
              "      margin-bottom: 4px;\n",
              "    }\n",
              "\n",
              "    [theme=dark] .colab-df-convert {\n",
              "      background-color: #3B4455;\n",
              "      fill: #D2E3FC;\n",
              "    }\n",
              "\n",
              "    [theme=dark] .colab-df-convert:hover {\n",
              "      background-color: #434B5C;\n",
              "      box-shadow: 0px 1px 3px 1px rgba(0, 0, 0, 0.15);\n",
              "      filter: drop-shadow(0px 1px 2px rgba(0, 0, 0, 0.3));\n",
              "      fill: #FFFFFF;\n",
              "    }\n",
              "  </style>\n",
              "\n",
              "    <script>\n",
              "      const buttonEl =\n",
              "        document.querySelector('#df-766497b1-4d75-47b1-9d6d-903d6b9be63b button.colab-df-convert');\n",
              "      buttonEl.style.display =\n",
              "        google.colab.kernel.accessAllowed ? 'block' : 'none';\n",
              "\n",
              "      async function convertToInteractive(key) {\n",
              "        const element = document.querySelector('#df-766497b1-4d75-47b1-9d6d-903d6b9be63b');\n",
              "        const dataTable =\n",
              "          await google.colab.kernel.invokeFunction('convertToInteractive',\n",
              "                                                    [key], {});\n",
              "        if (!dataTable) return;\n",
              "\n",
              "        const docLinkHtml = 'Like what you see? Visit the ' +\n",
              "          '<a target=\"_blank\" href=https://colab.research.google.com/notebooks/data_table.ipynb>data table notebook</a>'\n",
              "          + ' to learn more about interactive tables.';\n",
              "        element.innerHTML = '';\n",
              "        dataTable['output_type'] = 'display_data';\n",
              "        await google.colab.output.renderOutput(dataTable, element);\n",
              "        const docLink = document.createElement('div');\n",
              "        docLink.innerHTML = docLinkHtml;\n",
              "        element.appendChild(docLink);\n",
              "      }\n",
              "    </script>\n",
              "  </div>\n",
              "\n",
              "\n",
              "    <div id=\"df-60cbed45-be42-432c-9212-6417c30c46ff\">\n",
              "      <button class=\"colab-df-quickchart\" onclick=\"quickchart('df-60cbed45-be42-432c-9212-6417c30c46ff')\"\n",
              "                title=\"Suggest charts\"\n",
              "                style=\"display:none;\">\n",
              "\n",
              "<svg xmlns=\"http://www.w3.org/2000/svg\" height=\"24px\"viewBox=\"0 0 24 24\"\n",
              "     width=\"24px\">\n",
              "    <g>\n",
              "        <path d=\"M19 3H5c-1.1 0-2 .9-2 2v14c0 1.1.9 2 2 2h14c1.1 0 2-.9 2-2V5c0-1.1-.9-2-2-2zM9 17H7v-7h2v7zm4 0h-2V7h2v10zm4 0h-2v-4h2v4z\"/>\n",
              "    </g>\n",
              "</svg>\n",
              "      </button>\n",
              "\n",
              "<style>\n",
              "  .colab-df-quickchart {\n",
              "      --bg-color: #E8F0FE;\n",
              "      --fill-color: #1967D2;\n",
              "      --hover-bg-color: #E2EBFA;\n",
              "      --hover-fill-color: #174EA6;\n",
              "      --disabled-fill-color: #AAA;\n",
              "      --disabled-bg-color: #DDD;\n",
              "  }\n",
              "\n",
              "  [theme=dark] .colab-df-quickchart {\n",
              "      --bg-color: #3B4455;\n",
              "      --fill-color: #D2E3FC;\n",
              "      --hover-bg-color: #434B5C;\n",
              "      --hover-fill-color: #FFFFFF;\n",
              "      --disabled-bg-color: #3B4455;\n",
              "      --disabled-fill-color: #666;\n",
              "  }\n",
              "\n",
              "  .colab-df-quickchart {\n",
              "    background-color: var(--bg-color);\n",
              "    border: none;\n",
              "    border-radius: 50%;\n",
              "    cursor: pointer;\n",
              "    display: none;\n",
              "    fill: var(--fill-color);\n",
              "    height: 32px;\n",
              "    padding: 0;\n",
              "    width: 32px;\n",
              "  }\n",
              "\n",
              "  .colab-df-quickchart:hover {\n",
              "    background-color: var(--hover-bg-color);\n",
              "    box-shadow: 0 1px 2px rgba(60, 64, 67, 0.3), 0 1px 3px 1px rgba(60, 64, 67, 0.15);\n",
              "    fill: var(--button-hover-fill-color);\n",
              "  }\n",
              "\n",
              "  .colab-df-quickchart-complete:disabled,\n",
              "  .colab-df-quickchart-complete:disabled:hover {\n",
              "    background-color: var(--disabled-bg-color);\n",
              "    fill: var(--disabled-fill-color);\n",
              "    box-shadow: none;\n",
              "  }\n",
              "\n",
              "  .colab-df-spinner {\n",
              "    border: 2px solid var(--fill-color);\n",
              "    border-color: transparent;\n",
              "    border-bottom-color: var(--fill-color);\n",
              "    animation:\n",
              "      spin 1s steps(1) infinite;\n",
              "  }\n",
              "\n",
              "  @keyframes spin {\n",
              "    0% {\n",
              "      border-color: transparent;\n",
              "      border-bottom-color: var(--fill-color);\n",
              "      border-left-color: var(--fill-color);\n",
              "    }\n",
              "    20% {\n",
              "      border-color: transparent;\n",
              "      border-left-color: var(--fill-color);\n",
              "      border-top-color: var(--fill-color);\n",
              "    }\n",
              "    30% {\n",
              "      border-color: transparent;\n",
              "      border-left-color: var(--fill-color);\n",
              "      border-top-color: var(--fill-color);\n",
              "      border-right-color: var(--fill-color);\n",
              "    }\n",
              "    40% {\n",
              "      border-color: transparent;\n",
              "      border-right-color: var(--fill-color);\n",
              "      border-top-color: var(--fill-color);\n",
              "    }\n",
              "    60% {\n",
              "      border-color: transparent;\n",
              "      border-right-color: var(--fill-color);\n",
              "    }\n",
              "    80% {\n",
              "      border-color: transparent;\n",
              "      border-right-color: var(--fill-color);\n",
              "      border-bottom-color: var(--fill-color);\n",
              "    }\n",
              "    90% {\n",
              "      border-color: transparent;\n",
              "      border-bottom-color: var(--fill-color);\n",
              "    }\n",
              "  }\n",
              "</style>\n",
              "\n",
              "      <script>\n",
              "        async function quickchart(key) {\n",
              "          const quickchartButtonEl =\n",
              "            document.querySelector('#' + key + ' button');\n",
              "          quickchartButtonEl.disabled = true;  // To prevent multiple clicks.\n",
              "          quickchartButtonEl.classList.add('colab-df-spinner');\n",
              "          try {\n",
              "            const charts = await google.colab.kernel.invokeFunction(\n",
              "                'suggestCharts', [key], {});\n",
              "          } catch (error) {\n",
              "            console.error('Error during call to suggestCharts:', error);\n",
              "          }\n",
              "          quickchartButtonEl.classList.remove('colab-df-spinner');\n",
              "          quickchartButtonEl.classList.add('colab-df-quickchart-complete');\n",
              "        }\n",
              "        (() => {\n",
              "          let quickchartButtonEl =\n",
              "            document.querySelector('#df-60cbed45-be42-432c-9212-6417c30c46ff button');\n",
              "          quickchartButtonEl.style.display =\n",
              "            google.colab.kernel.accessAllowed ? 'block' : 'none';\n",
              "        })();\n",
              "      </script>\n",
              "    </div>\n",
              "\n",
              "  <div id=\"id_b3a500da-074c-4297-9c83-ee3d39c53da1\">\n",
              "    <style>\n",
              "      .colab-df-generate {\n",
              "        background-color: #E8F0FE;\n",
              "        border: none;\n",
              "        border-radius: 50%;\n",
              "        cursor: pointer;\n",
              "        display: none;\n",
              "        fill: #1967D2;\n",
              "        height: 32px;\n",
              "        padding: 0 0 0 0;\n",
              "        width: 32px;\n",
              "      }\n",
              "\n",
              "      .colab-df-generate:hover {\n",
              "        background-color: #E2EBFA;\n",
              "        box-shadow: 0px 1px 2px rgba(60, 64, 67, 0.3), 0px 1px 3px 1px rgba(60, 64, 67, 0.15);\n",
              "        fill: #174EA6;\n",
              "      }\n",
              "\n",
              "      [theme=dark] .colab-df-generate {\n",
              "        background-color: #3B4455;\n",
              "        fill: #D2E3FC;\n",
              "      }\n",
              "\n",
              "      [theme=dark] .colab-df-generate:hover {\n",
              "        background-color: #434B5C;\n",
              "        box-shadow: 0px 1px 3px 1px rgba(0, 0, 0, 0.15);\n",
              "        filter: drop-shadow(0px 1px 2px rgba(0, 0, 0, 0.3));\n",
              "        fill: #FFFFFF;\n",
              "      }\n",
              "    </style>\n",
              "    <button class=\"colab-df-generate\" onclick=\"generateWithVariable('data_df')\"\n",
              "            title=\"Generate code using this dataframe.\"\n",
              "            style=\"display:none;\">\n",
              "\n",
              "  <svg xmlns=\"http://www.w3.org/2000/svg\" height=\"24px\"viewBox=\"0 0 24 24\"\n",
              "       width=\"24px\">\n",
              "    <path d=\"M7,19H8.4L18.45,9,17,7.55,7,17.6ZM5,21V16.75L18.45,3.32a2,2,0,0,1,2.83,0l1.4,1.43a1.91,1.91,0,0,1,.58,1.4,1.91,1.91,0,0,1-.58,1.4L9.25,21ZM18.45,9,17,7.55Zm-12,3A5.31,5.31,0,0,0,4.9,8.1,5.31,5.31,0,0,0,1,6.5,5.31,5.31,0,0,0,4.9,4.9,5.31,5.31,0,0,0,6.5,1,5.31,5.31,0,0,0,8.1,4.9,5.31,5.31,0,0,0,12,6.5,5.46,5.46,0,0,0,6.5,12Z\"/>\n",
              "  </svg>\n",
              "    </button>\n",
              "    <script>\n",
              "      (() => {\n",
              "      const buttonEl =\n",
              "        document.querySelector('#id_b3a500da-074c-4297-9c83-ee3d39c53da1 button.colab-df-generate');\n",
              "      buttonEl.style.display =\n",
              "        google.colab.kernel.accessAllowed ? 'block' : 'none';\n",
              "\n",
              "      buttonEl.onclick = () => {\n",
              "        google.colab.notebook.generateWithVariable('data_df');\n",
              "      }\n",
              "      })();\n",
              "    </script>\n",
              "  </div>\n",
              "\n",
              "    </div>\n",
              "  </div>\n"
            ],
            "text/plain": [
              "       finger1  finger2  finger3  finger4  finger5 label        name     file  \\\n",
              "1021    3151.0   3785.0   4049.0   3808.0   3383.0     a        bayu  a-5.txt   \n",
              "1022    3150.0   3786.0   4016.0   3803.0   3379.0     a        bayu  a-5.txt   \n",
              "1023    3145.0   3783.0   3974.0   3804.0   3379.0     a        bayu  a-5.txt   \n",
              "1024    3143.0   3781.0   3856.0   3805.0   3378.0     a        bayu  a-5.txt   \n",
              "1025    3147.0   3776.0   3856.0   3804.0   3376.0     a        bayu  a-5.txt   \n",
              "...        ...      ...      ...      ...      ...   ...         ...      ...   \n",
              "20893   3583.0   3189.0   3862.0   3463.0   3388.0     z  additional  z-4.txt   \n",
              "20894   3601.0   3201.0   3869.0   3473.0   3405.0     z  additional  z-4.txt   \n",
              "20895   3583.0   3200.0   3866.0   3475.0   3417.0     z  additional  z-4.txt   \n",
              "20896   3573.0   3196.0   3866.0   3472.0   3428.0     z  additional  z-4.txt   \n",
              "20897   3583.0   3197.0   3881.0   3483.0   3461.0     z  additional  z-4.txt   \n",
              "\n",
              "        max_1   min_1   max_2   min_2   max_3   min_3   max_4   min_4   max_5  \\\n",
              "1021   3664.0  3043.0  3718.0  3059.0  3805.0  3371.0  3730.0  3063.0  3113.0   \n",
              "1022   3664.0  3043.0  3718.0  3059.0  3805.0  3371.0  3730.0  3063.0  3113.0   \n",
              "1023   3664.0  3043.0  3718.0  3059.0  3805.0  3371.0  3730.0  3063.0  3113.0   \n",
              "1024   3664.0  3043.0  3718.0  3059.0  3805.0  3371.0  3730.0  3063.0  3113.0   \n",
              "1025   3664.0  3043.0  3718.0  3059.0  3805.0  3371.0  3730.0  3063.0  3113.0   \n",
              "...       ...     ...     ...     ...     ...     ...     ...     ...     ...   \n",
              "20893  4100.0  2500.0  4100.0  2500.0  4100.0  2500.0  4100.0  2500.0  4100.0   \n",
              "20894  4100.0  2500.0  4100.0  2500.0  4100.0  2500.0  4100.0  2500.0  4100.0   \n",
              "20895  4100.0  2500.0  4100.0  2500.0  4100.0  2500.0  4100.0  2500.0  4100.0   \n",
              "20896  4100.0  2500.0  4100.0  2500.0  4100.0  2500.0  4100.0  2500.0  4100.0   \n",
              "20897  4100.0  2500.0  4100.0  2500.0  4100.0  2500.0  4100.0  2500.0  4100.0   \n",
              "\n",
              "        min_5  \n",
              "1021   2795.0  \n",
              "1022   2795.0  \n",
              "1023   2795.0  \n",
              "1024   2795.0  \n",
              "1025   2795.0  \n",
              "...       ...  \n",
              "20893  2500.0  \n",
              "20894  2500.0  \n",
              "20895  2500.0  \n",
              "20896  2500.0  \n",
              "20897  2500.0  \n",
              "\n",
              "[30791 rows x 18 columns]"
            ]
          },
          "execution_count": 13,
          "metadata": {},
          "output_type": "execute_result"
        }
      ],
      "source": [
        "# @title <p> Add Config Min-Max to DataFrame\n",
        "for nc in minmax_fingers:\n",
        "  data_df[nc] = data_df[\"name\"].apply(lambda x: config_dict_cleaned[f\"{x}.txt\"][nc][0])\n",
        "\n",
        "data_df"
      ]
    },
    {
      "cell_type": "markdown",
      "metadata": {
        "id": "mXsCxob7RL4k"
      },
      "source": [
        "# DATASET PREPROCESSING"
      ]
    },
    {
      "cell_type": "markdown",
      "metadata": {
        "id": "hWAy1hDDTJGz"
      },
      "source": [
        "## 1) Data Distribution"
      ]
    },
    {
      "cell_type": "code",
      "execution_count": null,
      "metadata": {
        "colab": {
          "base_uri": "https://localhost:8080/"
        },
        "id": "KklpMjBcSvmH",
        "outputId": "2a462dec-a93b-4785-f946-a0990cad306e"
      },
      "outputs": [
        {
          "name": "stdout",
          "output_type": "stream",
          "text": [
            "label\n",
            "a    1200\n",
            "b    1200\n",
            "c    1200\n",
            "d    1200\n",
            "e    1230\n",
            "f    1200\n",
            "g    1200\n",
            "h    1200\n",
            "i    1200\n",
            "j    1200\n",
            "k    1200\n",
            "l    1193\n",
            "m    1200\n",
            "n    1200\n",
            "o    1200\n",
            "p    1200\n",
            "q    1200\n",
            "r    1200\n",
            "s    1170\n",
            "t    1170\n",
            "u    1157\n",
            "v    1170\n",
            "w    1170\n",
            "x    1170\n",
            "y    1170\n",
            "z     991\n",
            "Name: count, dtype: int64\n"
          ]
        }
      ],
      "source": [
        "# @title <p> Check Total Data for Each Label\n",
        "label_counts = data_df['label'].value_counts().sort_index()\n",
        "print(label_counts)"
      ]
    },
    {
      "cell_type": "code",
      "execution_count": null,
      "metadata": {
        "colab": {
          "base_uri": "https://localhost:8080/",
          "height": 487
        },
        "id": "u9G5xACxSyaW",
        "outputId": "116b2d56-ae95-4e17-d590-af8f3499fa84"
      },
      "outputs": [
        {
          "data": {
            "image/png": "[encoded data removed]",
            "text/plain": [
              "<Figure size 1000x500 with 1 Axes>"
            ]
          },
          "metadata": {},
          "output_type": "display_data"
        }
      ],
      "source": [
        "# @title <p> Visualize Total Data for Each Label\n",
        "import matplotlib.pyplot as plt\n",
        "\n",
        "plt.figure(figsize=(10, 5))\n",
        "label_counts.plot(kind='bar')\n",
        "plt.title('Number of Samples per Label')\n",
        "plt.xlabel('Label')\n",
        "plt.ylabel('Count')\n",
        "plt.grid(True)\n",
        "plt.show()"
      ]
    },
    {
      "cell_type": "code",
      "execution_count": null,
      "metadata": {
        "colab": {
          "base_uri": "https://localhost:8080/"
        },
        "id": "S4ddquagS2J4",
        "outputId": "f27f47d8-b2af-43dc-82e6-3e7e7efe7418"
      },
      "outputs": [
        {
          "name": "stdout",
          "output_type": "stream",
          "text": [
            "name  file   \n",
            "bayu  z-5.txt     1\n",
            "      u-1.txt    17\n",
            "dtype: int64\n"
          ]
        }
      ],
      "source": [
        "# @title <p> Check If There's Any Data Less Than Determined Length Row\n",
        "pairs_to_drop = data_df.groupby(['name', 'file']).size()\n",
        "drop_count = pairs_to_drop[pairs_to_drop < 20].sort_values()\n",
        "print(drop_count)"
      ]
    },
    {
      "cell_type": "code",
      "execution_count": null,
      "metadata": {
        "id": "mXsOQcj0S4K3"
      },
      "outputs": [],
      "source": [
        "# @title <p> Remove Data That Has Less Than Determined Length Row\n",
        "index_to_drop = pairs_to_drop[pairs_to_drop < 20].index\n",
        "filtered_df = data_df[~data_df.set_index(['name', 'file']).index.isin(index_to_drop)]"
      ]
    },
    {
      "cell_type": "code",
      "execution_count": null,
      "metadata": {
        "id": "XdoOaFfbS7xg"
      },
      "outputs": [],
      "source": [
        "# @title <p> Filter the Unused Label and Make All Label Have Same Amount of Data\n",
        "filtered_df = filtered_df[filtered_df['label'] != 'B']\n",
        "# filtered_df = data_df.groupby('label', group_keys=False).head(1050)"
      ]
    },
    {
      "cell_type": "code",
      "execution_count": null,
      "metadata": {
        "colab": {
          "base_uri": "https://localhost:8080/"
        },
        "id": "m8ofSN-cS9Sw",
        "outputId": "4d861c83-8647-4d73-b89a-b869b545ffb2"
      },
      "outputs": [
        {
          "name": "stdout",
          "output_type": "stream",
          "text": [
            "label\n",
            "a    1200\n",
            "b    1200\n",
            "c    1200\n",
            "d    1200\n",
            "e    1230\n",
            "f    1200\n",
            "g    1200\n",
            "h    1200\n",
            "i    1200\n",
            "j    1200\n",
            "k    1200\n",
            "l    1193\n",
            "m    1200\n",
            "n    1200\n",
            "o    1200\n",
            "p    1200\n",
            "q    1200\n",
            "r    1200\n",
            "s    1170\n",
            "t    1170\n",
            "u    1140\n",
            "v    1170\n",
            "w    1170\n",
            "x    1170\n",
            "y    1170\n",
            "z     990\n",
            "Name: count, dtype: int64\n"
          ]
        }
      ],
      "source": [
        "# @title <p> Check Total Data of Each Label After Filtered\n",
        "label_counts = filtered_df['label'].value_counts().sort_index()\n",
        "print(label_counts)"
      ]
    },
    {
      "cell_type": "code",
      "execution_count": null,
      "metadata": {
        "colab": {
          "base_uri": "https://localhost:8080/",
          "height": 487
        },
        "id": "6cStV7cGS_CA",
        "outputId": "1a27fc6b-dde2-4a59-8826-d7bdf9264643"
      },
      "outputs": [
        {
          "data": {
            "image/png": "[encoded data removed]",
            "text/plain": [
              "<Figure size 1000x500 with 1 Axes>"
            ]
          },
          "metadata": {},
          "output_type": "display_data"
        }
      ],
      "source": [
        "# @title <p> Visualize Total Data for Each Label After Filtered\n",
        "import matplotlib.pyplot as plt\n",
        "\n",
        "plt.figure(figsize=(10, 5))\n",
        "label_counts.plot(kind='bar')\n",
        "plt.title('Number of Samples per Label')\n",
        "plt.xlabel('Label')\n",
        "plt.ylabel('Count')\n",
        "plt.grid(True)\n",
        "plt.show()"
      ]
    },
    {
      "cell_type": "markdown",
      "metadata": {
        "id": "Scc00InrU2Py"
      },
      "source": [
        "## 2) Data Normalization"
      ]
    },
    {
      "cell_type": "code",
      "execution_count": null,
      "metadata": {
        "colab": {
          "base_uri": "https://localhost:8080/"
        },
        "id": "MnSIW99oDsKY",
        "outputId": "607d7b9d-1b38-4003-a90b-78bf0ffc45be"
      },
      "outputs": [
        {
          "name": "stdout",
          "output_type": "stream",
          "text": [
            "--------------------------------------\n",
            "min value of column finger1 154.0\n",
            "max value of column finger1 4034.0\n",
            "--------------------------------------\n",
            "--------------------------------------\n",
            "min value of column finger2 2807.0\n",
            "max value of column finger2 4030.0\n",
            "--------------------------------------\n",
            "--------------------------------------\n",
            "min value of column finger3 3055.0\n",
            "max value of column finger3 4095.0\n",
            "--------------------------------------\n",
            "--------------------------------------\n",
            "min value of column finger4 2945.0\n",
            "max value of column finger4 4022.0\n",
            "--------------------------------------\n",
            "--------------------------------------\n",
            "min value of column finger5 2734.0\n",
            "max value of column finger5 3643.0\n",
            "--------------------------------------\n"
          ]
        }
      ],
      "source": [
        "# @title <p> check data minimum and maximum value of each finger (not from config)\n",
        "for col in columns[0:5]:\n",
        "  min_val_act = filtered_df[col].min()\n",
        "  max_val_act = filtered_df[col].max()\n",
        "  print(f\"--------------------------------------\")\n",
        "  print(f\"min value of column {col}\", min_val_act)\n",
        "  print(f\"max value of column {col}\", max_val_act)\n",
        "  print(f\"--------------------------------------\")"
      ]
    },
    {
      "cell_type": "code",
      "execution_count": null,
      "metadata": {
        "colab": {
          "base_uri": "https://localhost:8080/"
        },
        "id": "3uoAvNQ1_3uj",
        "outputId": "d87dd142-da3d-4837-d513-90cd15fc64fa"
      },
      "outputs": [
        {
          "name": "stdout",
          "output_type": "stream",
          "text": [
            "--------------------------------------------------\n",
            "\n",
            "Min Max Value bayu\n",
            "\n",
            "min value finger1 2955.0 \tmax value {col} 3766.0\n",
            "\n",
            "min value finger2 3024.0 \tmax value {col} 3817.0\n",
            "\n",
            "min value finger3 3115.0 \tmax value {col} 4095.0\n",
            "\n",
            "min value finger4 3024.0 \tmax value {col} 3863.0\n",
            "\n",
            "min value finger5 2746.0 \tmax value {col} 3409.0\n",
            "--------------------------------------------------\n",
            "--------------------------------------------------\n",
            "\n",
            "Min Max Value amalia\n",
            "\n",
            "min value finger1 2971.0 \tmax value {col} 3706.0\n",
            "\n",
            "min value finger2 2807.0 \tmax value {col} 3856.0\n",
            "\n",
            "min value finger3 3135.0 \tmax value {col} 3886.0\n",
            "\n",
            "min value finger4 2945.0 \tmax value {col} 3856.0\n",
            "\n",
            "min value finger5 2752.0 \tmax value {col} 3424.0\n",
            "--------------------------------------------------\n",
            "--------------------------------------------------\n",
            "\n",
            "Min Max Value nurhadi\n",
            "\n",
            "min value finger1 154.0 \tmax value {col} 3733.0\n",
            "\n",
            "min value finger2 2938.0 \tmax value {col} 3862.0\n",
            "\n",
            "min value finger3 3055.0 \tmax value {col} 3984.0\n",
            "\n",
            "min value finger4 2986.0 \tmax value {col} 3830.0\n",
            "\n",
            "min value finger5 2758.0 \tmax value {col} 3411.0\n",
            "--------------------------------------------------\n",
            "--------------------------------------------------\n",
            "\n",
            "Min Max Value timo\n",
            "\n",
            "min value finger1 2992.0 \tmax value {col} 3582.0\n",
            "\n",
            "min value finger2 2913.0 \tmax value {col} 3776.0\n",
            "\n",
            "min value finger3 3188.0 \tmax value {col} 4030.0\n",
            "\n",
            "min value finger4 2962.0 \tmax value {col} 3805.0\n",
            "\n",
            "min value finger5 2734.0 \tmax value {col} 3339.0\n",
            "--------------------------------------------------\n",
            "--------------------------------------------------\n",
            "\n",
            "Min Max Value additional\n",
            "\n",
            "min value finger1 3093.0 \tmax value {col} 4034.0\n",
            "\n",
            "min value finger2 3097.0 \tmax value {col} 4030.0\n",
            "\n",
            "min value finger3 3230.0 \tmax value {col} 4075.0\n",
            "\n",
            "min value finger4 2957.0 \tmax value {col} 4022.0\n",
            "\n",
            "min value finger5 2816.0 \tmax value {col} 3643.0\n",
            "--------------------------------------------------\n"
          ]
        }
      ],
      "source": [
        "# @title <p> check data minimum and maximum value of each finger (not from config)\n",
        "for name_peserta in filtered_df[\"name\"].unique():\n",
        "  df_peserta_temp = filtered_df[filtered_df[\"name\"] == name_peserta]\n",
        "  print(\"-\"*50)\n",
        "  print(f\"\\nMin Max Value {name_peserta}\")\n",
        "  for col in columns[0:5]:\n",
        "    min_val_act = df_peserta_temp[col].min()\n",
        "    max_val_act = df_peserta_temp[col].max()\n",
        "    print(f\"\\nmin value {col}\", min_val_act, \"\\tmax value {col}\", max_val_act)\n",
        "  print(\"-\"*50)"
      ]
    },
    {
      "cell_type": "code",
      "execution_count": null,
      "metadata": {
        "id": "VsTxfdlpkv5N"
      },
      "outputs": [],
      "source": [
        "#  @title <p> Drop the weird value\n",
        "for col in columns[0:5]:\n",
        "  weird_value = filtered_df[filtered_df[col] <= 2500]\n",
        "  filtered_df.drop(weird_value.index, inplace = True)"
      ]
    },
    {
      "cell_type": "code",
      "execution_count": null,
      "metadata": {
        "colab": {
          "base_uri": "https://localhost:8080/"
        },
        "id": "Hl4Z_0plkxxD",
        "outputId": "69fd6cdf-df50-4d33-e23a-ac911622cda6"
      },
      "outputs": [
        {
          "name": "stdout",
          "output_type": "stream",
          "text": [
            "--------------------------------------\n",
            "min value of column finger1 2911.0\n",
            "max value of column finger1 4034.0\n",
            "--------------------------------------\n",
            "--------------------------------------\n",
            "min value of column finger2 2807.0\n",
            "max value of column finger2 4030.0\n",
            "--------------------------------------\n",
            "--------------------------------------\n",
            "min value of column finger3 3055.0\n",
            "max value of column finger3 4095.0\n",
            "--------------------------------------\n",
            "--------------------------------------\n",
            "min value of column finger4 2945.0\n",
            "max value of column finger4 4022.0\n",
            "--------------------------------------\n",
            "--------------------------------------\n",
            "min value of column finger5 2734.0\n",
            "max value of column finger5 3643.0\n",
            "--------------------------------------\n"
          ]
        }
      ],
      "source": [
        "# @title <p> Recheck data minimum and maximum value of each finger after drop weird value\n",
        "for col in columns[0:5]:\n",
        "  min_val_act = filtered_df[col].min()\n",
        "  max_val_act = filtered_df[col].max()\n",
        "  print(f\"--------------------------------------\")\n",
        "  print(f\"min value of column {col}\", min_val_act)\n",
        "  print(f\"max value of column {col}\", max_val_act)\n",
        "  print(f\"--------------------------------------\")"
      ]
    },
    {
      "cell_type": "code",
      "execution_count": null,
      "metadata": {
        "colab": {
          "base_uri": "https://localhost:8080/",
          "height": 206
        },
        "id": "QXgSHVXmzNc7",
        "outputId": "1595e6c1-9d20-429f-8413-70ceadf6b958"
      },
      "outputs": [
        {
          "data": {
            "application/vnd.google.colaboratory.intrinsic+json": {
              "summary": "{\n  \"name\": \"df_normalized\",\n  \"rows\": 30772,\n  \"fields\": [\n    {\n      \"column\": \"finger1\",\n      \"properties\": {\n        \"dtype\": \"number\",\n        \"std\": 0.14391563713202307,\n        \"min\": 0.257,\n        \"max\": 0.959,\n        \"num_unique_values\": 605,\n        \"samples\": [\n          0.318,\n          0.657,\n          0.351\n        ],\n        \"semantic_type\": \"\",\n        \"description\": \"\"\n      }\n    },\n    {\n      \"column\": \"finger2\",\n      \"properties\": {\n        \"dtype\": \"number\",\n        \"std\": 0.1736655822532884,\n        \"min\": 0.192,\n        \"max\": 0.956,\n        \"num_unique_values\": 649,\n        \"samples\": [\n          0.285,\n          0.369,\n          0.38\n        ],\n        \"semantic_type\": \"\",\n        \"description\": \"\"\n      }\n    },\n    {\n      \"column\": \"finger3\",\n      \"properties\": {\n        \"dtype\": \"number\",\n        \"std\": 0.15066964554118162,\n        \"min\": 0.347,\n        \"max\": 0.997,\n        \"num_unique_values\": 590,\n        \"samples\": [\n          0.601,\n          0.477,\n          0.587\n        ],\n        \"semantic_type\": \"\",\n        \"description\": \"\"\n      }\n    },\n    {\n      \"column\": \"finger4\",\n      \"properties\": {\n        \"dtype\": \"number\",\n        \"std\": 0.14874156726184362,\n        \"min\": 0.278,\n        \"max\": 0.951,\n        \"num_unique_values\": 637,\n        \"samples\": [\n          0.403,\n          0.301,\n          0.779\n        ],\n        \"semantic_type\": \"\",\n        \"description\": \"\"\n      }\n    },\n    {\n      \"column\": \"finger5\",\n      \"properties\": {\n        \"dtype\": \"number\",\n        \"std\": 0.1461061284323776,\n        \"min\": 0.146,\n        \"max\": 0.714,\n        \"num_unique_values\": 542,\n        \"samples\": [\n          0.366,\n          0.448,\n          0.436\n        ],\n        \"semantic_type\": \"\",\n        \"description\": \"\"\n      }\n    },\n    {\n      \"column\": \"label\",\n      \"properties\": {\n        \"dtype\": \"category\",\n        \"num_unique_values\": 26,\n        \"samples\": [\n          \"i\",\n          \"q\",\n          \"a\"\n        ],\n        \"semantic_type\": \"\",\n        \"description\": \"\"\n      }\n    },\n    {\n      \"column\": \"name\",\n      \"properties\": {\n        \"dtype\": \"category\",\n        \"num_unique_values\": 5,\n        \"samples\": [\n          \"amalia\",\n          \"additional\",\n          \"nurhadi\"\n        ],\n        \"semantic_type\": \"\",\n        \"description\": \"\"\n      }\n    },\n    {\n      \"column\": \"file\",\n      \"properties\": {\n        \"dtype\": \"category\",\n        \"num_unique_values\": 385,\n        \"samples\": [\n          \"r-13.txt\",\n          \"q-13.txt\",\n          \"x-12.txt\"\n        ],\n        \"semantic_type\": \"\",\n        \"description\": \"\"\n      }\n    },\n    {\n      \"column\": \"max_1\",\n      \"properties\": {\n        \"dtype\": \"number\",\n        \"std\": 279.6270173293154,\n        \"min\": 3454.0,\n        \"max\": 4100.0,\n        \"num_unique_values\": 5,\n        \"samples\": [\n          3582.0,\n          4100.0,\n          3536.0\n        ],\n        \"semantic_type\": \"\",\n        \"description\": \"\"\n      }\n    },\n    {\n      \"column\": \"min_1\",\n      \"properties\": {\n        \"dtype\": \"number\",\n        \"std\": 235.95858141345437,\n        \"min\": 2500.0,\n        \"max\": 3043.0,\n        \"num_unique_values\": 5,\n        \"samples\": [\n          3039.0,\n          2500.0,\n          2959.0\n        ],\n        \"semantic_type\": \"\",\n        \"description\": \"\"\n      }\n    },\n    {\n      \"column\": \"max_2\",\n      \"properties\": {\n        \"dtype\": \"number\",\n        \"std\": 246.160277963268,\n        \"min\": 3549.0,\n        \"max\": 4100.0,\n        \"num_unique_values\": 5,\n        \"samples\": [\n          3615.0,\n          4100.0,\n          3549.0\n        ],\n        \"semantic_type\": \"\",\n        \"description\": \"\"\n      }\n    },\n    {\n      \"column\": \"min_2\",\n      \"properties\": {\n        \"dtype\": \"number\",\n        \"std\": 237.3950499592634,\n        \"min\": 2500.0,\n        \"max\": 3059.0,\n        \"num_unique_values\": 5,\n        \"samples\": [\n          3038.0,\n          2500.0,\n          2980.0\n        ],\n        \"semantic_type\": \"\",\n        \"description\": \"\"\n      }\n    },\n    {\n      \"column\": \"max_3\",\n      \"properties\": {\n        \"dtype\": \"number\",\n        \"std\": 209.25857438969936,\n        \"min\": 3548.0,\n        \"max\": 4100.0,\n        \"num_unique_values\": 5,\n        \"samples\": [\n          3756.0,\n          4100.0,\n          3548.0\n        ],\n        \"semantic_type\": \"\",\n        \"description\": \"\"\n      }\n    },\n    {\n      \"column\": \"min_3\",\n      \"properties\": {\n        \"dtype\": \"number\",\n        \"std\": 360.6004900768264,\n        \"min\": 2500.0,\n        \"max\": 3371.0,\n        \"num_unique_values\": 5,\n        \"samples\": [\n          3247.0,\n          2500.0,\n          3218.0\n        ],\n        \"semantic_type\": \"\",\n        \"description\": \"\"\n      }\n    },\n    {\n      \"column\": \"max_4\",\n      \"properties\": {\n        \"dtype\": \"number\",\n        \"std\": 198.49638002470329,\n        \"min\": 3658.0,\n        \"max\": 4100.0,\n        \"num_unique_values\": 5,\n        \"samples\": [\n          3724.0,\n          4100.0,\n          3697.0\n        ],\n        \"semantic_type\": \"\",\n        \"description\": \"\"\n      }\n    },\n    {\n      \"column\": \"min_4\",\n      \"properties\": {\n        \"dtype\": \"number\",\n        \"std\": 245.8595107403168,\n        \"min\": 2500.0,\n        \"max\": 3063.0,\n        \"num_unique_values\": 5,\n        \"samples\": [\n          3019.0,\n          2500.0,\n          3023.0\n        ],\n        \"semantic_type\": \"\",\n        \"description\": \"\"\n      }\n    },\n    {\n      \"column\": \"max_5\",\n      \"properties\": {\n        \"dtype\": \"number\",\n        \"std\": 414.617741737525,\n        \"min\": 3104.0,\n        \"max\": 4100.0,\n        \"num_unique_values\": 5,\n        \"samples\": [\n          3104.0,\n          4100.0,\n          3214.0\n        ],\n        \"semantic_type\": \"\",\n        \"description\": \"\"\n      }\n    },\n    {\n      \"column\": \"min_5\",\n      \"properties\": {\n        \"dtype\": \"number\",\n        \"std\": 217.95607076918955,\n        \"min\": 2500.0,\n        \"max\": 3054.0,\n        \"num_unique_values\": 5,\n        \"samples\": [\n          2758.0,\n          2500.0,\n          2800.0\n        ],\n        \"semantic_type\": \"\",\n        \"description\": \"\"\n      }\n    }\n  ]\n}",
              "type": "dataframe",
              "variable_name": "df_normalized"
            },
            "text/html": [
              "\n",
              "  <div id=\"df-58c23883-280f-4470-9869-8436b1923d92\" class=\"colab-df-container\">\n",
              "    <div>\n",
              "<style scoped>\n",
              "    .dataframe tbody tr th:only-of-type {\n",
              "        vertical-align: middle;\n",
              "    }\n",
              "\n",
              "    .dataframe tbody tr th {\n",
              "        vertical-align: top;\n",
              "    }\n",
              "\n",
              "    .dataframe thead th {\n",
              "        text-align: right;\n",
              "    }\n",
              "</style>\n",
              "<table border=\"1\" class=\"dataframe\">\n",
              "  <thead>\n",
              "    <tr style=\"text-align: right;\">\n",
              "      <th></th>\n",
              "      <th>finger1</th>\n",
              "      <th>finger2</th>\n",
              "      <th>finger3</th>\n",
              "      <th>finger4</th>\n",
              "      <th>finger5</th>\n",
              "      <th>label</th>\n",
              "      <th>name</th>\n",
              "      <th>file</th>\n",
              "      <th>max_1</th>\n",
              "      <th>min_1</th>\n",
              "      <th>max_2</th>\n",
              "      <th>min_2</th>\n",
              "      <th>max_3</th>\n",
              "      <th>min_3</th>\n",
              "      <th>max_4</th>\n",
              "      <th>min_4</th>\n",
              "      <th>max_5</th>\n",
              "      <th>min_5</th>\n",
              "    </tr>\n",
              "  </thead>\n",
              "  <tbody>\n",
              "    <tr>\n",
              "      <th>1021</th>\n",
              "      <td>0.407</td>\n",
              "      <td>0.803</td>\n",
              "      <td>0.968</td>\n",
              "      <td>0.818</td>\n",
              "      <td>0.552</td>\n",
              "      <td>a</td>\n",
              "      <td>bayu</td>\n",
              "      <td>a-5.txt</td>\n",
              "      <td>3664.0</td>\n",
              "      <td>3043.0</td>\n",
              "      <td>3718.0</td>\n",
              "      <td>3059.0</td>\n",
              "      <td>3805.0</td>\n",
              "      <td>3371.0</td>\n",
              "      <td>3730.0</td>\n",
              "      <td>3063.0</td>\n",
              "      <td>3113.0</td>\n",
              "      <td>2795.0</td>\n",
              "    </tr>\n",
              "    <tr>\n",
              "      <th>1022</th>\n",
              "      <td>0.406</td>\n",
              "      <td>0.804</td>\n",
              "      <td>0.948</td>\n",
              "      <td>0.814</td>\n",
              "      <td>0.549</td>\n",
              "      <td>a</td>\n",
              "      <td>bayu</td>\n",
              "      <td>a-5.txt</td>\n",
              "      <td>3664.0</td>\n",
              "      <td>3043.0</td>\n",
              "      <td>3718.0</td>\n",
              "      <td>3059.0</td>\n",
              "      <td>3805.0</td>\n",
              "      <td>3371.0</td>\n",
              "      <td>3730.0</td>\n",
              "      <td>3063.0</td>\n",
              "      <td>3113.0</td>\n",
              "      <td>2795.0</td>\n",
              "    </tr>\n",
              "    <tr>\n",
              "      <th>1023</th>\n",
              "      <td>0.403</td>\n",
              "      <td>0.802</td>\n",
              "      <td>0.921</td>\n",
              "      <td>0.815</td>\n",
              "      <td>0.549</td>\n",
              "      <td>a</td>\n",
              "      <td>bayu</td>\n",
              "      <td>a-5.txt</td>\n",
              "      <td>3664.0</td>\n",
              "      <td>3043.0</td>\n",
              "      <td>3718.0</td>\n",
              "      <td>3059.0</td>\n",
              "      <td>3805.0</td>\n",
              "      <td>3371.0</td>\n",
              "      <td>3730.0</td>\n",
              "      <td>3063.0</td>\n",
              "      <td>3113.0</td>\n",
              "      <td>2795.0</td>\n",
              "    </tr>\n",
              "    <tr>\n",
              "      <th>1024</th>\n",
              "      <td>0.402</td>\n",
              "      <td>0.801</td>\n",
              "      <td>0.848</td>\n",
              "      <td>0.816</td>\n",
              "      <td>0.549</td>\n",
              "      <td>a</td>\n",
              "      <td>bayu</td>\n",
              "      <td>a-5.txt</td>\n",
              "      <td>3664.0</td>\n",
              "      <td>3043.0</td>\n",
              "      <td>3718.0</td>\n",
              "      <td>3059.0</td>\n",
              "      <td>3805.0</td>\n",
              "      <td>3371.0</td>\n",
              "      <td>3730.0</td>\n",
              "      <td>3063.0</td>\n",
              "      <td>3113.0</td>\n",
              "      <td>2795.0</td>\n",
              "    </tr>\n",
              "    <tr>\n",
              "      <th>1025</th>\n",
              "      <td>0.404</td>\n",
              "      <td>0.797</td>\n",
              "      <td>0.848</td>\n",
              "      <td>0.815</td>\n",
              "      <td>0.547</td>\n",
              "      <td>a</td>\n",
              "      <td>bayu</td>\n",
              "      <td>a-5.txt</td>\n",
              "      <td>3664.0</td>\n",
              "      <td>3043.0</td>\n",
              "      <td>3718.0</td>\n",
              "      <td>3059.0</td>\n",
              "      <td>3805.0</td>\n",
              "      <td>3371.0</td>\n",
              "      <td>3730.0</td>\n",
              "      <td>3063.0</td>\n",
              "      <td>3113.0</td>\n",
              "      <td>2795.0</td>\n",
              "    </tr>\n",
              "  </tbody>\n",
              "</table>\n",
              "</div>\n",
              "    <div class=\"colab-df-buttons\">\n",
              "\n",
              "  <div class=\"colab-df-container\">\n",
              "    <button class=\"colab-df-convert\" onclick=\"convertToInteractive('df-58c23883-280f-4470-9869-8436b1923d92')\"\n",
              "            title=\"Convert this dataframe to an interactive table.\"\n",
              "            style=\"display:none;\">\n",
              "\n",
              "  <svg xmlns=\"http://www.w3.org/2000/svg\" height=\"24px\" viewBox=\"0 -960 960 960\">\n",
              "    <path d=\"M120-120v-720h720v720H120Zm60-500h600v-160H180v160Zm220 220h160v-160H400v160Zm0 220h160v-160H400v160ZM180-400h160v-160H180v160Zm440 0h160v-160H620v160ZM180-180h160v-160H180v160Zm440 0h160v-160H620v160Z\"/>\n",
              "  </svg>\n",
              "    </button>\n",
              "\n",
              "  <style>\n",
              "    .colab-df-container {\n",
              "      display:flex;\n",
              "      gap: 12px;\n",
              "    }\n",
              "\n",
              "    .colab-df-convert {\n",
              "      background-color: #E8F0FE;\n",
              "      border: none;\n",
              "      border-radius: 50%;\n",
              "      cursor: pointer;\n",
              "      display: none;\n",
              "      fill: #1967D2;\n",
              "      height: 32px;\n",
              "      padding: 0 0 0 0;\n",
              "      width: 32px;\n",
              "    }\n",
              "\n",
              "    .colab-df-convert:hover {\n",
              "      background-color: #E2EBFA;\n",
              "      box-shadow: 0px 1px 2px rgba(60, 64, 67, 0.3), 0px 1px 3px 1px rgba(60, 64, 67, 0.15);\n",
              "      fill: #174EA6;\n",
              "    }\n",
              "\n",
              "    .colab-df-buttons div {\n",
              "      margin-bottom: 4px;\n",
              "    }\n",
              "\n",
              "    [theme=dark] .colab-df-convert {\n",
              "      background-color: #3B4455;\n",
              "      fill: #D2E3FC;\n",
              "    }\n",
              "\n",
              "    [theme=dark] .colab-df-convert:hover {\n",
              "      background-color: #434B5C;\n",
              "      box-shadow: 0px 1px 3px 1px rgba(0, 0, 0, 0.15);\n",
              "      filter: drop-shadow(0px 1px 2px rgba(0, 0, 0, 0.3));\n",
              "      fill: #FFFFFF;\n",
              "    }\n",
              "  </style>\n",
              "\n",
              "    <script>\n",
              "      const buttonEl =\n",
              "        document.querySelector('#df-58c23883-280f-4470-9869-8436b1923d92 button.colab-df-convert');\n",
              "      buttonEl.style.display =\n",
              "        google.colab.kernel.accessAllowed ? 'block' : 'none';\n",
              "\n",
              "      async function convertToInteractive(key) {\n",
              "        const element = document.querySelector('#df-58c23883-280f-4470-9869-8436b1923d92');\n",
              "        const dataTable =\n",
              "          await google.colab.kernel.invokeFunction('convertToInteractive',\n",
              "                                                    [key], {});\n",
              "        if (!dataTable) return;\n",
              "\n",
              "        const docLinkHtml = 'Like what you see? Visit the ' +\n",
              "          '<a target=\"_blank\" href=https://colab.research.google.com/notebooks/data_table.ipynb>data table notebook</a>'\n",
              "          + ' to learn more about interactive tables.';\n",
              "        element.innerHTML = '';\n",
              "        dataTable['output_type'] = 'display_data';\n",
              "        await google.colab.output.renderOutput(dataTable, element);\n",
              "        const docLink = document.createElement('div');\n",
              "        docLink.innerHTML = docLinkHtml;\n",
              "        element.appendChild(docLink);\n",
              "      }\n",
              "    </script>\n",
              "  </div>\n",
              "\n",
              "\n",
              "    <div id=\"df-d5e0d18f-40a1-4ea3-8061-75d618e73262\">\n",
              "      <button class=\"colab-df-quickchart\" onclick=\"quickchart('df-d5e0d18f-40a1-4ea3-8061-75d618e73262')\"\n",
              "                title=\"Suggest charts\"\n",
              "                style=\"display:none;\">\n",
              "\n",
              "<svg xmlns=\"http://www.w3.org/2000/svg\" height=\"24px\"viewBox=\"0 0 24 24\"\n",
              "     width=\"24px\">\n",
              "    <g>\n",
              "        <path d=\"M19 3H5c-1.1 0-2 .9-2 2v14c0 1.1.9 2 2 2h14c1.1 0 2-.9 2-2V5c0-1.1-.9-2-2-2zM9 17H7v-7h2v7zm4 0h-2V7h2v10zm4 0h-2v-4h2v4z\"/>\n",
              "    </g>\n",
              "</svg>\n",
              "      </button>\n",
              "\n",
              "<style>\n",
              "  .colab-df-quickchart {\n",
              "      --bg-color: #E8F0FE;\n",
              "      --fill-color: #1967D2;\n",
              "      --hover-bg-color: #E2EBFA;\n",
              "      --hover-fill-color: #174EA6;\n",
              "      --disabled-fill-color: #AAA;\n",
              "      --disabled-bg-color: #DDD;\n",
              "  }\n",
              "\n",
              "  [theme=dark] .colab-df-quickchart {\n",
              "      --bg-color: #3B4455;\n",
              "      --fill-color: #D2E3FC;\n",
              "      --hover-bg-color: #434B5C;\n",
              "      --hover-fill-color: #FFFFFF;\n",
              "      --disabled-bg-color: #3B4455;\n",
              "      --disabled-fill-color: #666;\n",
              "  }\n",
              "\n",
              "  .colab-df-quickchart {\n",
              "    background-color: var(--bg-color);\n",
              "    border: none;\n",
              "    border-radius: 50%;\n",
              "    cursor: pointer;\n",
              "    display: none;\n",
              "    fill: var(--fill-color);\n",
              "    height: 32px;\n",
              "    padding: 0;\n",
              "    width: 32px;\n",
              "  }\n",
              "\n",
              "  .colab-df-quickchart:hover {\n",
              "    background-color: var(--hover-bg-color);\n",
              "    box-shadow: 0 1px 2px rgba(60, 64, 67, 0.3), 0 1px 3px 1px rgba(60, 64, 67, 0.15);\n",
              "    fill: var(--button-hover-fill-color);\n",
              "  }\n",
              "\n",
              "  .colab-df-quickchart-complete:disabled,\n",
              "  .colab-df-quickchart-complete:disabled:hover {\n",
              "    background-color: var(--disabled-bg-color);\n",
              "    fill: var(--disabled-fill-color);\n",
              "    box-shadow: none;\n",
              "  }\n",
              "\n",
              "  .colab-df-spinner {\n",
              "    border: 2px solid var(--fill-color);\n",
              "    border-color: transparent;\n",
              "    border-bottom-color: var(--fill-color);\n",
              "    animation:\n",
              "      spin 1s steps(1) infinite;\n",
              "  }\n",
              "\n",
              "  @keyframes spin {\n",
              "    0% {\n",
              "      border-color: transparent;\n",
              "      border-bottom-color: var(--fill-color);\n",
              "      border-left-color: var(--fill-color);\n",
              "    }\n",
              "    20% {\n",
              "      border-color: transparent;\n",
              "      border-left-color: var(--fill-color);\n",
              "      border-top-color: var(--fill-color);\n",
              "    }\n",
              "    30% {\n",
              "      border-color: transparent;\n",
              "      border-left-color: var(--fill-color);\n",
              "      border-top-color: var(--fill-color);\n",
              "      border-right-color: var(--fill-color);\n",
              "    }\n",
              "    40% {\n",
              "      border-color: transparent;\n",
              "      border-right-color: var(--fill-color);\n",
              "      border-top-color: var(--fill-color);\n",
              "    }\n",
              "    60% {\n",
              "      border-color: transparent;\n",
              "      border-right-color: var(--fill-color);\n",
              "    }\n",
              "    80% {\n",
              "      border-color: transparent;\n",
              "      border-right-color: var(--fill-color);\n",
              "      border-bottom-color: var(--fill-color);\n",
              "    }\n",
              "    90% {\n",
              "      border-color: transparent;\n",
              "      border-bottom-color: var(--fill-color);\n",
              "    }\n",
              "  }\n",
              "</style>\n",
              "\n",
              "      <script>\n",
              "        async function quickchart(key) {\n",
              "          const quickchartButtonEl =\n",
              "            document.querySelector('#' + key + ' button');\n",
              "          quickchartButtonEl.disabled = true;  // To prevent multiple clicks.\n",
              "          quickchartButtonEl.classList.add('colab-df-spinner');\n",
              "          try {\n",
              "            const charts = await google.colab.kernel.invokeFunction(\n",
              "                'suggestCharts', [key], {});\n",
              "          } catch (error) {\n",
              "            console.error('Error during call to suggestCharts:', error);\n",
              "          }\n",
              "          quickchartButtonEl.classList.remove('colab-df-spinner');\n",
              "          quickchartButtonEl.classList.add('colab-df-quickchart-complete');\n",
              "        }\n",
              "        (() => {\n",
              "          let quickchartButtonEl =\n",
              "            document.querySelector('#df-d5e0d18f-40a1-4ea3-8061-75d618e73262 button');\n",
              "          quickchartButtonEl.style.display =\n",
              "            google.colab.kernel.accessAllowed ? 'block' : 'none';\n",
              "        })();\n",
              "      </script>\n",
              "    </div>\n",
              "\n",
              "    </div>\n",
              "  </div>\n"
            ],
            "text/plain": [
              "      finger1  finger2  finger3  finger4  finger5 label  name     file  \\\n",
              "1021    0.407    0.803    0.968    0.818    0.552     a  bayu  a-5.txt   \n",
              "1022    0.406    0.804    0.948    0.814    0.549     a  bayu  a-5.txt   \n",
              "1023    0.403    0.802    0.921    0.815    0.549     a  bayu  a-5.txt   \n",
              "1024    0.402    0.801    0.848    0.816    0.549     a  bayu  a-5.txt   \n",
              "1025    0.404    0.797    0.848    0.815    0.547     a  bayu  a-5.txt   \n",
              "\n",
              "       max_1   min_1   max_2   min_2   max_3   min_3   max_4   min_4   max_5  \\\n",
              "1021  3664.0  3043.0  3718.0  3059.0  3805.0  3371.0  3730.0  3063.0  3113.0   \n",
              "1022  3664.0  3043.0  3718.0  3059.0  3805.0  3371.0  3730.0  3063.0  3113.0   \n",
              "1023  3664.0  3043.0  3718.0  3059.0  3805.0  3371.0  3730.0  3063.0  3113.0   \n",
              "1024  3664.0  3043.0  3718.0  3059.0  3805.0  3371.0  3730.0  3063.0  3113.0   \n",
              "1025  3664.0  3043.0  3718.0  3059.0  3805.0  3371.0  3730.0  3063.0  3113.0   \n",
              "\n",
              "       min_5  \n",
              "1021  2795.0  \n",
              "1022  2795.0  \n",
              "1023  2795.0  \n",
              "1024  2795.0  \n",
              "1025  2795.0  "
            ]
          },
          "execution_count": 25,
          "metadata": {},
          "output_type": "execute_result"
        }
      ],
      "source": [
        "# @title <p> Flex data normalization\n",
        "def do_normalize_minmax(value, fingern):\n",
        "  config_max = value[f'max_{fingern[-1:]}']\n",
        "  config_min = value[f'min_{fingern[-1:]}']\n",
        "  flex_normalized = (value[fingern] - config_min)/(config_max - config_min)\n",
        "  return round(flex_normalized, 3)\n",
        "\n",
        "def do_normalize_flex(value, fingern):\n",
        "  flex_normalized = (value[fingern] - 2500)/(4100 - 2500)   #using min 2500 and max 4100\n",
        "  return round(flex_normalized, 3)\n",
        "\n",
        "def norm_loc(x):\n",
        "  global columns\n",
        "  for i in columns[0:5]:\n",
        "    x[i] = do_normalize_flex(x, i)\n",
        "\n",
        "  return x\n",
        "\n",
        "df_normalized = filtered_df.apply(lambda x: norm_loc(x), axis=1)\n",
        "\n",
        "df_normalized.head()"
      ]
    },
    {
      "cell_type": "code",
      "execution_count": null,
      "metadata": {
        "colab": {
          "base_uri": "https://localhost:8080/",
          "height": 89
        },
        "id": "gfxsMQ9SPYTz",
        "outputId": "681c1ccb-c4ae-4049-a700-39bf39be5f2b"
      },
      "outputs": [
        {
          "data": {
            "application/vnd.google.colaboratory.intrinsic+json": {
              "repr_error": "Out of range float values are not JSON compliant: nan",
              "type": "dataframe",
              "variable_name": "respondent_error"
            },
            "text/html": [
              "\n",
              "  <div id=\"df-c403e94b-6348-4ade-9069-c17425671676\" class=\"colab-df-container\">\n",
              "    <div>\n",
              "<style scoped>\n",
              "    .dataframe tbody tr th:only-of-type {\n",
              "        vertical-align: middle;\n",
              "    }\n",
              "\n",
              "    .dataframe tbody tr th {\n",
              "        vertical-align: top;\n",
              "    }\n",
              "\n",
              "    .dataframe thead th {\n",
              "        text-align: right;\n",
              "    }\n",
              "</style>\n",
              "<table border=\"1\" class=\"dataframe\">\n",
              "  <thead>\n",
              "    <tr style=\"text-align: right;\">\n",
              "      <th></th>\n",
              "      <th>finger1</th>\n",
              "      <th>finger2</th>\n",
              "      <th>finger3</th>\n",
              "      <th>finger4</th>\n",
              "      <th>finger5</th>\n",
              "      <th>label</th>\n",
              "      <th>name</th>\n",
              "      <th>file</th>\n",
              "      <th>max_1</th>\n",
              "      <th>min_1</th>\n",
              "      <th>max_2</th>\n",
              "      <th>min_2</th>\n",
              "      <th>max_3</th>\n",
              "      <th>min_3</th>\n",
              "      <th>max_4</th>\n",
              "      <th>min_4</th>\n",
              "      <th>max_5</th>\n",
              "      <th>min_5</th>\n",
              "    </tr>\n",
              "  </thead>\n",
              "  <tbody>\n",
              "  </tbody>\n",
              "</table>\n",
              "</div>\n",
              "    <div class=\"colab-df-buttons\">\n",
              "\n",
              "  <div class=\"colab-df-container\">\n",
              "    <button class=\"colab-df-convert\" onclick=\"convertToInteractive('df-c403e94b-6348-4ade-9069-c17425671676')\"\n",
              "            title=\"Convert this dataframe to an interactive table.\"\n",
              "            style=\"display:none;\">\n",
              "\n",
              "  <svg xmlns=\"http://www.w3.org/2000/svg\" height=\"24px\" viewBox=\"0 -960 960 960\">\n",
              "    <path d=\"M120-120v-720h720v720H120Zm60-500h600v-160H180v160Zm220 220h160v-160H400v160Zm0 220h160v-160H400v160ZM180-400h160v-160H180v160Zm440 0h160v-160H620v160ZM180-180h160v-160H180v160Zm440 0h160v-160H620v160Z\"/>\n",
              "  </svg>\n",
              "    </button>\n",
              "\n",
              "  <style>\n",
              "    .colab-df-container {\n",
              "      display:flex;\n",
              "      gap: 12px;\n",
              "    }\n",
              "\n",
              "    .colab-df-convert {\n",
              "      background-color: #E8F0FE;\n",
              "      border: none;\n",
              "      border-radius: 50%;\n",
              "      cursor: pointer;\n",
              "      display: none;\n",
              "      fill: #1967D2;\n",
              "      height: 32px;\n",
              "      padding: 0 0 0 0;\n",
              "      width: 32px;\n",
              "    }\n",
              "\n",
              "    .colab-df-convert:hover {\n",
              "      background-color: #E2EBFA;\n",
              "      box-shadow: 0px 1px 2px rgba(60, 64, 67, 0.3), 0px 1px 3px 1px rgba(60, 64, 67, 0.15);\n",
              "      fill: #174EA6;\n",
              "    }\n",
              "\n",
              "    .colab-df-buttons div {\n",
              "      margin-bottom: 4px;\n",
              "    }\n",
              "\n",
              "    [theme=dark] .colab-df-convert {\n",
              "      background-color: #3B4455;\n",
              "      fill: #D2E3FC;\n",
              "    }\n",
              "\n",
              "    [theme=dark] .colab-df-convert:hover {\n",
              "      background-color: #434B5C;\n",
              "      box-shadow: 0px 1px 3px 1px rgba(0, 0, 0, 0.15);\n",
              "      filter: drop-shadow(0px 1px 2px rgba(0, 0, 0, 0.3));\n",
              "      fill: #FFFFFF;\n",
              "    }\n",
              "  </style>\n",
              "\n",
              "    <script>\n",
              "      const buttonEl =\n",
              "        document.querySelector('#df-c403e94b-6348-4ade-9069-c17425671676 button.colab-df-convert');\n",
              "      buttonEl.style.display =\n",
              "        google.colab.kernel.accessAllowed ? 'block' : 'none';\n",
              "\n",
              "      async function convertToInteractive(key) {\n",
              "        const element = document.querySelector('#df-c403e94b-6348-4ade-9069-c17425671676');\n",
              "        const dataTable =\n",
              "          await google.colab.kernel.invokeFunction('convertToInteractive',\n",
              "                                                    [key], {});\n",
              "        if (!dataTable) return;\n",
              "\n",
              "        const docLinkHtml = 'Like what you see? Visit the ' +\n",
              "          '<a target=\"_blank\" href=https://colab.research.google.com/notebooks/data_table.ipynb>data table notebook</a>'\n",
              "          + ' to learn more about interactive tables.';\n",
              "        element.innerHTML = '';\n",
              "        dataTable['output_type'] = 'display_data';\n",
              "        await google.colab.output.renderOutput(dataTable, element);\n",
              "        const docLink = document.createElement('div');\n",
              "        docLink.innerHTML = docLinkHtml;\n",
              "        element.appendChild(docLink);\n",
              "      }\n",
              "    </script>\n",
              "  </div>\n",
              "\n",
              "\n",
              "  <div id=\"id_e890b0b9-47d0-40eb-b751-59e7f7a46a0e\">\n",
              "    <style>\n",
              "      .colab-df-generate {\n",
              "        background-color: #E8F0FE;\n",
              "        border: none;\n",
              "        border-radius: 50%;\n",
              "        cursor: pointer;\n",
              "        display: none;\n",
              "        fill: #1967D2;\n",
              "        height: 32px;\n",
              "        padding: 0 0 0 0;\n",
              "        width: 32px;\n",
              "      }\n",
              "\n",
              "      .colab-df-generate:hover {\n",
              "        background-color: #E2EBFA;\n",
              "        box-shadow: 0px 1px 2px rgba(60, 64, 67, 0.3), 0px 1px 3px 1px rgba(60, 64, 67, 0.15);\n",
              "        fill: #174EA6;\n",
              "      }\n",
              "\n",
              "      [theme=dark] .colab-df-generate {\n",
              "        background-color: #3B4455;\n",
              "        fill: #D2E3FC;\n",
              "      }\n",
              "\n",
              "      [theme=dark] .colab-df-generate:hover {\n",
              "        background-color: #434B5C;\n",
              "        box-shadow: 0px 1px 3px 1px rgba(0, 0, 0, 0.15);\n",
              "        filter: drop-shadow(0px 1px 2px rgba(0, 0, 0, 0.3));\n",
              "        fill: #FFFFFF;\n",
              "      }\n",
              "    </style>\n",
              "    <button class=\"colab-df-generate\" onclick=\"generateWithVariable('respondent_error')\"\n",
              "            title=\"Generate code using this dataframe.\"\n",
              "            style=\"display:none;\">\n",
              "\n",
              "  <svg xmlns=\"http://www.w3.org/2000/svg\" height=\"24px\"viewBox=\"0 0 24 24\"\n",
              "       width=\"24px\">\n",
              "    <path d=\"M7,19H8.4L18.45,9,17,7.55,7,17.6ZM5,21V16.75L18.45,3.32a2,2,0,0,1,2.83,0l1.4,1.43a1.91,1.91,0,0,1,.58,1.4,1.91,1.91,0,0,1-.58,1.4L9.25,21ZM18.45,9,17,7.55Zm-12,3A5.31,5.31,0,0,0,4.9,8.1,5.31,5.31,0,0,0,1,6.5,5.31,5.31,0,0,0,4.9,4.9,5.31,5.31,0,0,0,6.5,1,5.31,5.31,0,0,0,8.1,4.9,5.31,5.31,0,0,0,12,6.5,5.46,5.46,0,0,0,6.5,12Z\"/>\n",
              "  </svg>\n",
              "    </button>\n",
              "    <script>\n",
              "      (() => {\n",
              "      const buttonEl =\n",
              "        document.querySelector('#id_e890b0b9-47d0-40eb-b751-59e7f7a46a0e button.colab-df-generate');\n",
              "      buttonEl.style.display =\n",
              "        google.colab.kernel.accessAllowed ? 'block' : 'none';\n",
              "\n",
              "      buttonEl.onclick = () => {\n",
              "        google.colab.notebook.generateWithVariable('respondent_error');\n",
              "      }\n",
              "      })();\n",
              "    </script>\n",
              "  </div>\n",
              "\n",
              "    </div>\n",
              "  </div>\n"
            ],
            "text/plain": [
              "Empty DataFrame\n",
              "Columns: [finger1, finger2, finger3, finger4, finger5, label, name, file, max_1, min_1, max_2, min_2, max_3, min_3, max_4, min_4, max_5, min_5]\n",
              "Index: []"
            ]
          },
          "execution_count": 26,
          "metadata": {},
          "output_type": "execute_result"
        }
      ],
      "source": [
        "#  @title <p> Check if there's any value below 0\n",
        "for col in columns[0:5]:\n",
        "  respondent_error = df_normalized[df_normalized[col] < 0]\n",
        "\n",
        "respondent_error"
      ]
    },
    {
      "cell_type": "code",
      "execution_count": null,
      "metadata": {
        "colab": {
          "base_uri": "https://localhost:8080/"
        },
        "id": "SusvNhocQ2iC",
        "outputId": "14a51708-6363-49b7-c086-07467287cee3"
      },
      "outputs": [
        {
          "name": "stdout",
          "output_type": "stream",
          "text": [
            "--------------------------------------\n",
            "min value of column finger1 0.257\n",
            "max value of column finger1 0.959\n",
            "--------------------------------------\n",
            "--------------------------------------\n",
            "min value of column finger2 0.192\n",
            "max value of column finger2 0.956\n",
            "--------------------------------------\n",
            "--------------------------------------\n",
            "min value of column finger3 0.347\n",
            "max value of column finger3 0.997\n",
            "--------------------------------------\n",
            "--------------------------------------\n",
            "min value of column finger4 0.278\n",
            "max value of column finger4 0.951\n",
            "--------------------------------------\n",
            "--------------------------------------\n",
            "min value of column finger5 0.146\n",
            "max value of column finger5 0.714\n",
            "--------------------------------------\n"
          ]
        }
      ],
      "source": [
        "#  @title <p> Recheck data minimum and maximum value of each finger (not from config) after normalized\n",
        "for col in columns[0:5]:\n",
        "  min_val_act = df_normalized[col].min()\n",
        "  max_val_act = df_normalized[col].max()\n",
        "  print(f\"--------------------------------------\")\n",
        "  print(f\"min value of column {col}\", min_val_act)\n",
        "  print(f\"max value of column {col}\", max_val_act)\n",
        "  print(f\"--------------------------------------\")"
      ]
    },
    {
      "cell_type": "code",
      "execution_count": null,
      "metadata": {
        "colab": {
          "base_uri": "https://localhost:8080/"
        },
        "id": "0zY3T3zjDPjZ",
        "outputId": "8cdb4ca0-88b1-4ffd-b8a6-2de7bc753300"
      },
      "outputs": [
        {
          "name": "stdout",
          "output_type": "stream",
          "text": [
            "label\n",
            "a    1200\n",
            "b    1200\n",
            "c    1200\n",
            "d    1200\n",
            "e    1230\n",
            "f    1200\n",
            "g    1200\n",
            "h    1200\n",
            "i    1200\n",
            "j    1200\n",
            "k    1200\n",
            "l    1193\n",
            "m    1200\n",
            "n    1200\n",
            "o    1200\n",
            "p    1199\n",
            "q    1200\n",
            "r    1200\n",
            "s    1170\n",
            "t    1170\n",
            "u    1140\n",
            "v    1170\n",
            "w    1170\n",
            "x    1170\n",
            "y    1170\n",
            "z     990\n",
            "Name: count, dtype: int64\n"
          ]
        }
      ],
      "source": [
        "# @title <p> Check Total Data of Each Label After Filtered\n",
        "label_counts = df_normalized['label'].value_counts().sort_index()\n",
        "print(label_counts)"
      ]
    },
    {
      "cell_type": "markdown",
      "metadata": {
        "id": "AB6DnBIfLmgR"
      },
      "source": [
        "# SPLIT DATA"
      ]
    },
    {
      "cell_type": "markdown",
      "metadata": {
        "id": "LphDvoAQKz3i"
      },
      "source": [
        "## 1) Split Function"
      ]
    },
    {
      "cell_type": "code",
      "execution_count": null,
      "metadata": {
        "colab": {
          "base_uri": "https://localhost:8080/",
          "height": 423
        },
        "id": "DV5wtDimLqPb",
        "outputId": "665aada0-9823-46ba-defb-9a7a14604116"
      },
      "outputs": [
        {
          "data": {
            "application/vnd.google.colaboratory.intrinsic+json": {
              "summary": "{\n  \"name\": \"df_ready\",\n  \"rows\": 30772,\n  \"fields\": [\n    {\n      \"column\": \"finger1\",\n      \"properties\": {\n        \"dtype\": \"number\",\n        \"std\": 0.14391563713202307,\n        \"min\": 0.257,\n        \"max\": 0.959,\n        \"num_unique_values\": 605,\n        \"samples\": [\n          0.318,\n          0.657,\n          0.351\n        ],\n        \"semantic_type\": \"\",\n        \"description\": \"\"\n      }\n    },\n    {\n      \"column\": \"finger2\",\n      \"properties\": {\n        \"dtype\": \"number\",\n        \"std\": 0.1736655822532884,\n        \"min\": 0.192,\n        \"max\": 0.956,\n        \"num_unique_values\": 649,\n        \"samples\": [\n          0.285,\n          0.369,\n          0.38\n        ],\n        \"semantic_type\": \"\",\n        \"description\": \"\"\n      }\n    },\n    {\n      \"column\": \"finger3\",\n      \"properties\": {\n        \"dtype\": \"number\",\n        \"std\": 0.15066964554118162,\n        \"min\": 0.347,\n        \"max\": 0.997,\n        \"num_unique_values\": 590,\n        \"samples\": [\n          0.601,\n          0.477,\n          0.587\n        ],\n        \"semantic_type\": \"\",\n        \"description\": \"\"\n      }\n    },\n    {\n      \"column\": \"finger4\",\n      \"properties\": {\n        \"dtype\": \"number\",\n        \"std\": 0.14874156726184362,\n        \"min\": 0.278,\n        \"max\": 0.951,\n        \"num_unique_values\": 637,\n        \"samples\": [\n          0.403,\n          0.301,\n          0.779\n        ],\n        \"semantic_type\": \"\",\n        \"description\": \"\"\n      }\n    },\n    {\n      \"column\": \"finger5\",\n      \"properties\": {\n        \"dtype\": \"number\",\n        \"std\": 0.1461061284323776,\n        \"min\": 0.146,\n        \"max\": 0.714,\n        \"num_unique_values\": 542,\n        \"samples\": [\n          0.366,\n          0.448,\n          0.436\n        ],\n        \"semantic_type\": \"\",\n        \"description\": \"\"\n      }\n    },\n    {\n      \"column\": \"label\",\n      \"properties\": {\n        \"dtype\": \"category\",\n        \"num_unique_values\": 26,\n        \"samples\": [\n          \"i\",\n          \"q\",\n          \"a\"\n        ],\n        \"semantic_type\": \"\",\n        \"description\": \"\"\n      }\n    }\n  ]\n}",
              "type": "dataframe",
              "variable_name": "df_ready"
            },
            "text/html": [
              "\n",
              "  <div id=\"df-b993edf0-a6b6-416b-88bc-e91fdfe6a1da\" class=\"colab-df-container\">\n",
              "    <div>\n",
              "<style scoped>\n",
              "    .dataframe tbody tr th:only-of-type {\n",
              "        vertical-align: middle;\n",
              "    }\n",
              "\n",
              "    .dataframe tbody tr th {\n",
              "        vertical-align: top;\n",
              "    }\n",
              "\n",
              "    .dataframe thead th {\n",
              "        text-align: right;\n",
              "    }\n",
              "</style>\n",
              "<table border=\"1\" class=\"dataframe\">\n",
              "  <thead>\n",
              "    <tr style=\"text-align: right;\">\n",
              "      <th></th>\n",
              "      <th>finger1</th>\n",
              "      <th>finger2</th>\n",
              "      <th>finger3</th>\n",
              "      <th>finger4</th>\n",
              "      <th>finger5</th>\n",
              "      <th>label</th>\n",
              "    </tr>\n",
              "  </thead>\n",
              "  <tbody>\n",
              "    <tr>\n",
              "      <th>1021</th>\n",
              "      <td>0.407</td>\n",
              "      <td>0.803</td>\n",
              "      <td>0.968</td>\n",
              "      <td>0.818</td>\n",
              "      <td>0.552</td>\n",
              "      <td>a</td>\n",
              "    </tr>\n",
              "    <tr>\n",
              "      <th>1022</th>\n",
              "      <td>0.406</td>\n",
              "      <td>0.804</td>\n",
              "      <td>0.948</td>\n",
              "      <td>0.814</td>\n",
              "      <td>0.549</td>\n",
              "      <td>a</td>\n",
              "    </tr>\n",
              "    <tr>\n",
              "      <th>1023</th>\n",
              "      <td>0.403</td>\n",
              "      <td>0.802</td>\n",
              "      <td>0.921</td>\n",
              "      <td>0.815</td>\n",
              "      <td>0.549</td>\n",
              "      <td>a</td>\n",
              "    </tr>\n",
              "    <tr>\n",
              "      <th>1024</th>\n",
              "      <td>0.402</td>\n",
              "      <td>0.801</td>\n",
              "      <td>0.848</td>\n",
              "      <td>0.816</td>\n",
              "      <td>0.549</td>\n",
              "      <td>a</td>\n",
              "    </tr>\n",
              "    <tr>\n",
              "      <th>1025</th>\n",
              "      <td>0.404</td>\n",
              "      <td>0.797</td>\n",
              "      <td>0.848</td>\n",
              "      <td>0.815</td>\n",
              "      <td>0.547</td>\n",
              "      <td>a</td>\n",
              "    </tr>\n",
              "    <tr>\n",
              "      <th>...</th>\n",
              "      <td>...</td>\n",
              "      <td>...</td>\n",
              "      <td>...</td>\n",
              "      <td>...</td>\n",
              "      <td>...</td>\n",
              "      <td>...</td>\n",
              "    </tr>\n",
              "    <tr>\n",
              "      <th>20893</th>\n",
              "      <td>0.677</td>\n",
              "      <td>0.431</td>\n",
              "      <td>0.851</td>\n",
              "      <td>0.602</td>\n",
              "      <td>0.555</td>\n",
              "      <td>z</td>\n",
              "    </tr>\n",
              "    <tr>\n",
              "      <th>20894</th>\n",
              "      <td>0.688</td>\n",
              "      <td>0.438</td>\n",
              "      <td>0.856</td>\n",
              "      <td>0.608</td>\n",
              "      <td>0.566</td>\n",
              "      <td>z</td>\n",
              "    </tr>\n",
              "    <tr>\n",
              "      <th>20895</th>\n",
              "      <td>0.677</td>\n",
              "      <td>0.438</td>\n",
              "      <td>0.854</td>\n",
              "      <td>0.609</td>\n",
              "      <td>0.573</td>\n",
              "      <td>z</td>\n",
              "    </tr>\n",
              "    <tr>\n",
              "      <th>20896</th>\n",
              "      <td>0.671</td>\n",
              "      <td>0.435</td>\n",
              "      <td>0.854</td>\n",
              "      <td>0.608</td>\n",
              "      <td>0.580</td>\n",
              "      <td>z</td>\n",
              "    </tr>\n",
              "    <tr>\n",
              "      <th>20897</th>\n",
              "      <td>0.677</td>\n",
              "      <td>0.436</td>\n",
              "      <td>0.863</td>\n",
              "      <td>0.614</td>\n",
              "      <td>0.601</td>\n",
              "      <td>z</td>\n",
              "    </tr>\n",
              "  </tbody>\n",
              "</table>\n",
              "<p>30772 rows × 6 columns</p>\n",
              "</div>\n",
              "    <div class=\"colab-df-buttons\">\n",
              "\n",
              "  <div class=\"colab-df-container\">\n",
              "    <button class=\"colab-df-convert\" onclick=\"convertToInteractive('df-b993edf0-a6b6-416b-88bc-e91fdfe6a1da')\"\n",
              "            title=\"Convert this dataframe to an interactive table.\"\n",
              "            style=\"display:none;\">\n",
              "\n",
              "  <svg xmlns=\"http://www.w3.org/2000/svg\" height=\"24px\" viewBox=\"0 -960 960 960\">\n",
              "    <path d=\"M120-120v-720h720v720H120Zm60-500h600v-160H180v160Zm220 220h160v-160H400v160Zm0 220h160v-160H400v160ZM180-400h160v-160H180v160Zm440 0h160v-160H620v160ZM180-180h160v-160H180v160Zm440 0h160v-160H620v160Z\"/>\n",
              "  </svg>\n",
              "    </button>\n",
              "\n",
              "  <style>\n",
              "    .colab-df-container {\n",
              "      display:flex;\n",
              "      gap: 12px;\n",
              "    }\n",
              "\n",
              "    .colab-df-convert {\n",
              "      background-color: #E8F0FE;\n",
              "      border: none;\n",
              "      border-radius: 50%;\n",
              "      cursor: pointer;\n",
              "      display: none;\n",
              "      fill: #1967D2;\n",
              "      height: 32px;\n",
              "      padding: 0 0 0 0;\n",
              "      width: 32px;\n",
              "    }\n",
              "\n",
              "    .colab-df-convert:hover {\n",
              "      background-color: #E2EBFA;\n",
              "      box-shadow: 0px 1px 2px rgba(60, 64, 67, 0.3), 0px 1px 3px 1px rgba(60, 64, 67, 0.15);\n",
              "      fill: #174EA6;\n",
              "    }\n",
              "\n",
              "    .colab-df-buttons div {\n",
              "      margin-bottom: 4px;\n",
              "    }\n",
              "\n",
              "    [theme=dark] .colab-df-convert {\n",
              "      background-color: #3B4455;\n",
              "      fill: #D2E3FC;\n",
              "    }\n",
              "\n",
              "    [theme=dark] .colab-df-convert:hover {\n",
              "      background-color: #434B5C;\n",
              "      box-shadow: 0px 1px 3px 1px rgba(0, 0, 0, 0.15);\n",
              "      filter: drop-shadow(0px 1px 2px rgba(0, 0, 0, 0.3));\n",
              "      fill: #FFFFFF;\n",
              "    }\n",
              "  </style>\n",
              "\n",
              "    <script>\n",
              "      const buttonEl =\n",
              "        document.querySelector('#df-b993edf0-a6b6-416b-88bc-e91fdfe6a1da button.colab-df-convert');\n",
              "      buttonEl.style.display =\n",
              "        google.colab.kernel.accessAllowed ? 'block' : 'none';\n",
              "\n",
              "      async function convertToInteractive(key) {\n",
              "        const element = document.querySelector('#df-b993edf0-a6b6-416b-88bc-e91fdfe6a1da');\n",
              "        const dataTable =\n",
              "          await google.colab.kernel.invokeFunction('convertToInteractive',\n",
              "                                                    [key], {});\n",
              "        if (!dataTable) return;\n",
              "\n",
              "        const docLinkHtml = 'Like what you see? Visit the ' +\n",
              "          '<a target=\"_blank\" href=https://colab.research.google.com/notebooks/data_table.ipynb>data table notebook</a>'\n",
              "          + ' to learn more about interactive tables.';\n",
              "        element.innerHTML = '';\n",
              "        dataTable['output_type'] = 'display_data';\n",
              "        await google.colab.output.renderOutput(dataTable, element);\n",
              "        const docLink = document.createElement('div');\n",
              "        docLink.innerHTML = docLinkHtml;\n",
              "        element.appendChild(docLink);\n",
              "      }\n",
              "    </script>\n",
              "  </div>\n",
              "\n",
              "\n",
              "    <div id=\"df-144cb087-035a-489e-99b4-d3d19e86135e\">\n",
              "      <button class=\"colab-df-quickchart\" onclick=\"quickchart('df-144cb087-035a-489e-99b4-d3d19e86135e')\"\n",
              "                title=\"Suggest charts\"\n",
              "                style=\"display:none;\">\n",
              "\n",
              "<svg xmlns=\"http://www.w3.org/2000/svg\" height=\"24px\"viewBox=\"0 0 24 24\"\n",
              "     width=\"24px\">\n",
              "    <g>\n",
              "        <path d=\"M19 3H5c-1.1 0-2 .9-2 2v14c0 1.1.9 2 2 2h14c1.1 0 2-.9 2-2V5c0-1.1-.9-2-2-2zM9 17H7v-7h2v7zm4 0h-2V7h2v10zm4 0h-2v-4h2v4z\"/>\n",
              "    </g>\n",
              "</svg>\n",
              "      </button>\n",
              "\n",
              "<style>\n",
              "  .colab-df-quickchart {\n",
              "      --bg-color: #E8F0FE;\n",
              "      --fill-color: #1967D2;\n",
              "      --hover-bg-color: #E2EBFA;\n",
              "      --hover-fill-color: #174EA6;\n",
              "      --disabled-fill-color: #AAA;\n",
              "      --disabled-bg-color: #DDD;\n",
              "  }\n",
              "\n",
              "  [theme=dark] .colab-df-quickchart {\n",
              "      --bg-color: #3B4455;\n",
              "      --fill-color: #D2E3FC;\n",
              "      --hover-bg-color: #434B5C;\n",
              "      --hover-fill-color: #FFFFFF;\n",
              "      --disabled-bg-color: #3B4455;\n",
              "      --disabled-fill-color: #666;\n",
              "  }\n",
              "\n",
              "  .colab-df-quickchart {\n",
              "    background-color: var(--bg-color);\n",
              "    border: none;\n",
              "    border-radius: 50%;\n",
              "    cursor: pointer;\n",
              "    display: none;\n",
              "    fill: var(--fill-color);\n",
              "    height: 32px;\n",
              "    padding: 0;\n",
              "    width: 32px;\n",
              "  }\n",
              "\n",
              "  .colab-df-quickchart:hover {\n",
              "    background-color: var(--hover-bg-color);\n",
              "    box-shadow: 0 1px 2px rgba(60, 64, 67, 0.3), 0 1px 3px 1px rgba(60, 64, 67, 0.15);\n",
              "    fill: var(--button-hover-fill-color);\n",
              "  }\n",
              "\n",
              "  .colab-df-quickchart-complete:disabled,\n",
              "  .colab-df-quickchart-complete:disabled:hover {\n",
              "    background-color: var(--disabled-bg-color);\n",
              "    fill: var(--disabled-fill-color);\n",
              "    box-shadow: none;\n",
              "  }\n",
              "\n",
              "  .colab-df-spinner {\n",
              "    border: 2px solid var(--fill-color);\n",
              "    border-color: transparent;\n",
              "    border-bottom-color: var(--fill-color);\n",
              "    animation:\n",
              "      spin 1s steps(1) infinite;\n",
              "  }\n",
              "\n",
              "  @keyframes spin {\n",
              "    0% {\n",
              "      border-color: transparent;\n",
              "      border-bottom-color: var(--fill-color);\n",
              "      border-left-color: var(--fill-color);\n",
              "    }\n",
              "    20% {\n",
              "      border-color: transparent;\n",
              "      border-left-color: var(--fill-color);\n",
              "      border-top-color: var(--fill-color);\n",
              "    }\n",
              "    30% {\n",
              "      border-color: transparent;\n",
              "      border-left-color: var(--fill-color);\n",
              "      border-top-color: var(--fill-color);\n",
              "      border-right-color: var(--fill-color);\n",
              "    }\n",
              "    40% {\n",
              "      border-color: transparent;\n",
              "      border-right-color: var(--fill-color);\n",
              "      border-top-color: var(--fill-color);\n",
              "    }\n",
              "    60% {\n",
              "      border-color: transparent;\n",
              "      border-right-color: var(--fill-color);\n",
              "    }\n",
              "    80% {\n",
              "      border-color: transparent;\n",
              "      border-right-color: var(--fill-color);\n",
              "      border-bottom-color: var(--fill-color);\n",
              "    }\n",
              "    90% {\n",
              "      border-color: transparent;\n",
              "      border-bottom-color: var(--fill-color);\n",
              "    }\n",
              "  }\n",
              "</style>\n",
              "\n",
              "      <script>\n",
              "        async function quickchart(key) {\n",
              "          const quickchartButtonEl =\n",
              "            document.querySelector('#' + key + ' button');\n",
              "          quickchartButtonEl.disabled = true;  // To prevent multiple clicks.\n",
              "          quickchartButtonEl.classList.add('colab-df-spinner');\n",
              "          try {\n",
              "            const charts = await google.colab.kernel.invokeFunction(\n",
              "                'suggestCharts', [key], {});\n",
              "          } catch (error) {\n",
              "            console.error('Error during call to suggestCharts:', error);\n",
              "          }\n",
              "          quickchartButtonEl.classList.remove('colab-df-spinner');\n",
              "          quickchartButtonEl.classList.add('colab-df-quickchart-complete');\n",
              "        }\n",
              "        (() => {\n",
              "          let quickchartButtonEl =\n",
              "            document.querySelector('#df-144cb087-035a-489e-99b4-d3d19e86135e button');\n",
              "          quickchartButtonEl.style.display =\n",
              "            google.colab.kernel.accessAllowed ? 'block' : 'none';\n",
              "        })();\n",
              "      </script>\n",
              "    </div>\n",
              "\n",
              "  <div id=\"id_585ebf3f-f424-4b10-a9cd-0d7141665a33\">\n",
              "    <style>\n",
              "      .colab-df-generate {\n",
              "        background-color: #E8F0FE;\n",
              "        border: none;\n",
              "        border-radius: 50%;\n",
              "        cursor: pointer;\n",
              "        display: none;\n",
              "        fill: #1967D2;\n",
              "        height: 32px;\n",
              "        padding: 0 0 0 0;\n",
              "        width: 32px;\n",
              "      }\n",
              "\n",
              "      .colab-df-generate:hover {\n",
              "        background-color: #E2EBFA;\n",
              "        box-shadow: 0px 1px 2px rgba(60, 64, 67, 0.3), 0px 1px 3px 1px rgba(60, 64, 67, 0.15);\n",
              "        fill: #174EA6;\n",
              "      }\n",
              "\n",
              "      [theme=dark] .colab-df-generate {\n",
              "        background-color: #3B4455;\n",
              "        fill: #D2E3FC;\n",
              "      }\n",
              "\n",
              "      [theme=dark] .colab-df-generate:hover {\n",
              "        background-color: #434B5C;\n",
              "        box-shadow: 0px 1px 3px 1px rgba(0, 0, 0, 0.15);\n",
              "        filter: drop-shadow(0px 1px 2px rgba(0, 0, 0, 0.3));\n",
              "        fill: #FFFFFF;\n",
              "      }\n",
              "    </style>\n",
              "    <button class=\"colab-df-generate\" onclick=\"generateWithVariable('df_ready')\"\n",
              "            title=\"Generate code using this dataframe.\"\n",
              "            style=\"display:none;\">\n",
              "\n",
              "  <svg xmlns=\"http://www.w3.org/2000/svg\" height=\"24px\"viewBox=\"0 0 24 24\"\n",
              "       width=\"24px\">\n",
              "    <path d=\"M7,19H8.4L18.45,9,17,7.55,7,17.6ZM5,21V16.75L18.45,3.32a2,2,0,0,1,2.83,0l1.4,1.43a1.91,1.91,0,0,1,.58,1.4,1.91,1.91,0,0,1-.58,1.4L9.25,21ZM18.45,9,17,7.55Zm-12,3A5.31,5.31,0,0,0,4.9,8.1,5.31,5.31,0,0,0,1,6.5,5.31,5.31,0,0,0,4.9,4.9,5.31,5.31,0,0,0,6.5,1,5.31,5.31,0,0,0,8.1,4.9,5.31,5.31,0,0,0,12,6.5,5.46,5.46,0,0,0,6.5,12Z\"/>\n",
              "  </svg>\n",
              "    </button>\n",
              "    <script>\n",
              "      (() => {\n",
              "      const buttonEl =\n",
              "        document.querySelector('#id_585ebf3f-f424-4b10-a9cd-0d7141665a33 button.colab-df-generate');\n",
              "      buttonEl.style.display =\n",
              "        google.colab.kernel.accessAllowed ? 'block' : 'none';\n",
              "\n",
              "      buttonEl.onclick = () => {\n",
              "        google.colab.notebook.generateWithVariable('df_ready');\n",
              "      }\n",
              "      })();\n",
              "    </script>\n",
              "  </div>\n",
              "\n",
              "    </div>\n",
              "  </div>\n"
            ],
            "text/plain": [
              "       finger1  finger2  finger3  finger4  finger5 label\n",
              "1021     0.407    0.803    0.968    0.818    0.552     a\n",
              "1022     0.406    0.804    0.948    0.814    0.549     a\n",
              "1023     0.403    0.802    0.921    0.815    0.549     a\n",
              "1024     0.402    0.801    0.848    0.816    0.549     a\n",
              "1025     0.404    0.797    0.848    0.815    0.547     a\n",
              "...        ...      ...      ...      ...      ...   ...\n",
              "20893    0.677    0.431    0.851    0.602    0.555     z\n",
              "20894    0.688    0.438    0.856    0.608    0.566     z\n",
              "20895    0.677    0.438    0.854    0.609    0.573     z\n",
              "20896    0.671    0.435    0.854    0.608    0.580     z\n",
              "20897    0.677    0.436    0.863    0.614    0.601     z\n",
              "\n",
              "[30772 rows x 6 columns]"
            ]
          },
          "execution_count": 29,
          "metadata": {},
          "output_type": "execute_result"
        }
      ],
      "source": [
        "# @title <p> Drop the unwanted columns\n",
        "df_ready = df_normalized.drop(columns=[\"name\", \"file\", \"max_1\", \"min_1\", \"max_2\", \"min_2\", \"max_3\", \"min_3\", \"max_4\", \"min_4\", \"max_5\", \"min_5\"], axis=-1)\n",
        "df_ready"
      ]
    },
    {
      "cell_type": "code",
      "execution_count": null,
      "metadata": {
        "id": "lDqkH6ZP9kVJ"
      },
      "outputs": [],
      "source": [
        "# @title <p> Reshape the data as sequences\n",
        "def create_sequences(df_ready, seq_length=20, stride=2):\n",
        "  data_dict = {}\n",
        "  letters = df_ready['label'].unique()\n",
        "\n",
        "  for letter in letters:\n",
        "        letter_df = df_ready[df_ready['label'] == letter].drop('label', axis=1)\n",
        "        arr = letter_df.to_numpy().astype(np.float32)\n",
        "\n",
        "        sequences = []\n",
        "        for i in range(0, len(arr) - seq_length + 1, stride):\n",
        "            window = arr[i:i + seq_length]  # shape: (20, 5)\n",
        "            tensor = torch.tensor(window)\n",
        "            sequences.append(tensor)\n",
        "\n",
        "        if sequences:\n",
        "            data_dict[letter] = sequences\n",
        "        else:\n",
        "            print(f\"No valid sequences for letter {letter}, skipping.\")\n",
        "\n",
        "  return data_dict"
      ]
    },
    {
      "cell_type": "code",
      "execution_count": null,
      "metadata": {
        "id": "YN45snMe-Hen"
      },
      "outputs": [],
      "source": [
        "# @title <p> Split the data to train, test, val\n",
        "def split_data(dict, val_test_size=0.3):\n",
        "  trainset, testset, valset = {}, {}, {}\n",
        "\n",
        "  for letter, data in sequenced_dict.items():\n",
        "    traindata, tempdata = train_test_split(data, test_size=val_test_size, random_state=42, shuffle=True)\n",
        "    valdata, testdata = train_test_split(tempdata, test_size=0.5, random_state=42, shuffle=True)\n",
        "\n",
        "    if letter in trainset:\n",
        "      trainset[letter].append(traindata)\n",
        "      valset[letter].append(valdata)\n",
        "      testset[letter].append(testdata)\n",
        "    else:\n",
        "      trainset[letter] = np.array(traindata)\n",
        "      valset[letter] = np.array(valdata)\n",
        "      testset[letter] = np.array(testdata)\n",
        "\n",
        "  return trainset, valset, testset"
      ]
    },
    {
      "cell_type": "code",
      "execution_count": null,
      "metadata": {
        "id": "r43V07ZGO2AI"
      },
      "outputs": [],
      "source": [
        "# @title <p> One hot encode labels and create sequence\n",
        "class SIBIDataset(Dataset):\n",
        "    def __init__(self, data_dict):\n",
        "      self.data_dict = data_dict\n",
        "      self.features = []\n",
        "      self.labels = []\n",
        "\n",
        "      for letter, data in data_dict.items():\n",
        "        for feature in data:\n",
        "          self.features.append(feature)\n",
        "          self.labels.append(Functional.one_hot(torch.tensor(ord(letter) - 97), num_classes=26).float())\n",
        "\n",
        "    def __len__(self):\n",
        "        return len(self.features)\n",
        "\n",
        "    def __getitem__(self, idx):\n",
        "        return self.features[idx], self.labels[idx]"
      ]
    },
    {
      "cell_type": "code",
      "execution_count": null,
      "metadata": {
        "id": "C9hww5RXO9Up"
      },
      "outputs": [],
      "source": [
        "# @title <p> Create data loader\n",
        "BATCH_SIZE = 32\n",
        "NUM_WORKERS = 1\n",
        "SEQ_LENGTH = 20\n",
        "\n",
        "sequenced_dict = create_sequences(df_ready)\n",
        "trainset, valset, testset = split_data(sequenced_dict)\n",
        "\n",
        "trainseq = SIBIDataset(trainset)\n",
        "valseq = SIBIDataset(valset)\n",
        "testseq = SIBIDataset(testset)\n",
        "\n",
        "trainloader = DataLoader(trainseq, batch_size=BATCH_SIZE, shuffle=True, num_workers=NUM_WORKERS)\n",
        "valloader = DataLoader(valseq, batch_size=BATCH_SIZE, shuffle=True, num_workers=NUM_WORKERS)\n",
        "testloader = DataLoader(testseq, batch_size=BATCH_SIZE, shuffle=True, num_workers=NUM_WORKERS)"
      ]
    },
    {
      "cell_type": "markdown",
      "metadata": {
        "id": "Z9nNjhnJK3o7"
      },
      "source": [
        "## 2) Check Data"
      ]
    },
    {
      "cell_type": "code",
      "execution_count": null,
      "metadata": {
        "colab": {
          "base_uri": "https://localhost:8080/"
        },
        "id": "AjKqTc0fKOli",
        "outputId": "41a82051-a4ca-43ba-c3bf-b3000d4a2009"
      },
      "outputs": [
        {
          "name": "stdout",
          "output_type": "stream",
          "text": [
            "a\n",
            "591\n"
          ]
        }
      ],
      "source": [
        "for letter, data in sequenced_dict.items():\n",
        "  print(letter)\n",
        "  print(len(data))\n",
        "  break"
      ]
    },
    {
      "cell_type": "code",
      "execution_count": null,
      "metadata": {
        "colab": {
          "base_uri": "https://localhost:8080/"
        },
        "id": "aCEOmoQtXUzC",
        "outputId": "5457925d-ffea-40df-8a69-ceb7db835d82"
      },
      "outputs": [
        {
          "data": {
            "text/plain": [
              "413"
            ]
          },
          "execution_count": 35,
          "metadata": {},
          "output_type": "execute_result"
        }
      ],
      "source": [
        "len(trainset['a'])"
      ]
    },
    {
      "cell_type": "code",
      "execution_count": null,
      "metadata": {
        "colab": {
          "base_uri": "https://localhost:8080/"
        },
        "id": "TEWVFF1emQor",
        "outputId": "d9a20093-05ac-4eeb-f8f0-9392dbb1aefa"
      },
      "outputs": [
        {
          "data": {
            "text/plain": [
              "89"
            ]
          },
          "execution_count": 36,
          "metadata": {},
          "output_type": "execute_result"
        }
      ],
      "source": [
        "len(testset['a'])"
      ]
    },
    {
      "cell_type": "code",
      "execution_count": null,
      "metadata": {
        "colab": {
          "base_uri": "https://localhost:8080/"
        },
        "id": "eYU-obgYRgzt",
        "outputId": "48375b71-ee34-419a-e09d-09a8fc3be138"
      },
      "outputs": [
        {
          "data": {
            "text/plain": [
              "(26, 26, 26)"
            ]
          },
          "execution_count": 37,
          "metadata": {},
          "output_type": "execute_result"
        }
      ],
      "source": [
        "len(trainset), len(valset), len(testset)"
      ]
    },
    {
      "cell_type": "code",
      "execution_count": null,
      "metadata": {
        "colab": {
          "base_uri": "https://localhost:8080/"
        },
        "id": "0cHyRQO7VTDI",
        "outputId": "36dce6b9-0d80-4abc-bfe3-bfaf0755b5ba"
      },
      "outputs": [
        {
          "data": {
            "text/plain": [
              "(10592, 2275, 2284)"
            ]
          },
          "execution_count": 38,
          "metadata": {},
          "output_type": "execute_result"
        }
      ],
      "source": [
        "len(trainseq), len(valseq), len(testseq)"
      ]
    },
    {
      "cell_type": "code",
      "execution_count": null,
      "metadata": {
        "colab": {
          "base_uri": "https://localhost:8080/"
        },
        "id": "sNQITB16f4qZ",
        "outputId": "a7525532-470b-464c-dfce-159a6746ce6c"
      },
      "outputs": [
        {
          "data": {
            "text/plain": [
              "((20, 5), torch.Size([26]))"
            ]
          },
          "execution_count": 39,
          "metadata": {},
          "output_type": "execute_result"
        }
      ],
      "source": [
        "trainseq[0][0].shape, trainseq[0][1].shape"
      ]
    },
    {
      "cell_type": "code",
      "execution_count": null,
      "metadata": {
        "collapsed": true,
        "id": "_CTZQh7BO_tC"
      },
      "outputs": [],
      "source": [
        "# for batch, (X, y) in enumerate(trainloader):\n",
        "#     print(f\"Batch: {batch+1}\")\n",
        "#     print(f\"X shape: {X.shape}\")\n",
        "#     print(f\"y shape: {y.shape}\")\n",
        "#     print(f\"X: {X}\")\n",
        "#     print(f\"y: {y}\")\n",
        "#     break"
      ]
    },
    {
      "cell_type": "markdown",
      "metadata": {
        "id": "jF5qrF-A6r10"
      },
      "source": [
        "# TRAINING DATA"
      ]
    },
    {
      "cell_type": "code",
      "execution_count": null,
      "metadata": {
        "id": "Un4IE1mR-7Bb"
      },
      "outputs": [],
      "source": [
        "# @title <p> Initialize LSTM model\n",
        "class SIBILSTMModel(nn.Module):\n",
        "  def __init__(self, input_size, hidden_size, num_layers, output_size, seq_length=20):\n",
        "    super(SIBILSTMModel, self).__init__()\n",
        "\n",
        "    self.hidden_size = hidden_size\n",
        "    self.num_layers = num_layers\n",
        "    self.seq_length = seq_length\n",
        "\n",
        "    self.lstm = nn.LSTM(input_size, hidden_size, num_layers, dropout=0.3, batch_first=True, bidirectional=True)\n",
        "    self.flatten = nn.Flatten()\n",
        "    self.fc1 = nn.Linear(in_features=seq_length*hidden_size*2, out_features=hidden_size)\n",
        "    self.ln = nn.LayerNorm(hidden_size)\n",
        "    self.dropout = nn.Dropout(p=0.3)\n",
        "    self.fc2 = nn.Linear(in_features=hidden_size, out_features=output_size)\n",
        "\n",
        "\n",
        "  def forward(self, x):\n",
        "    num_directions = 2\n",
        "    h0 = torch.zeros(self.num_layers * num_directions, x.size(0), self.hidden_size).to(device)\n",
        "    c0 = torch.zeros(self.num_layers * num_directions, x.size(0), self.hidden_size).to(device)\n",
        "\n",
        "    out, _ = self.lstm(x, (h0, c0))\n",
        "    out_flat = self.flatten(out)\n",
        "\n",
        "    out_fc1 = Functional.relu(self.ln(self.fc1(out_flat)))\n",
        "    out_fc2 = self.fc2(self.dropout(out_fc1))\n",
        "    pred = out_fc2\n",
        "\n",
        "    return pred"
      ]
    },
    {
      "cell_type": "code",
      "execution_count": null,
      "metadata": {
        "id": "i5TsWmzHDAWa"
      },
      "outputs": [],
      "source": [
        "# # @title <p> Initialize LSTM model\n",
        "# class SIBILSTMModel(nn.Module):\n",
        "#   def __init__(self, input_size, hidden_size, num_layers, output_size):\n",
        "#     super(SIBILSTMModel, self).__init__()\n",
        "\n",
        "#     self.hidden_size = hidden_size\n",
        "#     self.num_layers = num_layers\n",
        "#     self.num_directions = 2\n",
        "\n",
        "#     self.lstm = nn.LSTM(input_size, hidden_size, num_layers, dropout=0.3, batch_first=True, bidirectional=True)\n",
        "#     self.dropout = nn.Dropout(p=0.3)\n",
        "#     self.layer_norm = nn.LayerNorm(hidden_size * self.num_directions)\n",
        "#     self.fc1 = nn.Linear(in_features=hidden_size * self.num_directions, out_features=hidden_size * 2)\n",
        "#     self.fc2 = nn.Linear(in_features=hidden_size * 2, out_features=output_size)\n",
        "\n",
        "\n",
        "#   def forward(self, x):\n",
        "#     batch_size = x.size(0)\n",
        "#     h0 = torch.zeros(self.num_layers * self.num_directions, batch_size, self.hidden_size).to(device)\n",
        "#     c0 = torch.zeros(self.num_layers * self.num_directions, batch_size, self.hidden_size).to(device)\n",
        "\n",
        "#     out, _ = self.lstm(x, (h0, c0)) # out shape: (batch, seq_len, hidden * 2)\n",
        "#     out_last = out[:, -1, :]\n",
        "\n",
        "#     out_fc1 = Functional.relu(self.layer_norm(self.fc1(out_last)))\n",
        "#     out_fc2 = self.fc2(self.dropout(out_fc1))\n",
        "#     pred = out_fc2\n",
        "\n",
        "#     return pred"
      ]
    },
    {
      "cell_type": "code",
      "execution_count": null,
      "metadata": {
        "id": "tGB8h5TlDrb4"
      },
      "outputs": [],
      "source": [
        "# @title <p> Create Model Training Loop Function\n",
        "def train_loop(train_loader, val_loader, epoch_num, patience, model, loss_fn, optimizer, device, scheduler=None):\n",
        "  train_loss_values, validation_loss_values = list(), list()\n",
        "  train_accuracy_values, validation_accuracy_values = list(), list()\n",
        "  model = model.to(device)\n",
        "  best_val_acc = -1\n",
        "\n",
        "  for epoch in range(epoch_num):\n",
        "    # print epoch count\n",
        "    print(\"-\" * 40)\n",
        "    print(f\"epoch {epoch + 1}/{epoch_num}\")\n",
        "    model.train()\n",
        "\n",
        "    train_loss, step = 0, 1\n",
        "    steps_per_epoch = len(trainset) // train_loader.batch_size\n",
        "\n",
        "    tload = tqdm(train_loader)\n",
        "    tload.set_description(f\"Epoch: {epoch+1}\")\n",
        "\n",
        "    total_train_preds, total_train_labels = list(), list()\n",
        "\n",
        "    # Train\n",
        "    for batch_data in tload:\n",
        "      train_data, train_labels = batch_data[0].to(device), batch_data[1].to(device)\n",
        "      optimizer.zero_grad()\n",
        "\n",
        "      train_pred = model(train_data)\n",
        "\n",
        "      total_train_preds.append(train_pred)\n",
        "      total_train_labels.append(train_labels)\n",
        "\n",
        "      loss = loss_fn(train_pred, train_labels)\n",
        "      loss.backward()\n",
        "      optimizer.step()\n",
        "\n",
        "      train_loss += loss.item()\n",
        "\n",
        "      tload.set_postfix(loss=loss.item())\n",
        "      step += 1\n",
        "\n",
        "    train_loss /= len(train_loader)\n",
        "    train_loss_values.append(train_loss)\n",
        "\n",
        "    y_train_pred = torch.cat(total_train_preds)\n",
        "    y_train_labels = torch.cat(total_train_labels)\n",
        "\n",
        "    train_true_pred = [torch.argmax(x1) == torch.argmax(x2) for x1, x2 in zip(y_train_pred, y_train_labels)]\n",
        "    train_acc = float(sum(1 for i in train_true_pred if i))/len(y_train_pred)\n",
        "    train_accuracy_values.append(train_acc)\n",
        "\n",
        "    if scheduler is not None:\n",
        "      scheduler.step(train_loss)\n",
        "      for param_group in optimizer.param_groups:\n",
        "        print(f\"Current learning rate: {param_group['lr']}\")\n",
        "\n",
        "    # Validation\n",
        "    model.eval()\n",
        "    val_loss = 0\n",
        "    total_val_preds, total_val_labels = list(), list()\n",
        "    with torch.no_grad():\n",
        "      for val_datas in val_loader:\n",
        "        val_data, val_labels = val_datas[0].to(device), val_datas[1].to(device)\n",
        "\n",
        "        val_pred = model(val_data)\n",
        "        total_val_preds.append(val_pred)\n",
        "        total_val_labels.append(val_labels)\n",
        "\n",
        "        loss = loss_fn(val_pred, val_labels)\n",
        "        val_loss += loss.item()\n",
        "\n",
        "      val_loss /= len(val_loader)\n",
        "      validation_loss_values.append(loss.item())\n",
        "\n",
        "      y_val_pred = torch.cat(total_val_preds)\n",
        "      y_val_labels = torch.cat(total_val_labels)\n",
        "\n",
        "      val_true_pred = [torch.argmax(x1) == torch.argmax(x2) for x1, x2 in zip(y_val_pred, y_val_labels)]\n",
        "      val_acc = float(sum(1 for i in val_true_pred if i))/len(y_val_pred)\n",
        "      validation_accuracy_values.append(val_acc)\n",
        "\n",
        "      if val_acc > best_val_acc:\n",
        "          best_val_acc = val_acc\n",
        "          os.makedirs(\"models\", exist_ok=True)\n",
        "          torch.save(model.state_dict(), './models/lstm_flex_best_model.pth')\n",
        "          print(\"saved new best val accuracy model\")\n",
        "\n",
        "      print(\n",
        "          f\"current epoch: {epoch + 1} \\t \"\n",
        "          f\"current val accuracy: {val_acc:.4f} \\t\"\n",
        "          f\"best val accuracy: {best_val_acc:.4f}\"\n",
        "          )\n",
        "  return train_loss_values, train_accuracy_values, validation_loss_values, validation_accuracy_values"
      ]
    },
    {
      "cell_type": "code",
      "execution_count": null,
      "metadata": {
        "id": "vKkVaICfPJlU"
      },
      "outputs": [],
      "source": [
        "LEARNING_RATE = 1e-4\n",
        "EPOCH_NUM = 200\n",
        "PATIENCE = 5\n",
        "SEQ_LENGTH= 20\n",
        "\n",
        "device = torch.device('cuda' if torch.cuda.is_available() else 'cpu')\n",
        "model = SIBILSTMModel(input_size=5, hidden_size=64, num_layers=2, output_size=26, seq_length=SEQ_LENGTH).to(device)\n",
        "# model = SIBILSTMModel(input_size=5, hidden_size=64, num_layers=3, output_size=26).to(device)\n",
        "loss_fn = torch.nn.CrossEntropyLoss()\n",
        "optimizer = torch.optim.Adam(model.parameters(), lr=LEARNING_RATE)\n",
        "scheduler = torch.optim.lr_scheduler.ReduceLROnPlateau(optimizer, mode='min', factor=0.1, patience=PATIENCE, min_lr=1e-8)"
      ]
    },
    {
      "cell_type": "code",
      "execution_count": null,
      "metadata": {
        "colab": {
          "base_uri": "https://localhost:8080/",
          "height": 1000
        },
        "id": "M0t7eU6JPLz8",
        "outputId": "b289fc8f-0205-418e-9ca9-8176403bfee3"
      },
      "outputs": [
        {
          "name": "stdout",
          "output_type": "stream",
          "text": [
            "----------------------------------------\n",
            "epoch 1/200\n"
          ]
        },
        {
          "data": {
            "application/vnd.jupyter.widget-view+json": {
              "model_id": "3cce7b9ed8b74cfa85d0fc0fa1962dbf",
              "version_major": 2,
              "version_minor": 0
            },
            "text/plain": [
              "  0%|          | 0/331 [00:00<?, ?it/s]"
            ]
          },
          "metadata": {},
          "output_type": "display_data"
        },
        {
          "name": "stdout",
          "output_type": "stream",
          "text": [
            "Current learning rate: 0.0001\n",
            "saved new best val accuracy model\n",
            "current epoch: 1 \t current val accuracy: 0.4233 \tbest val accuracy: 0.4233\n",
            "----------------------------------------\n",
            "epoch 2/200\n"
          ]
        },
        {
          "data": {
            "application/vnd.jupyter.widget-view+json": {
              "model_id": "0809cd0f175d4ee0b7dc84726b71b458",
              "version_major": 2,
              "version_minor": 0
            },
            "text/plain": [
              "  0%|          | 0/331 [00:00<?, ?it/s]"
            ]
          },
          "metadata": {},
          "output_type": "display_data"
        },
        {
          "name": "stdout",
          "output_type": "stream",
          "text": [
            "Current learning rate: 0.0001\n",
            "saved new best val accuracy model\n",
            "current epoch: 2 \t current val accuracy: 0.5108 \tbest val accuracy: 0.5108\n",
            "----------------------------------------\n",
            "epoch 3/200\n"
          ]
        },
        {
          "data": {
            "application/vnd.jupyter.widget-view+json": {
              "model_id": "92b83037089c413890c90062215f42d4",
              "version_major": 2,
              "version_minor": 0
            },
            "text/plain": [
              "  0%|          | 0/331 [00:00<?, ?it/s]"
            ]
          },
          "metadata": {},
          "output_type": "display_data"
        },
        {
          "name": "stdout",
          "output_type": "stream",
          "text": [
            "Current learning rate: 0.0001\n",
            "saved new best val accuracy model\n",
            "current epoch: 3 \t current val accuracy: 0.5675 \tbest val accuracy: 0.5675\n",
            "----------------------------------------\n",
            "epoch 4/200\n"
          ]
        },
        {
          "data": {
            "application/vnd.jupyter.widget-view+json": {
              "model_id": "88c8431ec8c74bd5b6358ce15d1b9c34",
              "version_major": 2,
              "version_minor": 0
            },
            "text/plain": [
              "  0%|          | 0/331 [00:00<?, ?it/s]"
            ]
          },
          "metadata": {},
          "output_type": "display_data"
        },
        {
          "name": "stdout",
          "output_type": "stream",
          "text": [
            "Current learning rate: 0.0001\n",
            "saved new best val accuracy model\n",
            "current epoch: 4 \t current val accuracy: 0.6088 \tbest val accuracy: 0.6088\n",
            "----------------------------------------\n",
            "epoch 5/200\n"
          ]
        },
        {
          "data": {
            "application/vnd.jupyter.widget-view+json": {
              "model_id": "283b9fcb497b4d8b8dbb6e2667786215",
              "version_major": 2,
              "version_minor": 0
            },
            "text/plain": [
              "  0%|          | 0/331 [00:00<?, ?it/s]"
            ]
          },
          "metadata": {},
          "output_type": "display_data"
        },
        {
          "name": "stdout",
          "output_type": "stream",
          "text": [
            "Current learning rate: 0.0001\n",
            "saved new best val accuracy model\n",
            "current epoch: 5 \t current val accuracy: 0.6185 \tbest val accuracy: 0.6185\n",
            "----------------------------------------\n",
            "epoch 6/200\n"
          ]
        },
        {
          "data": {
            "application/vnd.jupyter.widget-view+json": {
              "model_id": "7a3dae5cac9f436dbb20b438761bbda6",
              "version_major": 2,
              "version_minor": 0
            },
            "text/plain": [
              "  0%|          | 0/331 [00:00<?, ?it/s]"
            ]
          },
          "metadata": {},
          "output_type": "display_data"
        },
        {
          "name": "stdout",
          "output_type": "stream",
          "text": [
            "Current learning rate: 0.0001\n",
            "saved new best val accuracy model\n",
            "current epoch: 6 \t current val accuracy: 0.6703 \tbest val accuracy: 0.6703\n",
            "----------------------------------------\n",
            "epoch 7/200\n"
          ]
        },
        {
          "data": {
            "application/vnd.jupyter.widget-view+json": {
              "model_id": "2714bb7b362648d2907942ba1baeefbc",
              "version_major": 2,
              "version_minor": 0
            },
            "text/plain": [
              "  0%|          | 0/331 [00:00<?, ?it/s]"
            ]
          },
          "metadata": {},
          "output_type": "display_data"
        },
        {
          "name": "stdout",
          "output_type": "stream",
          "text": [
            "Current learning rate: 0.0001\n",
            "current epoch: 7 \t current val accuracy: 0.6637 \tbest val accuracy: 0.6703\n",
            "----------------------------------------\n",
            "epoch 8/200\n"
          ]
        },
        {
          "data": {
            "application/vnd.jupyter.widget-view+json": {
              "model_id": "d5f0bc3663d94332a3a587e6382e9fe4",
              "version_major": 2,
              "version_minor": 0
            },
            "text/plain": [
              "  0%|          | 0/331 [00:00<?, ?it/s]"
            ]
          },
          "metadata": {},
          "output_type": "display_data"
        },
        {
          "name": "stdout",
          "output_type": "stream",
          "text": [
            "Current learning rate: 0.0001\n",
            "saved new best val accuracy model\n",
            "current epoch: 8 \t current val accuracy: 0.6822 \tbest val accuracy: 0.6822\n",
            "----------------------------------------\n",
            "epoch 9/200\n"
          ]
        },
        {
          "data": {
            "application/vnd.jupyter.widget-view+json": {
              "model_id": "78b4632fd73f41aaba2648cddf5e1889",
              "version_major": 2,
              "version_minor": 0
            },
            "text/plain": [
              "  0%|          | 0/331 [00:00<?, ?it/s]"
            ]
          },
          "metadata": {},
          "output_type": "display_data"
        },
        {
          "name": "stdout",
          "output_type": "stream",
          "text": [
            "Current learning rate: 0.0001\n",
            "saved new best val accuracy model\n",
            "current epoch: 9 \t current val accuracy: 0.7160 \tbest val accuracy: 0.7160\n",
            "----------------------------------------\n",
            "epoch 10/200\n"
          ]
        },
        {
          "data": {
            "application/vnd.jupyter.widget-view+json": {
              "model_id": "a1a3f8ae1ff147c1ab25cf714c3ee005",
              "version_major": 2,
              "version_minor": 0
            },
            "text/plain": [
              "  0%|          | 0/331 [00:00<?, ?it/s]"
            ]
          },
          "metadata": {},
          "output_type": "display_data"
        },
        {
          "name": "stdout",
          "output_type": "stream",
          "text": [
            "Current learning rate: 0.0001\n",
            "saved new best val accuracy model\n",
            "current epoch: 10 \t current val accuracy: 0.7222 \tbest val accuracy: 0.7222\n",
            "----------------------------------------\n",
            "epoch 11/200\n"
          ]
        },
        {
          "data": {
            "application/vnd.jupyter.widget-view+json": {
              "model_id": "c9c0066b3aac4f23a743a0402cd5f386",
              "version_major": 2,
              "version_minor": 0
            },
            "text/plain": [
              "  0%|          | 0/331 [00:00<?, ?it/s]"
            ]
          },
          "metadata": {},
          "output_type": "display_data"
        },
        {
          "name": "stdout",
          "output_type": "stream",
          "text": [
            "Current learning rate: 0.0001\n",
            "saved new best val accuracy model\n",
            "current epoch: 11 \t current val accuracy: 0.7402 \tbest val accuracy: 0.7402\n",
            "----------------------------------------\n",
            "epoch 12/200\n"
          ]
        },
        {
          "data": {
            "application/vnd.jupyter.widget-view+json": {
              "model_id": "a7f86dba7f7d4a169ff05f2f5054839c",
              "version_major": 2,
              "version_minor": 0
            },
            "text/plain": [
              "  0%|          | 0/331 [00:00<?, ?it/s]"
            ]
          },
          "metadata": {},
          "output_type": "display_data"
        },
        {
          "name": "stdout",
          "output_type": "stream",
          "text": [
            "Current learning rate: 0.0001\n",
            "current epoch: 12 \t current val accuracy: 0.7305 \tbest val accuracy: 0.7402\n",
            "----------------------------------------\n",
            "epoch 13/200\n"
          ]
        },
        {
          "data": {
            "application/vnd.jupyter.widget-view+json": {
              "model_id": "f6e353f1004444d9a50a2396addfa194",
              "version_major": 2,
              "version_minor": 0
            },
            "text/plain": [
              "  0%|          | 0/331 [00:00<?, ?it/s]"
            ]
          },
          "metadata": {},
          "output_type": "display_data"
        },
        {
          "name": "stdout",
          "output_type": "stream",
          "text": [
            "Current learning rate: 0.0001\n",
            "current epoch: 13 \t current val accuracy: 0.7358 \tbest val accuracy: 0.7402\n",
            "----------------------------------------\n",
            "epoch 14/200\n"
          ]
        },
        {
          "data": {
            "application/vnd.jupyter.widget-view+json": {
              "model_id": "7846a0b4f0384b94b0b49feb958e25b4",
              "version_major": 2,
              "version_minor": 0
            },
            "text/plain": [
              "  0%|          | 0/331 [00:00<?, ?it/s]"
            ]
          },
          "metadata": {},
          "output_type": "display_data"
        },
        {
          "name": "stdout",
          "output_type": "stream",
          "text": [
            "Current learning rate: 0.0001\n",
            "saved new best val accuracy model\n",
            "current epoch: 14 \t current val accuracy: 0.7407 \tbest val accuracy: 0.7407\n",
            "----------------------------------------\n",
            "epoch 15/200\n"
          ]
        },
        {
          "data": {
            "application/vnd.jupyter.widget-view+json": {
              "model_id": "52dd1aa57fe6490c8d8a71d1d2ff9420",
              "version_major": 2,
              "version_minor": 0
            },
            "text/plain": [
              "  0%|          | 0/331 [00:00<?, ?it/s]"
            ]
          },
          "metadata": {},
          "output_type": "display_data"
        },
        {
          "name": "stdout",
          "output_type": "stream",
          "text": [
            "Current learning rate: 0.0001\n",
            "saved new best val accuracy model\n",
            "current epoch: 15 \t current val accuracy: 0.7525 \tbest val accuracy: 0.7525\n",
            "----------------------------------------\n",
            "epoch 16/200\n"
          ]
        },
        {
          "data": {
            "application/vnd.jupyter.widget-view+json": {
              "model_id": "b1356acd73b34c2bbcf5e0a06993dc8f",
              "version_major": 2,
              "version_minor": 0
            },
            "text/plain": [
              "  0%|          | 0/331 [00:00<?, ?it/s]"
            ]
          },
          "metadata": {},
          "output_type": "display_data"
        },
        {
          "name": "stdout",
          "output_type": "stream",
          "text": [
            "Current learning rate: 0.0001\n",
            "saved new best val accuracy model\n",
            "current epoch: 16 \t current val accuracy: 0.7745 \tbest val accuracy: 0.7745\n",
            "----------------------------------------\n",
            "epoch 17/200\n"
          ]
        },
        {
          "data": {
            "application/vnd.jupyter.widget-view+json": {
              "model_id": "1da74f8506db4748bd5bc938af44e164",
              "version_major": 2,
              "version_minor": 0
            },
            "text/plain": [
              "  0%|          | 0/331 [00:00<?, ?it/s]"
            ]
          },
          "metadata": {},
          "output_type": "display_data"
        },
        {
          "name": "stdout",
          "output_type": "stream",
          "text": [
            "Current learning rate: 0.0001\n",
            "current epoch: 17 \t current val accuracy: 0.7688 \tbest val accuracy: 0.7745\n",
            "----------------------------------------\n",
            "epoch 18/200\n"
          ]
        },
        {
          "data": {
            "application/vnd.jupyter.widget-view+json": {
              "model_id": "739200436f1d4f84a01f13adbaa6f10e",
              "version_major": 2,
              "version_minor": 0
            },
            "text/plain": [
              "  0%|          | 0/331 [00:00<?, ?it/s]"
            ]
          },
          "metadata": {},
          "output_type": "display_data"
        },
        {
          "name": "stdout",
          "output_type": "stream",
          "text": [
            "Current learning rate: 0.0001\n",
            "saved new best val accuracy model\n",
            "current epoch: 18 \t current val accuracy: 0.7864 \tbest val accuracy: 0.7864\n",
            "----------------------------------------\n",
            "epoch 19/200\n"
          ]
        },
        {
          "data": {
            "application/vnd.jupyter.widget-view+json": {
              "model_id": "31939d0ed7be4b4c9300c260ad61668c",
              "version_major": 2,
              "version_minor": 0
            },
            "text/plain": [
              "  0%|          | 0/331 [00:00<?, ?it/s]"
            ]
          },
          "metadata": {},
          "output_type": "display_data"
        },
        {
          "name": "stdout",
          "output_type": "stream",
          "text": [
            "Current learning rate: 0.0001\n",
            "current epoch: 19 \t current val accuracy: 0.7785 \tbest val accuracy: 0.7864\n",
            "----------------------------------------\n",
            "epoch 20/200\n"
          ]
        },
        {
          "data": {
            "application/vnd.jupyter.widget-view+json": {
              "model_id": "075d80bd51ae4413b147438603a92762",
              "version_major": 2,
              "version_minor": 0
            },
            "text/plain": [
              "  0%|          | 0/331 [00:00<?, ?it/s]"
            ]
          },
          "metadata": {},
          "output_type": "display_data"
        },
        {
          "name": "stdout",
          "output_type": "stream",
          "text": [
            "Current learning rate: 0.0001\n",
            "saved new best val accuracy model\n",
            "current epoch: 20 \t current val accuracy: 0.7996 \tbest val accuracy: 0.7996\n",
            "----------------------------------------\n",
            "epoch 21/200\n"
          ]
        },
        {
          "data": {
            "application/vnd.jupyter.widget-view+json": {
              "model_id": "2badb9a08fba48a198e0e0140cc7a532",
              "version_major": 2,
              "version_minor": 0
            },
            "text/plain": [
              "  0%|          | 0/331 [00:00<?, ?it/s]"
            ]
          },
          "metadata": {},
          "output_type": "display_data"
        },
        {
          "name": "stdout",
          "output_type": "stream",
          "text": [
            "Current learning rate: 0.0001\n",
            "saved new best val accuracy model\n",
            "current epoch: 21 \t current val accuracy: 0.8013 \tbest val accuracy: 0.8013\n",
            "----------------------------------------\n",
            "epoch 22/200\n"
          ]
        },
        {
          "data": {
            "application/vnd.jupyter.widget-view+json": {
              "model_id": "22d8d65748d34695ac40d3a37ca00d5a",
              "version_major": 2,
              "version_minor": 0
            },
            "text/plain": [
              "  0%|          | 0/331 [00:00<?, ?it/s]"
            ]
          },
          "metadata": {},
          "output_type": "display_data"
        },
        {
          "name": "stdout",
          "output_type": "stream",
          "text": [
            "Current learning rate: 0.0001\n",
            "current epoch: 22 \t current val accuracy: 0.7864 \tbest val accuracy: 0.8013\n",
            "----------------------------------------\n",
            "epoch 23/200\n"
          ]
        },
        {
          "data": {
            "application/vnd.jupyter.widget-view+json": {
              "model_id": "ff01f5ee8b9e44f6934191a5a7427f05",
              "version_major": 2,
              "version_minor": 0
            },
            "text/plain": [
              "  0%|          | 0/331 [00:00<?, ?it/s]"
            ]
          },
          "metadata": {},
          "output_type": "display_data"
        },
        {
          "name": "stdout",
          "output_type": "stream",
          "text": [
            "Current learning rate: 0.0001\n",
            "current epoch: 23 \t current val accuracy: 0.7991 \tbest val accuracy: 0.8013\n",
            "----------------------------------------\n",
            "epoch 24/200\n"
          ]
        },
        {
          "data": {
            "application/vnd.jupyter.widget-view+json": {
              "model_id": "fa1dc3a763bd4f22bbf4ef2202a36a40",
              "version_major": 2,
              "version_minor": 0
            },
            "text/plain": [
              "  0%|          | 0/331 [00:00<?, ?it/s]"
            ]
          },
          "metadata": {},
          "output_type": "display_data"
        },
        {
          "name": "stdout",
          "output_type": "stream",
          "text": [
            "Current learning rate: 0.0001\n",
            "saved new best val accuracy model\n",
            "current epoch: 24 \t current val accuracy: 0.8149 \tbest val accuracy: 0.8149\n",
            "----------------------------------------\n",
            "epoch 25/200\n"
          ]
        },
        {
          "data": {
            "application/vnd.jupyter.widget-view+json": {
              "model_id": "eddaf25e98044be5acd7ccb7c0637a8f",
              "version_major": 2,
              "version_minor": 0
            },
            "text/plain": [
              "  0%|          | 0/331 [00:00<?, ?it/s]"
            ]
          },
          "metadata": {},
          "output_type": "display_data"
        },
        {
          "name": "stdout",
          "output_type": "stream",
          "text": [
            "Current learning rate: 0.0001\n",
            "current epoch: 25 \t current val accuracy: 0.8000 \tbest val accuracy: 0.8149\n",
            "----------------------------------------\n",
            "epoch 26/200\n"
          ]
        },
        {
          "data": {
            "application/vnd.jupyter.widget-view+json": {
              "model_id": "40d84e55033f4a59972f65791adbdb38",
              "version_major": 2,
              "version_minor": 0
            },
            "text/plain": [
              "  0%|          | 0/331 [00:00<?, ?it/s]"
            ]
          },
          "metadata": {},
          "output_type": "display_data"
        },
        {
          "name": "stdout",
          "output_type": "stream",
          "text": [
            "Current learning rate: 0.0001\n",
            "current epoch: 26 \t current val accuracy: 0.8092 \tbest val accuracy: 0.8149\n",
            "----------------------------------------\n",
            "epoch 27/200\n"
          ]
        },
        {
          "data": {
            "application/vnd.jupyter.widget-view+json": {
              "model_id": "b6bc54e0aae34e879c701f3233b1f822",
              "version_major": 2,
              "version_minor": 0
            },
            "text/plain": [
              "  0%|          | 0/331 [00:00<?, ?it/s]"
            ]
          },
          "metadata": {},
          "output_type": "display_data"
        },
        {
          "name": "stdout",
          "output_type": "stream",
          "text": [
            "Current learning rate: 0.0001\n",
            "saved new best val accuracy model\n",
            "current epoch: 27 \t current val accuracy: 0.8273 \tbest val accuracy: 0.8273\n",
            "----------------------------------------\n",
            "epoch 28/200\n"
          ]
        },
        {
          "data": {
            "application/vnd.jupyter.widget-view+json": {
              "model_id": "4749c42772684c8db8b4eb77a8302a63",
              "version_major": 2,
              "version_minor": 0
            },
            "text/plain": [
              "  0%|          | 0/331 [00:00<?, ?it/s]"
            ]
          },
          "metadata": {},
          "output_type": "display_data"
        },
        {
          "name": "stdout",
          "output_type": "stream",
          "text": [
            "Current learning rate: 0.0001\n",
            "current epoch: 28 \t current val accuracy: 0.8229 \tbest val accuracy: 0.8273\n",
            "----------------------------------------\n",
            "epoch 29/200\n"
          ]
        },
        {
          "data": {
            "application/vnd.jupyter.widget-view+json": {
              "model_id": "7b80711bcef24454af7ed39dd07d5a47",
              "version_major": 2,
              "version_minor": 0
            },
            "text/plain": [
              "  0%|          | 0/331 [00:00<?, ?it/s]"
            ]
          },
          "metadata": {},
          "output_type": "display_data"
        },
        {
          "name": "stdout",
          "output_type": "stream",
          "text": [
            "Current learning rate: 0.0001\n",
            "current epoch: 29 \t current val accuracy: 0.8158 \tbest val accuracy: 0.8273\n",
            "----------------------------------------\n",
            "epoch 30/200\n"
          ]
        },
        {
          "data": {
            "application/vnd.jupyter.widget-view+json": {
              "model_id": "dbb0266f00384fdb96460d2900a7dea0",
              "version_major": 2,
              "version_minor": 0
            },
            "text/plain": [
              "  0%|          | 0/331 [00:00<?, ?it/s]"
            ]
          },
          "metadata": {},
          "output_type": "display_data"
        },
        {
          "name": "stdout",
          "output_type": "stream",
          "text": [
            "Current learning rate: 0.0001\n",
            "current epoch: 30 \t current val accuracy: 0.8105 \tbest val accuracy: 0.8273\n",
            "----------------------------------------\n",
            "epoch 31/200\n"
          ]
        },
        {
          "data": {
            "application/vnd.jupyter.widget-view+json": {
              "model_id": "fb8b56c9176049cea37014035866e3cd",
              "version_major": 2,
              "version_minor": 0
            },
            "text/plain": [
              "  0%|          | 0/331 [00:00<?, ?it/s]"
            ]
          },
          "metadata": {},
          "output_type": "display_data"
        },
        {
          "name": "stdout",
          "output_type": "stream",
          "text": [
            "Current learning rate: 0.0001\n",
            "current epoch: 31 \t current val accuracy: 0.8268 \tbest val accuracy: 0.8273\n",
            "----------------------------------------\n",
            "epoch 32/200\n"
          ]
        },
        {
          "data": {
            "application/vnd.jupyter.widget-view+json": {
              "model_id": "d07d6ccc609c4ec3a20929d49fc6082a",
              "version_major": 2,
              "version_minor": 0
            },
            "text/plain": [
              "  0%|          | 0/331 [00:00<?, ?it/s]"
            ]
          },
          "metadata": {},
          "output_type": "display_data"
        },
        {
          "name": "stdout",
          "output_type": "stream",
          "text": [
            "Current learning rate: 0.0001\n",
            "current epoch: 32 \t current val accuracy: 0.8176 \tbest val accuracy: 0.8273\n",
            "----------------------------------------\n",
            "epoch 33/200\n"
          ]
        },
        {
          "data": {
            "application/vnd.jupyter.widget-view+json": {
              "model_id": "fbdb21dabf794230b574207774d70892",
              "version_major": 2,
              "version_minor": 0
            },
            "text/plain": [
              "  0%|          | 0/331 [00:00<?, ?it/s]"
            ]
          },
          "metadata": {},
          "output_type": "display_data"
        },
        {
          "name": "stdout",
          "output_type": "stream",
          "text": [
            "Current learning rate: 0.0001\n",
            "saved new best val accuracy model\n",
            "current epoch: 33 \t current val accuracy: 0.8418 \tbest val accuracy: 0.8418\n",
            "----------------------------------------\n",
            "epoch 34/200\n"
          ]
        },
        {
          "data": {
            "application/vnd.jupyter.widget-view+json": {
              "model_id": "84548b8e377d4b18b03644ace2538f7f",
              "version_major": 2,
              "version_minor": 0
            },
            "text/plain": [
              "  0%|          | 0/331 [00:00<?, ?it/s]"
            ]
          },
          "metadata": {},
          "output_type": "display_data"
        },
        {
          "name": "stdout",
          "output_type": "stream",
          "text": [
            "Current learning rate: 0.0001\n",
            "current epoch: 34 \t current val accuracy: 0.8382 \tbest val accuracy: 0.8418\n",
            "----------------------------------------\n",
            "epoch 35/200\n"
          ]
        },
        {
          "data": {
            "application/vnd.jupyter.widget-view+json": {
              "model_id": "8d54a39461c5442880141abffeca78d9",
              "version_major": 2,
              "version_minor": 0
            },
            "text/plain": [
              "  0%|          | 0/331 [00:00<?, ?it/s]"
            ]
          },
          "metadata": {},
          "output_type": "display_data"
        },
        {
          "name": "stdout",
          "output_type": "stream",
          "text": [
            "Current learning rate: 0.0001\n",
            "saved new best val accuracy model\n",
            "current epoch: 35 \t current val accuracy: 0.8510 \tbest val accuracy: 0.8510\n",
            "----------------------------------------\n",
            "epoch 36/200\n"
          ]
        },
        {
          "data": {
            "application/vnd.jupyter.widget-view+json": {
              "model_id": "10936079e27d44049b1b730c991596e6",
              "version_major": 2,
              "version_minor": 0
            },
            "text/plain": [
              "  0%|          | 0/331 [00:00<?, ?it/s]"
            ]
          },
          "metadata": {},
          "output_type": "display_data"
        },
        {
          "name": "stdout",
          "output_type": "stream",
          "text": [
            "Current learning rate: 0.0001\n",
            "current epoch: 36 \t current val accuracy: 0.8510 \tbest val accuracy: 0.8510\n",
            "----------------------------------------\n",
            "epoch 37/200\n"
          ]
        },
        {
          "data": {
            "application/vnd.jupyter.widget-view+json": {
              "model_id": "25cc674e81b84a8580282f39101e7e89",
              "version_major": 2,
              "version_minor": 0
            },
            "text/plain": [
              "  0%|          | 0/331 [00:00<?, ?it/s]"
            ]
          },
          "metadata": {},
          "output_type": "display_data"
        },
        {
          "name": "stdout",
          "output_type": "stream",
          "text": [
            "Current learning rate: 0.0001\n",
            "current epoch: 37 \t current val accuracy: 0.8426 \tbest val accuracy: 0.8510\n",
            "----------------------------------------\n",
            "epoch 38/200\n"
          ]
        },
        {
          "data": {
            "application/vnd.jupyter.widget-view+json": {
              "model_id": "3d8edb92b1574308afc2c0c927232d26",
              "version_major": 2,
              "version_minor": 0
            },
            "text/plain": [
              "  0%|          | 0/331 [00:00<?, ?it/s]"
            ]
          },
          "metadata": {},
          "output_type": "display_data"
        },
        {
          "name": "stdout",
          "output_type": "stream",
          "text": [
            "Current learning rate: 0.0001\n",
            "current epoch: 38 \t current val accuracy: 0.8141 \tbest val accuracy: 0.8510\n",
            "----------------------------------------\n",
            "epoch 39/200\n"
          ]
        },
        {
          "data": {
            "application/vnd.jupyter.widget-view+json": {
              "model_id": "2c85ddebd1b84aff967a1454696d2389",
              "version_major": 2,
              "version_minor": 0
            },
            "text/plain": [
              "  0%|          | 0/331 [00:00<?, ?it/s]"
            ]
          },
          "metadata": {},
          "output_type": "display_data"
        },
        {
          "name": "stdout",
          "output_type": "stream",
          "text": [
            "Current learning rate: 0.0001\n",
            "saved new best val accuracy model\n",
            "current epoch: 39 \t current val accuracy: 0.8576 \tbest val accuracy: 0.8576\n",
            "----------------------------------------\n",
            "epoch 40/200\n"
          ]
        },
        {
          "data": {
            "application/vnd.jupyter.widget-view+json": {
              "model_id": "112eac308dca4928bcefe540daf59a9b",
              "version_major": 2,
              "version_minor": 0
            },
            "text/plain": [
              "  0%|          | 0/331 [00:00<?, ?it/s]"
            ]
          },
          "metadata": {},
          "output_type": "display_data"
        },
        {
          "name": "stdout",
          "output_type": "stream",
          "text": [
            "Current learning rate: 0.0001\n",
            "saved new best val accuracy model\n",
            "current epoch: 40 \t current val accuracy: 0.8589 \tbest val accuracy: 0.8589\n",
            "----------------------------------------\n",
            "epoch 41/200\n"
          ]
        },
        {
          "data": {
            "application/vnd.jupyter.widget-view+json": {
              "model_id": "ef1925126ac64cb99d3461fe4cf550b3",
              "version_major": 2,
              "version_minor": 0
            },
            "text/plain": [
              "  0%|          | 0/331 [00:00<?, ?it/s]"
            ]
          },
          "metadata": {},
          "output_type": "display_data"
        },
        {
          "name": "stdout",
          "output_type": "stream",
          "text": [
            "Current learning rate: 0.0001\n",
            "saved new best val accuracy model\n",
            "current epoch: 41 \t current val accuracy: 0.8668 \tbest val accuracy: 0.8668\n",
            "----------------------------------------\n",
            "epoch 42/200\n"
          ]
        },
        {
          "data": {
            "application/vnd.jupyter.widget-view+json": {
              "model_id": "71d1e93619d84e6494028f5e5cc7caf6",
              "version_major": 2,
              "version_minor": 0
            },
            "text/plain": [
              "  0%|          | 0/331 [00:00<?, ?it/s]"
            ]
          },
          "metadata": {},
          "output_type": "display_data"
        },
        {
          "name": "stdout",
          "output_type": "stream",
          "text": [
            "Current learning rate: 0.0001\n",
            "current epoch: 42 \t current val accuracy: 0.8589 \tbest val accuracy: 0.8668\n",
            "----------------------------------------\n",
            "epoch 43/200\n"
          ]
        },
        {
          "data": {
            "application/vnd.jupyter.widget-view+json": {
              "model_id": "167495675fd843dabfc049d27103a5ae",
              "version_major": 2,
              "version_minor": 0
            },
            "text/plain": [
              "  0%|          | 0/331 [00:00<?, ?it/s]"
            ]
          },
          "metadata": {},
          "output_type": "display_data"
        },
        {
          "name": "stdout",
          "output_type": "stream",
          "text": [
            "Current learning rate: 0.0001\n",
            "saved new best val accuracy model\n",
            "current epoch: 43 \t current val accuracy: 0.8765 \tbest val accuracy: 0.8765\n",
            "----------------------------------------\n",
            "epoch 44/200\n"
          ]
        },
        {
          "data": {
            "application/vnd.jupyter.widget-view+json": {
              "model_id": "29608459925c49b3ad1bf8a91fe2d162",
              "version_major": 2,
              "version_minor": 0
            },
            "text/plain": [
              "  0%|          | 0/331 [00:00<?, ?it/s]"
            ]
          },
          "metadata": {},
          "output_type": "display_data"
        },
        {
          "name": "stdout",
          "output_type": "stream",
          "text": [
            "Current learning rate: 0.0001\n",
            "current epoch: 44 \t current val accuracy: 0.8664 \tbest val accuracy: 0.8765\n",
            "----------------------------------------\n",
            "epoch 45/200\n"
          ]
        },
        {
          "data": {
            "application/vnd.jupyter.widget-view+json": {
              "model_id": "47abaa8fb0654d719eb3ebd6b7dc652b",
              "version_major": 2,
              "version_minor": 0
            },
            "text/plain": [
              "  0%|          | 0/331 [00:00<?, ?it/s]"
            ]
          },
          "metadata": {},
          "output_type": "display_data"
        },
        {
          "name": "stdout",
          "output_type": "stream",
          "text": [
            "Current learning rate: 0.0001\n",
            "current epoch: 45 \t current val accuracy: 0.8642 \tbest val accuracy: 0.8765\n",
            "----------------------------------------\n",
            "epoch 46/200\n"
          ]
        },
        {
          "data": {
            "application/vnd.jupyter.widget-view+json": {
              "model_id": "e28aac8c11d04ced810d5c4533131a91",
              "version_major": 2,
              "version_minor": 0
            },
            "text/plain": [
              "  0%|          | 0/331 [00:00<?, ?it/s]"
            ]
          },
          "metadata": {},
          "output_type": "display_data"
        },
        {
          "name": "stdout",
          "output_type": "stream",
          "text": [
            "Current learning rate: 0.0001\n",
            "saved new best val accuracy model\n",
            "current epoch: 46 \t current val accuracy: 0.8791 \tbest val accuracy: 0.8791\n",
            "----------------------------------------\n",
            "epoch 47/200\n"
          ]
        },
        {
          "data": {
            "application/vnd.jupyter.widget-view+json": {
              "model_id": "12856c1cf14a4a89a7b78c0a694b4ec8",
              "version_major": 2,
              "version_minor": 0
            },
            "text/plain": [
              "  0%|          | 0/331 [00:00<?, ?it/s]"
            ]
          },
          "metadata": {},
          "output_type": "display_data"
        },
        {
          "name": "stdout",
          "output_type": "stream",
          "text": [
            "Current learning rate: 0.0001\n",
            "current epoch: 47 \t current val accuracy: 0.8695 \tbest val accuracy: 0.8791\n",
            "----------------------------------------\n",
            "epoch 48/200\n"
          ]
        },
        {
          "data": {
            "application/vnd.jupyter.widget-view+json": {
              "model_id": "c87018cb0245412eaa6dd86c22f80dbe",
              "version_major": 2,
              "version_minor": 0
            },
            "text/plain": [
              "  0%|          | 0/331 [00:00<?, ?it/s]"
            ]
          },
          "metadata": {},
          "output_type": "display_data"
        },
        {
          "name": "stdout",
          "output_type": "stream",
          "text": [
            "Current learning rate: 0.0001\n",
            "saved new best val accuracy model\n",
            "current epoch: 48 \t current val accuracy: 0.8840 \tbest val accuracy: 0.8840\n",
            "----------------------------------------\n",
            "epoch 49/200\n"
          ]
        },
        {
          "data": {
            "application/vnd.jupyter.widget-view+json": {
              "model_id": "749a0b4af16049d6910da2cedafd0cec",
              "version_major": 2,
              "version_minor": 0
            },
            "text/plain": [
              "  0%|          | 0/331 [00:00<?, ?it/s]"
            ]
          },
          "metadata": {},
          "output_type": "display_data"
        },
        {
          "name": "stdout",
          "output_type": "stream",
          "text": [
            "Current learning rate: 0.0001\n",
            "current epoch: 49 \t current val accuracy: 0.8835 \tbest val accuracy: 0.8840\n",
            "----------------------------------------\n",
            "epoch 50/200\n"
          ]
        },
        {
          "data": {
            "application/vnd.jupyter.widget-view+json": {
              "model_id": "3d497681b1024901b5cf540cf0954987",
              "version_major": 2,
              "version_minor": 0
            },
            "text/plain": [
              "  0%|          | 0/331 [00:00<?, ?it/s]"
            ]
          },
          "metadata": {},
          "output_type": "display_data"
        },
        {
          "name": "stdout",
          "output_type": "stream",
          "text": [
            "Current learning rate: 0.0001\n",
            "current epoch: 50 \t current val accuracy: 0.8782 \tbest val accuracy: 0.8840\n",
            "----------------------------------------\n",
            "epoch 51/200\n"
          ]
        },
        {
          "data": {
            "application/vnd.jupyter.widget-view+json": {
              "model_id": "e745599834cb4790b2680cc7bda69d07",
              "version_major": 2,
              "version_minor": 0
            },
            "text/plain": [
              "  0%|          | 0/331 [00:00<?, ?it/s]"
            ]
          },
          "metadata": {},
          "output_type": "display_data"
        },
        {
          "name": "stdout",
          "output_type": "stream",
          "text": [
            "Current learning rate: 0.0001\n",
            "current epoch: 51 \t current val accuracy: 0.8778 \tbest val accuracy: 0.8840\n",
            "----------------------------------------\n",
            "epoch 52/200\n"
          ]
        },
        {
          "data": {
            "application/vnd.jupyter.widget-view+json": {
              "model_id": "9658609813554f05b254793d84e9762a",
              "version_major": 2,
              "version_minor": 0
            },
            "text/plain": [
              "  0%|          | 0/331 [00:00<?, ?it/s]"
            ]
          },
          "metadata": {},
          "output_type": "display_data"
        },
        {
          "name": "stdout",
          "output_type": "stream",
          "text": [
            "Current learning rate: 0.0001\n",
            "current epoch: 52 \t current val accuracy: 0.8659 \tbest val accuracy: 0.8840\n",
            "----------------------------------------\n",
            "epoch 53/200\n"
          ]
        },
        {
          "data": {
            "application/vnd.jupyter.widget-view+json": {
              "model_id": "6909fed9a99d4e4bb93d42f81199bcde",
              "version_major": 2,
              "version_minor": 0
            },
            "text/plain": [
              "  0%|          | 0/331 [00:00<?, ?it/s]"
            ]
          },
          "metadata": {},
          "output_type": "display_data"
        },
        {
          "name": "stdout",
          "output_type": "stream",
          "text": [
            "Current learning rate: 0.0001\n",
            "current epoch: 53 \t current val accuracy: 0.8787 \tbest val accuracy: 0.8840\n",
            "----------------------------------------\n",
            "epoch 54/200\n"
          ]
        },
        {
          "data": {
            "application/vnd.jupyter.widget-view+json": {
              "model_id": "9b9f6ed14ccf4a3f9da224296bdb862d",
              "version_major": 2,
              "version_minor": 0
            },
            "text/plain": [
              "  0%|          | 0/331 [00:00<?, ?it/s]"
            ]
          },
          "metadata": {},
          "output_type": "display_data"
        },
        {
          "name": "stdout",
          "output_type": "stream",
          "text": [
            "Current learning rate: 0.0001\n",
            "current epoch: 54 \t current val accuracy: 0.8699 \tbest val accuracy: 0.8840\n",
            "----------------------------------------\n",
            "epoch 55/200\n"
          ]
        },
        {
          "data": {
            "application/vnd.jupyter.widget-view+json": {
              "model_id": "3149b9338be14c739082d63bec29a51b",
              "version_major": 2,
              "version_minor": 0
            },
            "text/plain": [
              "  0%|          | 0/331 [00:00<?, ?it/s]"
            ]
          },
          "metadata": {},
          "output_type": "display_data"
        },
        {
          "name": "stdout",
          "output_type": "stream",
          "text": [
            "Current learning rate: 0.0001\n",
            "current epoch: 55 \t current val accuracy: 0.8620 \tbest val accuracy: 0.8840\n",
            "----------------------------------------\n",
            "epoch 56/200\n"
          ]
        },
        {
          "data": {
            "application/vnd.jupyter.widget-view+json": {
              "model_id": "fb8a1ca0910a4fb3946e17621e4f2b66",
              "version_major": 2,
              "version_minor": 0
            },
            "text/plain": [
              "  0%|          | 0/331 [00:00<?, ?it/s]"
            ]
          },
          "metadata": {},
          "output_type": "display_data"
        },
        {
          "name": "stdout",
          "output_type": "stream",
          "text": [
            "Current learning rate: 0.0001\n",
            "saved new best val accuracy model\n",
            "current epoch: 56 \t current val accuracy: 0.8844 \tbest val accuracy: 0.8844\n",
            "----------------------------------------\n",
            "epoch 57/200\n"
          ]
        },
        {
          "data": {
            "application/vnd.jupyter.widget-view+json": {
              "model_id": "f866340c1e34442e959efae179637dc1",
              "version_major": 2,
              "version_minor": 0
            },
            "text/plain": [
              "  0%|          | 0/331 [00:00<?, ?it/s]"
            ]
          },
          "metadata": {},
          "output_type": "display_data"
        },
        {
          "name": "stdout",
          "output_type": "stream",
          "text": [
            "Current learning rate: 0.0001\n",
            "current epoch: 57 \t current val accuracy: 0.8835 \tbest val accuracy: 0.8844\n",
            "----------------------------------------\n",
            "epoch 58/200\n"
          ]
        },
        {
          "data": {
            "application/vnd.jupyter.widget-view+json": {
              "model_id": "ffa1d7120d4e4a0490a683e930c5c452",
              "version_major": 2,
              "version_minor": 0
            },
            "text/plain": [
              "  0%|          | 0/331 [00:00<?, ?it/s]"
            ]
          },
          "metadata": {},
          "output_type": "display_data"
        },
        {
          "name": "stdout",
          "output_type": "stream",
          "text": [
            "Current learning rate: 0.0001\n",
            "saved new best val accuracy model\n",
            "current epoch: 58 \t current val accuracy: 0.8892 \tbest val accuracy: 0.8892\n",
            "----------------------------------------\n",
            "epoch 59/200\n"
          ]
        },
        {
          "data": {
            "application/vnd.jupyter.widget-view+json": {
              "model_id": "76758a4c59d64712b53cebaa3fba7a8f",
              "version_major": 2,
              "version_minor": 0
            },
            "text/plain": [
              "  0%|          | 0/331 [00:00<?, ?it/s]"
            ]
          },
          "metadata": {},
          "output_type": "display_data"
        },
        {
          "name": "stdout",
          "output_type": "stream",
          "text": [
            "Current learning rate: 0.0001\n",
            "saved new best val accuracy model\n",
            "current epoch: 59 \t current val accuracy: 0.8923 \tbest val accuracy: 0.8923\n",
            "----------------------------------------\n",
            "epoch 60/200\n"
          ]
        },
        {
          "data": {
            "application/vnd.jupyter.widget-view+json": {
              "model_id": "a98bf57c3587456e83126248953a782f",
              "version_major": 2,
              "version_minor": 0
            },
            "text/plain": [
              "  0%|          | 0/331 [00:00<?, ?it/s]"
            ]
          },
          "metadata": {},
          "output_type": "display_data"
        },
        {
          "name": "stdout",
          "output_type": "stream",
          "text": [
            "Current learning rate: 0.0001\n",
            "current epoch: 60 \t current val accuracy: 0.8782 \tbest val accuracy: 0.8923\n",
            "----------------------------------------\n",
            "epoch 61/200\n"
          ]
        },
        {
          "data": {
            "application/vnd.jupyter.widget-view+json": {
              "model_id": "bc693efbf9714a62aa3d4731d3b77c87",
              "version_major": 2,
              "version_minor": 0
            },
            "text/plain": [
              "  0%|          | 0/331 [00:00<?, ?it/s]"
            ]
          },
          "metadata": {},
          "output_type": "display_data"
        },
        {
          "name": "stdout",
          "output_type": "stream",
          "text": [
            "Current learning rate: 0.0001\n",
            "saved new best val accuracy model\n",
            "current epoch: 61 \t current val accuracy: 0.8949 \tbest val accuracy: 0.8949\n",
            "----------------------------------------\n",
            "epoch 62/200\n"
          ]
        },
        {
          "data": {
            "application/vnd.jupyter.widget-view+json": {
              "model_id": "f0d47705d62e4b28a2d61e73c35c8378",
              "version_major": 2,
              "version_minor": 0
            },
            "text/plain": [
              "  0%|          | 0/331 [00:00<?, ?it/s]"
            ]
          },
          "metadata": {},
          "output_type": "display_data"
        },
        {
          "name": "stdout",
          "output_type": "stream",
          "text": [
            "Current learning rate: 0.0001\n",
            "saved new best val accuracy model\n",
            "current epoch: 62 \t current val accuracy: 0.8967 \tbest val accuracy: 0.8967\n",
            "----------------------------------------\n",
            "epoch 63/200\n"
          ]
        },
        {
          "data": {
            "application/vnd.jupyter.widget-view+json": {
              "model_id": "0107f487c46548188921600a0b25220f",
              "version_major": 2,
              "version_minor": 0
            },
            "text/plain": [
              "  0%|          | 0/331 [00:00<?, ?it/s]"
            ]
          },
          "metadata": {},
          "output_type": "display_data"
        },
        {
          "name": "stdout",
          "output_type": "stream",
          "text": [
            "Current learning rate: 0.0001\n",
            "saved new best val accuracy model\n",
            "current epoch: 63 \t current val accuracy: 0.8980 \tbest val accuracy: 0.8980\n",
            "----------------------------------------\n",
            "epoch 64/200\n"
          ]
        },
        {
          "data": {
            "application/vnd.jupyter.widget-view+json": {
              "model_id": "d44cf139f5db4804a303e10ddfbc5e86",
              "version_major": 2,
              "version_minor": 0
            },
            "text/plain": [
              "  0%|          | 0/331 [00:00<?, ?it/s]"
            ]
          },
          "metadata": {},
          "output_type": "display_data"
        },
        {
          "name": "stdout",
          "output_type": "stream",
          "text": [
            "Current learning rate: 0.0001\n",
            "current epoch: 64 \t current val accuracy: 0.8831 \tbest val accuracy: 0.8980\n",
            "----------------------------------------\n",
            "epoch 65/200\n"
          ]
        },
        {
          "data": {
            "application/vnd.jupyter.widget-view+json": {
              "model_id": "9b27d53bee2e44edb19e1aed93dbfcd5",
              "version_major": 2,
              "version_minor": 0
            },
            "text/plain": [
              "  0%|          | 0/331 [00:00<?, ?it/s]"
            ]
          },
          "metadata": {},
          "output_type": "display_data"
        },
        {
          "name": "stdout",
          "output_type": "stream",
          "text": [
            "Current learning rate: 0.0001\n",
            "saved new best val accuracy model\n",
            "current epoch: 65 \t current val accuracy: 0.9037 \tbest val accuracy: 0.9037\n",
            "----------------------------------------\n",
            "epoch 66/200\n"
          ]
        },
        {
          "data": {
            "application/vnd.jupyter.widget-view+json": {
              "model_id": "5e85ccf48e3347a9bc326ca0f65309e3",
              "version_major": 2,
              "version_minor": 0
            },
            "text/plain": [
              "  0%|          | 0/331 [00:00<?, ?it/s]"
            ]
          },
          "metadata": {},
          "output_type": "display_data"
        },
        {
          "name": "stdout",
          "output_type": "stream",
          "text": [
            "Current learning rate: 0.0001\n",
            "current epoch: 66 \t current val accuracy: 0.8993 \tbest val accuracy: 0.9037\n",
            "----------------------------------------\n",
            "epoch 67/200\n"
          ]
        },
        {
          "data": {
            "application/vnd.jupyter.widget-view+json": {
              "model_id": "e84a7cf124694c26ac976e0eb519dd57",
              "version_major": 2,
              "version_minor": 0
            },
            "text/plain": [
              "  0%|          | 0/331 [00:00<?, ?it/s]"
            ]
          },
          "metadata": {},
          "output_type": "display_data"
        },
        {
          "name": "stdout",
          "output_type": "stream",
          "text": [
            "Current learning rate: 0.0001\n",
            "current epoch: 67 \t current val accuracy: 0.8954 \tbest val accuracy: 0.9037\n",
            "----------------------------------------\n",
            "epoch 68/200\n"
          ]
        },
        {
          "data": {
            "application/vnd.jupyter.widget-view+json": {
              "model_id": "44020fb611434b3d84dd6657095e7b52",
              "version_major": 2,
              "version_minor": 0
            },
            "text/plain": [
              "  0%|          | 0/331 [00:00<?, ?it/s]"
            ]
          },
          "metadata": {},
          "output_type": "display_data"
        },
        {
          "name": "stdout",
          "output_type": "stream",
          "text": [
            "Current learning rate: 0.0001\n",
            "current epoch: 68 \t current val accuracy: 0.9015 \tbest val accuracy: 0.9037\n",
            "----------------------------------------\n",
            "epoch 69/200\n"
          ]
        },
        {
          "data": {
            "application/vnd.jupyter.widget-view+json": {
              "model_id": "0e107ead4f354a8c8bce8824d2f7c214",
              "version_major": 2,
              "version_minor": 0
            },
            "text/plain": [
              "  0%|          | 0/331 [00:00<?, ?it/s]"
            ]
          },
          "metadata": {},
          "output_type": "display_data"
        },
        {
          "name": "stdout",
          "output_type": "stream",
          "text": [
            "Current learning rate: 0.0001\n",
            "current epoch: 69 \t current val accuracy: 0.8862 \tbest val accuracy: 0.9037\n",
            "----------------------------------------\n",
            "epoch 70/200\n"
          ]
        },
        {
          "data": {
            "application/vnd.jupyter.widget-view+json": {
              "model_id": "b0018f7f58b24e52b2d7d92d43e2c713",
              "version_major": 2,
              "version_minor": 0
            },
            "text/plain": [
              "  0%|          | 0/331 [00:00<?, ?it/s]"
            ]
          },
          "metadata": {},
          "output_type": "display_data"
        },
        {
          "name": "stdout",
          "output_type": "stream",
          "text": [
            "Current learning rate: 0.0001\n",
            "current epoch: 70 \t current val accuracy: 0.8993 \tbest val accuracy: 0.9037\n",
            "----------------------------------------\n",
            "epoch 71/200\n"
          ]
        },
        {
          "data": {
            "application/vnd.jupyter.widget-view+json": {
              "model_id": "3e0f0abfc17e4288b2cefb46358ce94e",
              "version_major": 2,
              "version_minor": 0
            },
            "text/plain": [
              "  0%|          | 0/331 [00:00<?, ?it/s]"
            ]
          },
          "metadata": {},
          "output_type": "display_data"
        },
        {
          "name": "stdout",
          "output_type": "stream",
          "text": [
            "Current learning rate: 0.0001\n",
            "current epoch: 71 \t current val accuracy: 0.8993 \tbest val accuracy: 0.9037\n",
            "----------------------------------------\n",
            "epoch 72/200\n"
          ]
        },
        {
          "data": {
            "application/vnd.jupyter.widget-view+json": {
              "model_id": "69f47d8faafe4e29975f123120025233",
              "version_major": 2,
              "version_minor": 0
            },
            "text/plain": [
              "  0%|          | 0/331 [00:00<?, ?it/s]"
            ]
          },
          "metadata": {},
          "output_type": "display_data"
        },
        {
          "name": "stdout",
          "output_type": "stream",
          "text": [
            "Current learning rate: 0.0001\n",
            "saved new best val accuracy model\n",
            "current epoch: 72 \t current val accuracy: 0.9051 \tbest val accuracy: 0.9051\n",
            "----------------------------------------\n",
            "epoch 73/200\n"
          ]
        },
        {
          "data": {
            "application/vnd.jupyter.widget-view+json": {
              "model_id": "2aa1a14767c54f1384d14e0f91457df3",
              "version_major": 2,
              "version_minor": 0
            },
            "text/plain": [
              "  0%|          | 0/331 [00:00<?, ?it/s]"
            ]
          },
          "metadata": {},
          "output_type": "display_data"
        },
        {
          "name": "stdout",
          "output_type": "stream",
          "text": [
            "Current learning rate: 0.0001\n",
            "current epoch: 73 \t current val accuracy: 0.8985 \tbest val accuracy: 0.9051\n",
            "----------------------------------------\n",
            "epoch 74/200\n"
          ]
        },
        {
          "data": {
            "application/vnd.jupyter.widget-view+json": {
              "model_id": "6e1d8bd4bb4b47f7807705a6c1f78c88",
              "version_major": 2,
              "version_minor": 0
            },
            "text/plain": [
              "  0%|          | 0/331 [00:00<?, ?it/s]"
            ]
          },
          "metadata": {},
          "output_type": "display_data"
        },
        {
          "name": "stdout",
          "output_type": "stream",
          "text": [
            "Current learning rate: 0.0001\n",
            "saved new best val accuracy model\n",
            "current epoch: 74 \t current val accuracy: 0.9059 \tbest val accuracy: 0.9059\n",
            "----------------------------------------\n",
            "epoch 75/200\n"
          ]
        },
        {
          "data": {
            "application/vnd.jupyter.widget-view+json": {
              "model_id": "7ba0d1d1e5e34cfb82665d4f83bd17b0",
              "version_major": 2,
              "version_minor": 0
            },
            "text/plain": [
              "  0%|          | 0/331 [00:00<?, ?it/s]"
            ]
          },
          "metadata": {},
          "output_type": "display_data"
        },
        {
          "name": "stdout",
          "output_type": "stream",
          "text": [
            "Current learning rate: 0.0001\n",
            "saved new best val accuracy model\n",
            "current epoch: 75 \t current val accuracy: 0.9112 \tbest val accuracy: 0.9112\n",
            "----------------------------------------\n",
            "epoch 76/200\n"
          ]
        },
        {
          "data": {
            "application/vnd.jupyter.widget-view+json": {
              "model_id": "88b4fccfa7244390b297740a30eed5db",
              "version_major": 2,
              "version_minor": 0
            },
            "text/plain": [
              "  0%|          | 0/331 [00:00<?, ?it/s]"
            ]
          },
          "metadata": {},
          "output_type": "display_data"
        },
        {
          "name": "stdout",
          "output_type": "stream",
          "text": [
            "Current learning rate: 0.0001\n",
            "saved new best val accuracy model\n",
            "current epoch: 76 \t current val accuracy: 0.9138 \tbest val accuracy: 0.9138\n",
            "----------------------------------------\n",
            "epoch 77/200\n"
          ]
        },
        {
          "data": {
            "application/vnd.jupyter.widget-view+json": {
              "model_id": "53d2748bb546482e80d6d7aa15ef3f57",
              "version_major": 2,
              "version_minor": 0
            },
            "text/plain": [
              "  0%|          | 0/331 [00:00<?, ?it/s]"
            ]
          },
          "metadata": {},
          "output_type": "display_data"
        },
        {
          "name": "stdout",
          "output_type": "stream",
          "text": [
            "Current learning rate: 0.0001\n",
            "current epoch: 77 \t current val accuracy: 0.9090 \tbest val accuracy: 0.9138\n",
            "----------------------------------------\n",
            "epoch 78/200\n"
          ]
        },
        {
          "data": {
            "application/vnd.jupyter.widget-view+json": {
              "model_id": "c4c9848921f14fc9bfe1a2da8d9c1d43",
              "version_major": 2,
              "version_minor": 0
            },
            "text/plain": [
              "  0%|          | 0/331 [00:00<?, ?it/s]"
            ]
          },
          "metadata": {},
          "output_type": "display_data"
        },
        {
          "name": "stdout",
          "output_type": "stream",
          "text": [
            "Current learning rate: 0.0001\n",
            "current epoch: 78 \t current val accuracy: 0.8941 \tbest val accuracy: 0.9138\n",
            "----------------------------------------\n",
            "epoch 79/200\n"
          ]
        },
        {
          "data": {
            "application/vnd.jupyter.widget-view+json": {
              "model_id": "73d837966b9449ae9d289d5be0312599",
              "version_major": 2,
              "version_minor": 0
            },
            "text/plain": [
              "  0%|          | 0/331 [00:00<?, ?it/s]"
            ]
          },
          "metadata": {},
          "output_type": "display_data"
        },
        {
          "name": "stdout",
          "output_type": "stream",
          "text": [
            "Current learning rate: 0.0001\n",
            "saved new best val accuracy model\n",
            "current epoch: 79 \t current val accuracy: 0.9204 \tbest val accuracy: 0.9204\n",
            "----------------------------------------\n",
            "epoch 80/200\n"
          ]
        },
        {
          "data": {
            "application/vnd.jupyter.widget-view+json": {
              "model_id": "1e2f4d6ab6004cbcb67c243f33207d0d",
              "version_major": 2,
              "version_minor": 0
            },
            "text/plain": [
              "  0%|          | 0/331 [00:00<?, ?it/s]"
            ]
          },
          "metadata": {},
          "output_type": "display_data"
        },
        {
          "name": "stdout",
          "output_type": "stream",
          "text": [
            "Current learning rate: 0.0001\n",
            "current epoch: 80 \t current val accuracy: 0.8954 \tbest val accuracy: 0.9204\n",
            "----------------------------------------\n",
            "epoch 81/200\n"
          ]
        },
        {
          "data": {
            "application/vnd.jupyter.widget-view+json": {
              "model_id": "eb196a49436d49629c5aadb413a1213f",
              "version_major": 2,
              "version_minor": 0
            },
            "text/plain": [
              "  0%|          | 0/331 [00:00<?, ?it/s]"
            ]
          },
          "metadata": {},
          "output_type": "display_data"
        },
        {
          "name": "stdout",
          "output_type": "stream",
          "text": [
            "Current learning rate: 0.0001\n",
            "current epoch: 81 \t current val accuracy: 0.9103 \tbest val accuracy: 0.9204\n",
            "----------------------------------------\n",
            "epoch 82/200\n"
          ]
        },
        {
          "data": {
            "application/vnd.jupyter.widget-view+json": {
              "model_id": "01d2b2070bd647ef9d063d9728374689",
              "version_major": 2,
              "version_minor": 0
            },
            "text/plain": [
              "  0%|          | 0/331 [00:00<?, ?it/s]"
            ]
          },
          "metadata": {},
          "output_type": "display_data"
        },
        {
          "name": "stdout",
          "output_type": "stream",
          "text": [
            "Current learning rate: 0.0001\n",
            "saved new best val accuracy model\n",
            "current epoch: 82 \t current val accuracy: 0.9209 \tbest val accuracy: 0.9209\n",
            "----------------------------------------\n",
            "epoch 83/200\n"
          ]
        },
        {
          "data": {
            "application/vnd.jupyter.widget-view+json": {
              "model_id": "1493c595848642ebb561bf5c03363ce5",
              "version_major": 2,
              "version_minor": 0
            },
            "text/plain": [
              "  0%|          | 0/331 [00:00<?, ?it/s]"
            ]
          },
          "metadata": {},
          "output_type": "display_data"
        },
        {
          "name": "stdout",
          "output_type": "stream",
          "text": [
            "Current learning rate: 0.0001\n",
            "current epoch: 83 \t current val accuracy: 0.9121 \tbest val accuracy: 0.9209\n",
            "----------------------------------------\n",
            "epoch 84/200\n"
          ]
        },
        {
          "data": {
            "application/vnd.jupyter.widget-view+json": {
              "model_id": "1f0d1fcf70344ff49d86a67f894d43e8",
              "version_major": 2,
              "version_minor": 0
            },
            "text/plain": [
              "  0%|          | 0/331 [00:00<?, ?it/s]"
            ]
          },
          "metadata": {},
          "output_type": "display_data"
        },
        {
          "name": "stdout",
          "output_type": "stream",
          "text": [
            "Current learning rate: 0.0001\n",
            "current epoch: 84 \t current val accuracy: 0.9187 \tbest val accuracy: 0.9209\n",
            "----------------------------------------\n",
            "epoch 85/200\n"
          ]
        },
        {
          "data": {
            "application/vnd.jupyter.widget-view+json": {
              "model_id": "ce5a111293ac4acdba4167b9b5541613",
              "version_major": 2,
              "version_minor": 0
            },
            "text/plain": [
              "  0%|          | 0/331 [00:00<?, ?it/s]"
            ]
          },
          "metadata": {},
          "output_type": "display_data"
        },
        {
          "name": "stdout",
          "output_type": "stream",
          "text": [
            "Current learning rate: 0.0001\n",
            "current epoch: 85 \t current val accuracy: 0.9108 \tbest val accuracy: 0.9209\n",
            "----------------------------------------\n",
            "epoch 86/200\n"
          ]
        },
        {
          "data": {
            "application/vnd.jupyter.widget-view+json": {
              "model_id": "385e73addc0e4e27a37b9ecd2e466af2",
              "version_major": 2,
              "version_minor": 0
            },
            "text/plain": [
              "  0%|          | 0/331 [00:00<?, ?it/s]"
            ]
          },
          "metadata": {},
          "output_type": "display_data"
        },
        {
          "name": "stdout",
          "output_type": "stream",
          "text": [
            "Current learning rate: 0.0001\n",
            "current epoch: 86 \t current val accuracy: 0.9095 \tbest val accuracy: 0.9209\n",
            "----------------------------------------\n",
            "epoch 87/200\n"
          ]
        },
        {
          "data": {
            "application/vnd.jupyter.widget-view+json": {
              "model_id": "f471d9f478c242b5b53b74c9eba3a110",
              "version_major": 2,
              "version_minor": 0
            },
            "text/plain": [
              "  0%|          | 0/331 [00:00<?, ?it/s]"
            ]
          },
          "metadata": {},
          "output_type": "display_data"
        },
        {
          "name": "stdout",
          "output_type": "stream",
          "text": [
            "Current learning rate: 0.0001\n",
            "current epoch: 87 \t current val accuracy: 0.9152 \tbest val accuracy: 0.9209\n",
            "----------------------------------------\n",
            "epoch 88/200\n"
          ]
        },
        {
          "data": {
            "application/vnd.jupyter.widget-view+json": {
              "model_id": "9def8ee0fe444287bf5687c415612fbd",
              "version_major": 2,
              "version_minor": 0
            },
            "text/plain": [
              "  0%|          | 0/331 [00:00<?, ?it/s]"
            ]
          },
          "metadata": {},
          "output_type": "display_data"
        },
        {
          "name": "stdout",
          "output_type": "stream",
          "text": [
            "Current learning rate: 0.0001\n",
            "current epoch: 88 \t current val accuracy: 0.9086 \tbest val accuracy: 0.9209\n",
            "----------------------------------------\n",
            "epoch 89/200\n"
          ]
        },
        {
          "data": {
            "application/vnd.jupyter.widget-view+json": {
              "model_id": "d14b948997ef44878aebef9c237a2e6f",
              "version_major": 2,
              "version_minor": 0
            },
            "text/plain": [
              "  0%|          | 0/331 [00:00<?, ?it/s]"
            ]
          },
          "metadata": {},
          "output_type": "display_data"
        },
        {
          "name": "stdout",
          "output_type": "stream",
          "text": [
            "Current learning rate: 0.0001\n",
            "current epoch: 89 \t current val accuracy: 0.9156 \tbest val accuracy: 0.9209\n",
            "----------------------------------------\n",
            "epoch 90/200\n"
          ]
        },
        {
          "data": {
            "application/vnd.jupyter.widget-view+json": {
              "model_id": "e0a89b74024d410f868fe20246989930",
              "version_major": 2,
              "version_minor": 0
            },
            "text/plain": [
              "  0%|          | 0/331 [00:00<?, ?it/s]"
            ]
          },
          "metadata": {},
          "output_type": "display_data"
        },
        {
          "name": "stdout",
          "output_type": "stream",
          "text": [
            "Current learning rate: 0.0001\n",
            "current epoch: 90 \t current val accuracy: 0.9011 \tbest val accuracy: 0.9209\n",
            "----------------------------------------\n",
            "epoch 91/200\n"
          ]
        },
        {
          "data": {
            "application/vnd.jupyter.widget-view+json": {
              "model_id": "fa11310fa220402bbe4fa3dbb4b2a4b8",
              "version_major": 2,
              "version_minor": 0
            },
            "text/plain": [
              "  0%|          | 0/331 [00:00<?, ?it/s]"
            ]
          },
          "metadata": {},
          "output_type": "display_data"
        },
        {
          "name": "stdout",
          "output_type": "stream",
          "text": [
            "Current learning rate: 0.0001\n",
            "saved new best val accuracy model\n",
            "current epoch: 91 \t current val accuracy: 0.9218 \tbest val accuracy: 0.9218\n",
            "----------------------------------------\n",
            "epoch 92/200\n"
          ]
        },
        {
          "data": {
            "application/vnd.jupyter.widget-view+json": {
              "model_id": "7e4c013816374563bb85157d19c475c0",
              "version_major": 2,
              "version_minor": 0
            },
            "text/plain": [
              "  0%|          | 0/331 [00:00<?, ?it/s]"
            ]
          },
          "metadata": {},
          "output_type": "display_data"
        },
        {
          "name": "stdout",
          "output_type": "stream",
          "text": [
            "Current learning rate: 0.0001\n",
            "saved new best val accuracy model\n",
            "current epoch: 92 \t current val accuracy: 0.9248 \tbest val accuracy: 0.9248\n",
            "----------------------------------------\n",
            "epoch 93/200\n"
          ]
        },
        {
          "data": {
            "application/vnd.jupyter.widget-view+json": {
              "model_id": "7c23ab0cec504fcd99e978524f478898",
              "version_major": 2,
              "version_minor": 0
            },
            "text/plain": [
              "  0%|          | 0/331 [00:00<?, ?it/s]"
            ]
          },
          "metadata": {},
          "output_type": "display_data"
        },
        {
          "name": "stdout",
          "output_type": "stream",
          "text": [
            "Current learning rate: 0.0001\n",
            "current epoch: 93 \t current val accuracy: 0.9143 \tbest val accuracy: 0.9248\n",
            "----------------------------------------\n",
            "epoch 94/200\n"
          ]
        },
        {
          "data": {
            "application/vnd.jupyter.widget-view+json": {
              "model_id": "17b17c476fdf4fbd9a32c85b646b3ffb",
              "version_major": 2,
              "version_minor": 0
            },
            "text/plain": [
              "  0%|          | 0/331 [00:00<?, ?it/s]"
            ]
          },
          "metadata": {},
          "output_type": "display_data"
        },
        {
          "name": "stdout",
          "output_type": "stream",
          "text": [
            "Current learning rate: 0.0001\n",
            "current epoch: 94 \t current val accuracy: 0.9218 \tbest val accuracy: 0.9248\n",
            "----------------------------------------\n",
            "epoch 95/200\n"
          ]
        },
        {
          "data": {
            "application/vnd.jupyter.widget-view+json": {
              "model_id": "941de0f39244496eb385eb007788caf7",
              "version_major": 2,
              "version_minor": 0
            },
            "text/plain": [
              "  0%|          | 0/331 [00:00<?, ?it/s]"
            ]
          },
          "metadata": {},
          "output_type": "display_data"
        },
        {
          "name": "stdout",
          "output_type": "stream",
          "text": [
            "Current learning rate: 0.0001\n",
            "current epoch: 95 \t current val accuracy: 0.9077 \tbest val accuracy: 0.9248\n",
            "----------------------------------------\n",
            "epoch 96/200\n"
          ]
        },
        {
          "data": {
            "application/vnd.jupyter.widget-view+json": {
              "model_id": "09a190a43c3140c4bd2a8d931d8400a6",
              "version_major": 2,
              "version_minor": 0
            },
            "text/plain": [
              "  0%|          | 0/331 [00:00<?, ?it/s]"
            ]
          },
          "metadata": {},
          "output_type": "display_data"
        },
        {
          "name": "stdout",
          "output_type": "stream",
          "text": [
            "Current learning rate: 0.0001\n",
            "current epoch: 96 \t current val accuracy: 0.9156 \tbest val accuracy: 0.9248\n",
            "----------------------------------------\n",
            "epoch 97/200\n"
          ]
        },
        {
          "data": {
            "application/vnd.jupyter.widget-view+json": {
              "model_id": "1822bdfc2c9c4d9686b4b2a6237fe644",
              "version_major": 2,
              "version_minor": 0
            },
            "text/plain": [
              "  0%|          | 0/331 [00:00<?, ?it/s]"
            ]
          },
          "metadata": {},
          "output_type": "display_data"
        },
        {
          "name": "stdout",
          "output_type": "stream",
          "text": [
            "Current learning rate: 0.0001\n",
            "saved new best val accuracy model\n",
            "current epoch: 97 \t current val accuracy: 0.9327 \tbest val accuracy: 0.9327\n",
            "----------------------------------------\n",
            "epoch 98/200\n"
          ]
        },
        {
          "data": {
            "application/vnd.jupyter.widget-view+json": {
              "model_id": "596b89468b5e4c8fb9bf80127f31c8ee",
              "version_major": 2,
              "version_minor": 0
            },
            "text/plain": [
              "  0%|          | 0/331 [00:00<?, ?it/s]"
            ]
          },
          "metadata": {},
          "output_type": "display_data"
        },
        {
          "name": "stdout",
          "output_type": "stream",
          "text": [
            "Current learning rate: 0.0001\n",
            "current epoch: 98 \t current val accuracy: 0.9257 \tbest val accuracy: 0.9327\n",
            "----------------------------------------\n",
            "epoch 99/200\n"
          ]
        },
        {
          "data": {
            "application/vnd.jupyter.widget-view+json": {
              "model_id": "ca9deb834ae24c4fabb7cb4b048f53f0",
              "version_major": 2,
              "version_minor": 0
            },
            "text/plain": [
              "  0%|          | 0/331 [00:00<?, ?it/s]"
            ]
          },
          "metadata": {},
          "output_type": "display_data"
        },
        {
          "name": "stdout",
          "output_type": "stream",
          "text": [
            "Current learning rate: 0.0001\n",
            "current epoch: 99 \t current val accuracy: 0.9165 \tbest val accuracy: 0.9327\n",
            "----------------------------------------\n",
            "epoch 100/200\n"
          ]
        },
        {
          "data": {
            "application/vnd.jupyter.widget-view+json": {
              "model_id": "706dcc8e15514cf3bcda49755a95b226",
              "version_major": 2,
              "version_minor": 0
            },
            "text/plain": [
              "  0%|          | 0/331 [00:00<?, ?it/s]"
            ]
          },
          "metadata": {},
          "output_type": "display_data"
        },
        {
          "name": "stdout",
          "output_type": "stream",
          "text": [
            "Current learning rate: 0.0001\n",
            "current epoch: 100 \t current val accuracy: 0.9262 \tbest val accuracy: 0.9327\n",
            "----------------------------------------\n",
            "epoch 101/200\n"
          ]
        },
        {
          "data": {
            "application/vnd.jupyter.widget-view+json": {
              "model_id": "093ebb1d9ce84f80a445ae43143cdc93",
              "version_major": 2,
              "version_minor": 0
            },
            "text/plain": [
              "  0%|          | 0/331 [00:00<?, ?it/s]"
            ]
          },
          "metadata": {},
          "output_type": "display_data"
        },
        {
          "name": "stdout",
          "output_type": "stream",
          "text": [
            "Current learning rate: 0.0001\n",
            "current epoch: 101 \t current val accuracy: 0.9169 \tbest val accuracy: 0.9327\n",
            "----------------------------------------\n",
            "epoch 102/200\n"
          ]
        },
        {
          "data": {
            "application/vnd.jupyter.widget-view+json": {
              "model_id": "4e8c15bf2090404d9ba3436397681568",
              "version_major": 2,
              "version_minor": 0
            },
            "text/plain": [
              "  0%|          | 0/331 [00:00<?, ?it/s]"
            ]
          },
          "metadata": {},
          "output_type": "display_data"
        },
        {
          "name": "stdout",
          "output_type": "stream",
          "text": [
            "Current learning rate: 0.0001\n",
            "current epoch: 102 \t current val accuracy: 0.9147 \tbest val accuracy: 0.9327\n",
            "----------------------------------------\n",
            "epoch 103/200\n"
          ]
        },
        {
          "data": {
            "application/vnd.jupyter.widget-view+json": {
              "model_id": "c73c03fd47114fea8d640c470b0fb72a",
              "version_major": 2,
              "version_minor": 0
            },
            "text/plain": [
              "  0%|          | 0/331 [00:00<?, ?it/s]"
            ]
          },
          "metadata": {},
          "output_type": "display_data"
        },
        {
          "name": "stdout",
          "output_type": "stream",
          "text": [
            "Current learning rate: 0.0001\n",
            "current epoch: 103 \t current val accuracy: 0.9284 \tbest val accuracy: 0.9327\n",
            "----------------------------------------\n",
            "epoch 104/200\n"
          ]
        },
        {
          "data": {
            "application/vnd.jupyter.widget-view+json": {
              "model_id": "ffc79b7e27184f268115c9b608c9984f",
              "version_major": 2,
              "version_minor": 0
            },
            "text/plain": [
              "  0%|          | 0/331 [00:00<?, ?it/s]"
            ]
          },
          "metadata": {},
          "output_type": "display_data"
        },
        {
          "name": "stdout",
          "output_type": "stream",
          "text": [
            "Current learning rate: 0.0001\n",
            "current epoch: 104 \t current val accuracy: 0.9253 \tbest val accuracy: 0.9327\n",
            "----------------------------------------\n",
            "epoch 105/200\n"
          ]
        },
        {
          "data": {
            "application/vnd.jupyter.widget-view+json": {
              "model_id": "c3846a5840624ff8a0b92e931e352ea9",
              "version_major": 2,
              "version_minor": 0
            },
            "text/plain": [
              "  0%|          | 0/331 [00:00<?, ?it/s]"
            ]
          },
          "metadata": {},
          "output_type": "display_data"
        },
        {
          "name": "stdout",
          "output_type": "stream",
          "text": [
            "Current learning rate: 0.0001\n",
            "current epoch: 105 \t current val accuracy: 0.9152 \tbest val accuracy: 0.9327\n",
            "----------------------------------------\n",
            "epoch 106/200\n"
          ]
        },
        {
          "data": {
            "application/vnd.jupyter.widget-view+json": {
              "model_id": "a3942e540b03455c8ee055067f21e134",
              "version_major": 2,
              "version_minor": 0
            },
            "text/plain": [
              "  0%|          | 0/331 [00:00<?, ?it/s]"
            ]
          },
          "metadata": {},
          "output_type": "display_data"
        },
        {
          "name": "stdout",
          "output_type": "stream",
          "text": [
            "Current learning rate: 0.0001\n",
            "saved new best val accuracy model\n",
            "current epoch: 106 \t current val accuracy: 0.9336 \tbest val accuracy: 0.9336\n",
            "----------------------------------------\n",
            "epoch 107/200\n"
          ]
        },
        {
          "data": {
            "application/vnd.jupyter.widget-view+json": {
              "model_id": "e4baa009212244e6b55278d7f50274ca",
              "version_major": 2,
              "version_minor": 0
            },
            "text/plain": [
              "  0%|          | 0/331 [00:00<?, ?it/s]"
            ]
          },
          "metadata": {},
          "output_type": "display_data"
        },
        {
          "name": "stdout",
          "output_type": "stream",
          "text": [
            "Current learning rate: 0.0001\n",
            "saved new best val accuracy model\n",
            "current epoch: 107 \t current val accuracy: 0.9367 \tbest val accuracy: 0.9367\n",
            "----------------------------------------\n",
            "epoch 108/200\n"
          ]
        },
        {
          "data": {
            "application/vnd.jupyter.widget-view+json": {
              "model_id": "823a3d86f5584afb8cd6f393581b38a7",
              "version_major": 2,
              "version_minor": 0
            },
            "text/plain": [
              "  0%|          | 0/331 [00:00<?, ?it/s]"
            ]
          },
          "metadata": {},
          "output_type": "display_data"
        },
        {
          "name": "stdout",
          "output_type": "stream",
          "text": [
            "Current learning rate: 0.0001\n",
            "current epoch: 108 \t current val accuracy: 0.9037 \tbest val accuracy: 0.9367\n",
            "----------------------------------------\n",
            "epoch 109/200\n"
          ]
        },
        {
          "data": {
            "application/vnd.jupyter.widget-view+json": {
              "model_id": "6201721450dc4cad98368ffff9d72943",
              "version_major": 2,
              "version_minor": 0
            },
            "text/plain": [
              "  0%|          | 0/331 [00:00<?, ?it/s]"
            ]
          },
          "metadata": {},
          "output_type": "display_data"
        },
        {
          "name": "stdout",
          "output_type": "stream",
          "text": [
            "Current learning rate: 0.0001\n",
            "current epoch: 109 \t current val accuracy: 0.9301 \tbest val accuracy: 0.9367\n",
            "----------------------------------------\n",
            "epoch 110/200\n"
          ]
        },
        {
          "data": {
            "application/vnd.jupyter.widget-view+json": {
              "model_id": "232622a9f0e149b8885228541ce7c149",
              "version_major": 2,
              "version_minor": 0
            },
            "text/plain": [
              "  0%|          | 0/331 [00:00<?, ?it/s]"
            ]
          },
          "metadata": {},
          "output_type": "display_data"
        },
        {
          "name": "stdout",
          "output_type": "stream",
          "text": [
            "Current learning rate: 0.0001\n",
            "current epoch: 110 \t current val accuracy: 0.9297 \tbest val accuracy: 0.9367\n",
            "----------------------------------------\n",
            "epoch 111/200\n"
          ]
        },
        {
          "data": {
            "application/vnd.jupyter.widget-view+json": {
              "model_id": "f0a2273fbaff4afb8531773eeb0cdd9f",
              "version_major": 2,
              "version_minor": 0
            },
            "text/plain": [
              "  0%|          | 0/331 [00:00<?, ?it/s]"
            ]
          },
          "metadata": {},
          "output_type": "display_data"
        },
        {
          "name": "stdout",
          "output_type": "stream",
          "text": [
            "Current learning rate: 0.0001\n",
            "current epoch: 111 \t current val accuracy: 0.9341 \tbest val accuracy: 0.9367\n",
            "----------------------------------------\n",
            "epoch 112/200\n"
          ]
        },
        {
          "data": {
            "application/vnd.jupyter.widget-view+json": {
              "model_id": "889f643984524e1e9836cf82a2639478",
              "version_major": 2,
              "version_minor": 0
            },
            "text/plain": [
              "  0%|          | 0/331 [00:00<?, ?it/s]"
            ]
          },
          "metadata": {},
          "output_type": "display_data"
        },
        {
          "name": "stdout",
          "output_type": "stream",
          "text": [
            "Current learning rate: 0.0001\n",
            "saved new best val accuracy model\n",
            "current epoch: 112 \t current val accuracy: 0.9411 \tbest val accuracy: 0.9411\n",
            "----------------------------------------\n",
            "epoch 113/200\n"
          ]
        },
        {
          "data": {
            "application/vnd.jupyter.widget-view+json": {
              "model_id": "8335ae855fce47599d8ea2c81f182c26",
              "version_major": 2,
              "version_minor": 0
            },
            "text/plain": [
              "  0%|          | 0/331 [00:00<?, ?it/s]"
            ]
          },
          "metadata": {},
          "output_type": "display_data"
        },
        {
          "name": "stdout",
          "output_type": "stream",
          "text": [
            "Current learning rate: 0.0001\n",
            "current epoch: 113 \t current val accuracy: 0.9222 \tbest val accuracy: 0.9411\n",
            "----------------------------------------\n",
            "epoch 114/200\n"
          ]
        },
        {
          "data": {
            "application/vnd.jupyter.widget-view+json": {
              "model_id": "009c0fbd99e44503b9c47cff7f0836d5",
              "version_major": 2,
              "version_minor": 0
            },
            "text/plain": [
              "  0%|          | 0/331 [00:00<?, ?it/s]"
            ]
          },
          "metadata": {},
          "output_type": "display_data"
        },
        {
          "name": "stdout",
          "output_type": "stream",
          "text": [
            "Current learning rate: 0.0001\n",
            "current epoch: 114 \t current val accuracy: 0.9354 \tbest val accuracy: 0.9411\n",
            "----------------------------------------\n",
            "epoch 115/200\n"
          ]
        },
        {
          "data": {
            "application/vnd.jupyter.widget-view+json": {
              "model_id": "3c26ed39d3704988b00e3f0ff15672d9",
              "version_major": 2,
              "version_minor": 0
            },
            "text/plain": [
              "  0%|          | 0/331 [00:00<?, ?it/s]"
            ]
          },
          "metadata": {},
          "output_type": "display_data"
        },
        {
          "name": "stdout",
          "output_type": "stream",
          "text": [
            "Current learning rate: 0.0001\n",
            "current epoch: 115 \t current val accuracy: 0.9336 \tbest val accuracy: 0.9411\n",
            "----------------------------------------\n",
            "epoch 116/200\n"
          ]
        },
        {
          "data": {
            "application/vnd.jupyter.widget-view+json": {
              "model_id": "aaa7381fe2ef43d0839e83e448085767",
              "version_major": 2,
              "version_minor": 0
            },
            "text/plain": [
              "  0%|          | 0/331 [00:00<?, ?it/s]"
            ]
          },
          "metadata": {},
          "output_type": "display_data"
        },
        {
          "name": "stdout",
          "output_type": "stream",
          "text": [
            "Current learning rate: 0.0001\n",
            "current epoch: 116 \t current val accuracy: 0.9191 \tbest val accuracy: 0.9411\n",
            "----------------------------------------\n",
            "epoch 117/200\n"
          ]
        },
        {
          "data": {
            "application/vnd.jupyter.widget-view+json": {
              "model_id": "72e8097da92d4ab78c97674d1ba705e2",
              "version_major": 2,
              "version_minor": 0
            },
            "text/plain": [
              "  0%|          | 0/331 [00:00<?, ?it/s]"
            ]
          },
          "metadata": {},
          "output_type": "display_data"
        },
        {
          "name": "stdout",
          "output_type": "stream",
          "text": [
            "Current learning rate: 0.0001\n",
            "current epoch: 117 \t current val accuracy: 0.9385 \tbest val accuracy: 0.9411\n",
            "----------------------------------------\n",
            "epoch 118/200\n"
          ]
        },
        {
          "data": {
            "application/vnd.jupyter.widget-view+json": {
              "model_id": "545b49b999974110b9427a0b50574c7f",
              "version_major": 2,
              "version_minor": 0
            },
            "text/plain": [
              "  0%|          | 0/331 [00:00<?, ?it/s]"
            ]
          },
          "metadata": {},
          "output_type": "display_data"
        },
        {
          "name": "stdout",
          "output_type": "stream",
          "text": [
            "Current learning rate: 0.0001\n",
            "current epoch: 118 \t current val accuracy: 0.9314 \tbest val accuracy: 0.9411\n",
            "----------------------------------------\n",
            "epoch 119/200\n"
          ]
        },
        {
          "data": {
            "application/vnd.jupyter.widget-view+json": {
              "model_id": "63e33767419b496093305f4fa6bd2403",
              "version_major": 2,
              "version_minor": 0
            },
            "text/plain": [
              "  0%|          | 0/331 [00:00<?, ?it/s]"
            ]
          },
          "metadata": {},
          "output_type": "display_data"
        },
        {
          "name": "stdout",
          "output_type": "stream",
          "text": [
            "Current learning rate: 0.0001\n",
            "current epoch: 119 \t current val accuracy: 0.9213 \tbest val accuracy: 0.9411\n",
            "----------------------------------------\n",
            "epoch 120/200\n"
          ]
        },
        {
          "data": {
            "application/vnd.jupyter.widget-view+json": {
              "model_id": "667f39860e464303bf4e38c06faf977c",
              "version_major": 2,
              "version_minor": 0
            },
            "text/plain": [
              "  0%|          | 0/331 [00:00<?, ?it/s]"
            ]
          },
          "metadata": {},
          "output_type": "display_data"
        },
        {
          "name": "stdout",
          "output_type": "stream",
          "text": [
            "Current learning rate: 0.0001\n",
            "current epoch: 120 \t current val accuracy: 0.9354 \tbest val accuracy: 0.9411\n",
            "----------------------------------------\n",
            "epoch 121/200\n"
          ]
        },
        {
          "data": {
            "application/vnd.jupyter.widget-view+json": {
              "model_id": "b3940d0d55a04d5ca19fc332d82d8090",
              "version_major": 2,
              "version_minor": 0
            },
            "text/plain": [
              "  0%|          | 0/331 [00:00<?, ?it/s]"
            ]
          },
          "metadata": {},
          "output_type": "display_data"
        },
        {
          "name": "stdout",
          "output_type": "stream",
          "text": [
            "Current learning rate: 0.0001\n",
            "current epoch: 121 \t current val accuracy: 0.9358 \tbest val accuracy: 0.9411\n",
            "----------------------------------------\n",
            "epoch 122/200\n"
          ]
        },
        {
          "data": {
            "application/vnd.jupyter.widget-view+json": {
              "model_id": "6a6a82622b41443aa7ee0df9c3b76f30",
              "version_major": 2,
              "version_minor": 0
            },
            "text/plain": [
              "  0%|          | 0/331 [00:00<?, ?it/s]"
            ]
          },
          "metadata": {},
          "output_type": "display_data"
        },
        {
          "name": "stdout",
          "output_type": "stream",
          "text": [
            "Current learning rate: 0.0001\n",
            "saved new best val accuracy model\n",
            "current epoch: 122 \t current val accuracy: 0.9459 \tbest val accuracy: 0.9459\n",
            "----------------------------------------\n",
            "epoch 123/200\n"
          ]
        },
        {
          "data": {
            "application/vnd.jupyter.widget-view+json": {
              "model_id": "e491c9c1068c4b48a98980c3d0a71741",
              "version_major": 2,
              "version_minor": 0
            },
            "text/plain": [
              "  0%|          | 0/331 [00:00<?, ?it/s]"
            ]
          },
          "metadata": {},
          "output_type": "display_data"
        },
        {
          "name": "stdout",
          "output_type": "stream",
          "text": [
            "Current learning rate: 0.0001\n",
            "current epoch: 123 \t current val accuracy: 0.9248 \tbest val accuracy: 0.9459\n",
            "----------------------------------------\n",
            "epoch 124/200\n"
          ]
        },
        {
          "data": {
            "application/vnd.jupyter.widget-view+json": {
              "model_id": "12dac9b505994970832f86cd66196fec",
              "version_major": 2,
              "version_minor": 0
            },
            "text/plain": [
              "  0%|          | 0/331 [00:00<?, ?it/s]"
            ]
          },
          "metadata": {},
          "output_type": "display_data"
        },
        {
          "name": "stdout",
          "output_type": "stream",
          "text": [
            "Current learning rate: 1e-05\n",
            "current epoch: 124 \t current val accuracy: 0.9385 \tbest val accuracy: 0.9459\n",
            "----------------------------------------\n",
            "epoch 125/200\n"
          ]
        },
        {
          "data": {
            "application/vnd.jupyter.widget-view+json": {
              "model_id": "d3ef1a86c3ef474bb9fee94000c26620",
              "version_major": 2,
              "version_minor": 0
            },
            "text/plain": [
              "  0%|          | 0/331 [00:00<?, ?it/s]"
            ]
          },
          "metadata": {},
          "output_type": "display_data"
        },
        {
          "name": "stdout",
          "output_type": "stream",
          "text": [
            "Current learning rate: 1e-05\n",
            "saved new best val accuracy model\n",
            "current epoch: 125 \t current val accuracy: 0.9547 \tbest val accuracy: 0.9547\n",
            "----------------------------------------\n",
            "epoch 126/200\n"
          ]
        },
        {
          "data": {
            "application/vnd.jupyter.widget-view+json": {
              "model_id": "a125bb076d144b81ab3cf2946b666b5d",
              "version_major": 2,
              "version_minor": 0
            },
            "text/plain": [
              "  0%|          | 0/331 [00:00<?, ?it/s]"
            ]
          },
          "metadata": {},
          "output_type": "display_data"
        },
        {
          "name": "stdout",
          "output_type": "stream",
          "text": [
            "Current learning rate: 1e-05\n",
            "saved new best val accuracy model\n",
            "current epoch: 126 \t current val accuracy: 0.9587 \tbest val accuracy: 0.9587\n",
            "----------------------------------------\n",
            "epoch 127/200\n"
          ]
        },
        {
          "data": {
            "application/vnd.jupyter.widget-view+json": {
              "model_id": "5690c8d914ff4c3bbb5143b9b14e885e",
              "version_major": 2,
              "version_minor": 0
            },
            "text/plain": [
              "  0%|          | 0/331 [00:00<?, ?it/s]"
            ]
          },
          "metadata": {},
          "output_type": "display_data"
        },
        {
          "name": "stdout",
          "output_type": "stream",
          "text": [
            "Current learning rate: 1e-05\n",
            "saved new best val accuracy model\n",
            "current epoch: 127 \t current val accuracy: 0.9609 \tbest val accuracy: 0.9609\n",
            "----------------------------------------\n",
            "epoch 128/200\n"
          ]
        },
        {
          "data": {
            "application/vnd.jupyter.widget-view+json": {
              "model_id": "9a875dbfc6fe4625a0ffdc6c05271d39",
              "version_major": 2,
              "version_minor": 0
            },
            "text/plain": [
              "  0%|          | 0/331 [00:00<?, ?it/s]"
            ]
          },
          "metadata": {},
          "output_type": "display_data"
        },
        {
          "name": "stdout",
          "output_type": "stream",
          "text": [
            "Current learning rate: 1e-05\n",
            "current epoch: 128 \t current val accuracy: 0.9600 \tbest val accuracy: 0.9609\n",
            "----------------------------------------\n",
            "epoch 129/200\n"
          ]
        },
        {
          "data": {
            "application/vnd.jupyter.widget-view+json": {
              "model_id": "be05c722e7ca473aac58e9f6ded2709f",
              "version_major": 2,
              "version_minor": 0
            },
            "text/plain": [
              "  0%|          | 0/331 [00:00<?, ?it/s]"
            ]
          },
          "metadata": {},
          "output_type": "display_data"
        },
        {
          "name": "stdout",
          "output_type": "stream",
          "text": [
            "Current learning rate: 1e-05\n",
            "current epoch: 129 \t current val accuracy: 0.9596 \tbest val accuracy: 0.9609\n",
            "----------------------------------------\n",
            "epoch 130/200\n"
          ]
        },
        {
          "data": {
            "application/vnd.jupyter.widget-view+json": {
              "model_id": "e3ca9b127245419fa1466dfe8492cf57",
              "version_major": 2,
              "version_minor": 0
            },
            "text/plain": [
              "  0%|          | 0/331 [00:00<?, ?it/s]"
            ]
          },
          "metadata": {},
          "output_type": "display_data"
        },
        {
          "name": "stdout",
          "output_type": "stream",
          "text": [
            "Current learning rate: 1e-05\n",
            "current epoch: 130 \t current val accuracy: 0.9569 \tbest val accuracy: 0.9609\n",
            "----------------------------------------\n",
            "epoch 131/200\n"
          ]
        },
        {
          "data": {
            "application/vnd.jupyter.widget-view+json": {
              "model_id": "1472aa4d720b4d31a135dbefcee44f6a",
              "version_major": 2,
              "version_minor": 0
            },
            "text/plain": [
              "  0%|          | 0/331 [00:00<?, ?it/s]"
            ]
          },
          "metadata": {},
          "output_type": "display_data"
        },
        {
          "name": "stdout",
          "output_type": "stream",
          "text": [
            "Current learning rate: 1e-05\n",
            "current epoch: 131 \t current val accuracy: 0.9604 \tbest val accuracy: 0.9609\n",
            "----------------------------------------\n",
            "epoch 132/200\n"
          ]
        },
        {
          "data": {
            "application/vnd.jupyter.widget-view+json": {
              "model_id": "3475a859e1244ac983ad0dd999766bf8",
              "version_major": 2,
              "version_minor": 0
            },
            "text/plain": [
              "  0%|          | 0/331 [00:00<?, ?it/s]"
            ]
          },
          "metadata": {},
          "output_type": "display_data"
        },
        {
          "name": "stdout",
          "output_type": "stream",
          "text": [
            "Current learning rate: 1e-05\n",
            "current epoch: 132 \t current val accuracy: 0.9569 \tbest val accuracy: 0.9609\n",
            "----------------------------------------\n",
            "epoch 133/200\n"
          ]
        },
        {
          "data": {
            "application/vnd.jupyter.widget-view+json": {
              "model_id": "a3c43887e7fe4d01a8b73532530dbbdd",
              "version_major": 2,
              "version_minor": 0
            },
            "text/plain": [
              "  0%|          | 0/331 [00:00<?, ?it/s]"
            ]
          },
          "metadata": {},
          "output_type": "display_data"
        },
        {
          "name": "stdout",
          "output_type": "stream",
          "text": [
            "Current learning rate: 1e-05\n",
            "current epoch: 133 \t current val accuracy: 0.9587 \tbest val accuracy: 0.9609\n",
            "----------------------------------------\n",
            "epoch 134/200\n"
          ]
        },
        {
          "data": {
            "application/vnd.jupyter.widget-view+json": {
              "model_id": "72b1125fb82e47adb5334175024a473d",
              "version_major": 2,
              "version_minor": 0
            },
            "text/plain": [
              "  0%|          | 0/331 [00:00<?, ?it/s]"
            ]
          },
          "metadata": {},
          "output_type": "display_data"
        },
        {
          "name": "stdout",
          "output_type": "stream",
          "text": [
            "Current learning rate: 1e-05\n",
            "current epoch: 134 \t current val accuracy: 0.9609 \tbest val accuracy: 0.9609\n",
            "----------------------------------------\n",
            "epoch 135/200\n"
          ]
        },
        {
          "data": {
            "application/vnd.jupyter.widget-view+json": {
              "model_id": "7d3974f23a6f40459bf6db3804ec2f1a",
              "version_major": 2,
              "version_minor": 0
            },
            "text/plain": [
              "  0%|          | 0/331 [00:00<?, ?it/s]"
            ]
          },
          "metadata": {},
          "output_type": "display_data"
        },
        {
          "name": "stdout",
          "output_type": "stream",
          "text": [
            "Current learning rate: 1e-05\n",
            "current epoch: 135 \t current val accuracy: 0.9578 \tbest val accuracy: 0.9609\n",
            "----------------------------------------\n",
            "epoch 136/200\n"
          ]
        },
        {
          "data": {
            "application/vnd.jupyter.widget-view+json": {
              "model_id": "f119b2a1a5a94bdcaac6a7f78098d555",
              "version_major": 2,
              "version_minor": 0
            },
            "text/plain": [
              "  0%|          | 0/331 [00:00<?, ?it/s]"
            ]
          },
          "metadata": {},
          "output_type": "display_data"
        },
        {
          "name": "stdout",
          "output_type": "stream",
          "text": [
            "Current learning rate: 1.0000000000000002e-06\n",
            "saved new best val accuracy model\n",
            "current epoch: 136 \t current val accuracy: 0.9613 \tbest val accuracy: 0.9613\n",
            "----------------------------------------\n",
            "epoch 137/200\n"
          ]
        },
        {
          "data": {
            "application/vnd.jupyter.widget-view+json": {
              "model_id": "c7e080fda060467490d7f1fbf9e17382",
              "version_major": 2,
              "version_minor": 0
            },
            "text/plain": [
              "  0%|          | 0/331 [00:00<?, ?it/s]"
            ]
          },
          "metadata": {},
          "output_type": "display_data"
        },
        {
          "name": "stdout",
          "output_type": "stream",
          "text": [
            "Current learning rate: 1.0000000000000002e-06\n",
            "saved new best val accuracy model\n",
            "current epoch: 137 \t current val accuracy: 0.9631 \tbest val accuracy: 0.9631\n",
            "----------------------------------------\n",
            "epoch 138/200\n"
          ]
        },
        {
          "data": {
            "application/vnd.jupyter.widget-view+json": {
              "model_id": "f89725b5d1744f2dafae0ea91aa407b8",
              "version_major": 2,
              "version_minor": 0
            },
            "text/plain": [
              "  0%|          | 0/331 [00:00<?, ?it/s]"
            ]
          },
          "metadata": {},
          "output_type": "display_data"
        },
        {
          "name": "stdout",
          "output_type": "stream",
          "text": [
            "Current learning rate: 1.0000000000000002e-06\n",
            "current epoch: 138 \t current val accuracy: 0.9631 \tbest val accuracy: 0.9631\n",
            "----------------------------------------\n",
            "epoch 139/200\n"
          ]
        },
        {
          "data": {
            "application/vnd.jupyter.widget-view+json": {
              "model_id": "7db60bec461d43ba8828024af657e4e8",
              "version_major": 2,
              "version_minor": 0
            },
            "text/plain": [
              "  0%|          | 0/331 [00:00<?, ?it/s]"
            ]
          },
          "metadata": {},
          "output_type": "display_data"
        },
        {
          "name": "stdout",
          "output_type": "stream",
          "text": [
            "Current learning rate: 1.0000000000000002e-06\n",
            "current epoch: 139 \t current val accuracy: 0.9626 \tbest val accuracy: 0.9631\n",
            "----------------------------------------\n",
            "epoch 140/200\n"
          ]
        },
        {
          "data": {
            "application/vnd.jupyter.widget-view+json": {
              "model_id": "a3f2b4bb80b5463086e3ffb26d63754e",
              "version_major": 2,
              "version_minor": 0
            },
            "text/plain": [
              "  0%|          | 0/331 [00:00<?, ?it/s]"
            ]
          },
          "metadata": {},
          "output_type": "display_data"
        },
        {
          "name": "stdout",
          "output_type": "stream",
          "text": [
            "Current learning rate: 1.0000000000000002e-06\n",
            "current epoch: 140 \t current val accuracy: 0.9622 \tbest val accuracy: 0.9631\n",
            "----------------------------------------\n",
            "epoch 141/200\n"
          ]
        },
        {
          "data": {
            "application/vnd.jupyter.widget-view+json": {
              "model_id": "f85c1e4aa1f14889b474ece3abe1eb5e",
              "version_major": 2,
              "version_minor": 0
            },
            "text/plain": [
              "  0%|          | 0/331 [00:00<?, ?it/s]"
            ]
          },
          "metadata": {},
          "output_type": "display_data"
        },
        {
          "name": "stdout",
          "output_type": "stream",
          "text": [
            "Current learning rate: 1.0000000000000002e-06\n",
            "current epoch: 141 \t current val accuracy: 0.9631 \tbest val accuracy: 0.9631\n",
            "----------------------------------------\n",
            "epoch 142/200\n"
          ]
        },
        {
          "data": {
            "application/vnd.jupyter.widget-view+json": {
              "model_id": "bf54dd1f761047d3ac1c441eab8d7041",
              "version_major": 2,
              "version_minor": 0
            },
            "text/plain": [
              "  0%|          | 0/331 [00:00<?, ?it/s]"
            ]
          },
          "metadata": {},
          "output_type": "display_data"
        },
        {
          "name": "stdout",
          "output_type": "stream",
          "text": [
            "Current learning rate: 1.0000000000000002e-06\n",
            "current epoch: 142 \t current val accuracy: 0.9626 \tbest val accuracy: 0.9631\n",
            "----------------------------------------\n",
            "epoch 143/200\n"
          ]
        },
        {
          "data": {
            "application/vnd.jupyter.widget-view+json": {
              "model_id": "8738ff1386f9453b8054d2ceeb4d42ac",
              "version_major": 2,
              "version_minor": 0
            },
            "text/plain": [
              "  0%|          | 0/331 [00:00<?, ?it/s]"
            ]
          },
          "metadata": {},
          "output_type": "display_data"
        },
        {
          "name": "stdout",
          "output_type": "stream",
          "text": [
            "Current learning rate: 1.0000000000000002e-06\n",
            "current epoch: 143 \t current val accuracy: 0.9618 \tbest val accuracy: 0.9631\n",
            "----------------------------------------\n",
            "epoch 144/200\n"
          ]
        },
        {
          "data": {
            "application/vnd.jupyter.widget-view+json": {
              "model_id": "bdda6198f7d84ee89f242463e3b953bd",
              "version_major": 2,
              "version_minor": 0
            },
            "text/plain": [
              "  0%|          | 0/331 [00:00<?, ?it/s]"
            ]
          },
          "metadata": {},
          "output_type": "display_data"
        },
        {
          "name": "stdout",
          "output_type": "stream",
          "text": [
            "Current learning rate: 1.0000000000000002e-07\n",
            "current epoch: 144 \t current val accuracy: 0.9618 \tbest val accuracy: 0.9631\n",
            "----------------------------------------\n",
            "epoch 145/200\n"
          ]
        },
        {
          "data": {
            "application/vnd.jupyter.widget-view+json": {
              "model_id": "968e859c80594ad7b7c1bbaf6be08e58",
              "version_major": 2,
              "version_minor": 0
            },
            "text/plain": [
              "  0%|          | 0/331 [00:00<?, ?it/s]"
            ]
          },
          "metadata": {},
          "output_type": "display_data"
        },
        {
          "name": "stdout",
          "output_type": "stream",
          "text": [
            "Current learning rate: 1.0000000000000002e-07\n",
            "current epoch: 145 \t current val accuracy: 0.9626 \tbest val accuracy: 0.9631\n",
            "----------------------------------------\n",
            "epoch 146/200\n"
          ]
        },
        {
          "data": {
            "application/vnd.jupyter.widget-view+json": {
              "model_id": "fa23aa20736345e48f1920bbf6d344d7",
              "version_major": 2,
              "version_minor": 0
            },
            "text/plain": [
              "  0%|          | 0/331 [00:00<?, ?it/s]"
            ]
          },
          "metadata": {},
          "output_type": "display_data"
        },
        {
          "name": "stdout",
          "output_type": "stream",
          "text": [
            "Current learning rate: 1.0000000000000002e-07\n",
            "current epoch: 146 \t current val accuracy: 0.9626 \tbest val accuracy: 0.9631\n",
            "----------------------------------------\n",
            "epoch 147/200\n"
          ]
        },
        {
          "data": {
            "application/vnd.jupyter.widget-view+json": {
              "model_id": "502e1194ed824f3a8f125d259521d8b6",
              "version_major": 2,
              "version_minor": 0
            },
            "text/plain": [
              "  0%|          | 0/331 [00:00<?, ?it/s]"
            ]
          },
          "metadata": {},
          "output_type": "display_data"
        },
        {
          "name": "stdout",
          "output_type": "stream",
          "text": [
            "Current learning rate: 1.0000000000000002e-07\n",
            "current epoch: 147 \t current val accuracy: 0.9622 \tbest val accuracy: 0.9631\n",
            "----------------------------------------\n",
            "epoch 148/200\n"
          ]
        },
        {
          "data": {
            "application/vnd.jupyter.widget-view+json": {
              "model_id": "211d4549f4b6457599376efebb6d0ee5",
              "version_major": 2,
              "version_minor": 0
            },
            "text/plain": [
              "  0%|          | 0/331 [00:00<?, ?it/s]"
            ]
          },
          "metadata": {},
          "output_type": "display_data"
        },
        {
          "name": "stdout",
          "output_type": "stream",
          "text": [
            "Current learning rate: 1.0000000000000002e-07\n",
            "current epoch: 148 \t current val accuracy: 0.9622 \tbest val accuracy: 0.9631\n",
            "----------------------------------------\n",
            "epoch 149/200\n"
          ]
        },
        {
          "data": {
            "application/vnd.jupyter.widget-view+json": {
              "model_id": "ac6cf8c94a8c43b09ffb8c915dcc0416",
              "version_major": 2,
              "version_minor": 0
            },
            "text/plain": [
              "  0%|          | 0/331 [00:00<?, ?it/s]"
            ]
          },
          "metadata": {},
          "output_type": "display_data"
        },
        {
          "name": "stdout",
          "output_type": "stream",
          "text": [
            "Current learning rate: 1.0000000000000002e-07\n",
            "current epoch: 149 \t current val accuracy: 0.9613 \tbest val accuracy: 0.9631\n",
            "----------------------------------------\n",
            "epoch 150/200\n"
          ]
        },
        {
          "data": {
            "application/vnd.jupyter.widget-view+json": {
              "model_id": "393bbafce0f14b8fbff4722ad27b9b4b",
              "version_major": 2,
              "version_minor": 0
            },
            "text/plain": [
              "  0%|          | 0/331 [00:00<?, ?it/s]"
            ]
          },
          "metadata": {},
          "output_type": "display_data"
        },
        {
          "name": "stdout",
          "output_type": "stream",
          "text": [
            "Current learning rate: 1.0000000000000002e-07\n",
            "current epoch: 150 \t current val accuracy: 0.9622 \tbest val accuracy: 0.9631\n",
            "----------------------------------------\n",
            "epoch 151/200\n"
          ]
        },
        {
          "data": {
            "application/vnd.jupyter.widget-view+json": {
              "model_id": "8f866288529c439186c5fffbb72f9238",
              "version_major": 2,
              "version_minor": 0
            },
            "text/plain": [
              "  0%|          | 0/331 [00:00<?, ?it/s]"
            ]
          },
          "metadata": {},
          "output_type": "display_data"
        },
        {
          "name": "stdout",
          "output_type": "stream",
          "text": [
            "Current learning rate: 1.0000000000000002e-07\n",
            "current epoch: 151 \t current val accuracy: 0.9618 \tbest val accuracy: 0.9631\n",
            "----------------------------------------\n",
            "epoch 152/200\n"
          ]
        },
        {
          "data": {
            "application/vnd.jupyter.widget-view+json": {
              "model_id": "a1735b2eaece4eb1a83fb13a8d01a63c",
              "version_major": 2,
              "version_minor": 0
            },
            "text/plain": [
              "  0%|          | 0/331 [00:00<?, ?it/s]"
            ]
          },
          "metadata": {},
          "output_type": "display_data"
        },
        {
          "name": "stdout",
          "output_type": "stream",
          "text": [
            "Current learning rate: 1.0000000000000002e-07\n",
            "current epoch: 152 \t current val accuracy: 0.9613 \tbest val accuracy: 0.9631\n",
            "----------------------------------------\n",
            "epoch 153/200\n"
          ]
        },
        {
          "data": {
            "application/vnd.jupyter.widget-view+json": {
              "model_id": "3c6c5f87dd664f5786868202e54d0465",
              "version_major": 2,
              "version_minor": 0
            },
            "text/plain": [
              "  0%|          | 0/331 [00:00<?, ?it/s]"
            ]
          },
          "metadata": {},
          "output_type": "display_data"
        },
        {
          "name": "stdout",
          "output_type": "stream",
          "text": [
            "Current learning rate: 1.0000000000000002e-07\n",
            "current epoch: 153 \t current val accuracy: 0.9613 \tbest val accuracy: 0.9631\n",
            "----------------------------------------\n",
            "epoch 154/200\n"
          ]
        },
        {
          "data": {
            "application/vnd.jupyter.widget-view+json": {
              "model_id": "a91d5b62d7bb472a9a91cc092487eba3",
              "version_major": 2,
              "version_minor": 0
            },
            "text/plain": [
              "  0%|          | 0/331 [00:00<?, ?it/s]"
            ]
          },
          "metadata": {},
          "output_type": "display_data"
        },
        {
          "name": "stdout",
          "output_type": "stream",
          "text": [
            "Current learning rate: 1.0000000000000002e-07\n",
            "current epoch: 154 \t current val accuracy: 0.9618 \tbest val accuracy: 0.9631\n",
            "----------------------------------------\n",
            "epoch 155/200\n"
          ]
        },
        {
          "data": {
            "application/vnd.jupyter.widget-view+json": {
              "model_id": "54fc32856b5e41358f35f1e2a5e7baea",
              "version_major": 2,
              "version_minor": 0
            },
            "text/plain": [
              "  0%|          | 0/331 [00:00<?, ?it/s]"
            ]
          },
          "metadata": {},
          "output_type": "display_data"
        },
        {
          "name": "stdout",
          "output_type": "stream",
          "text": [
            "Current learning rate: 1.0000000000000004e-08\n",
            "current epoch: 155 \t current val accuracy: 0.9613 \tbest val accuracy: 0.9631\n",
            "----------------------------------------\n",
            "epoch 156/200\n"
          ]
        },
        {
          "data": {
            "application/vnd.jupyter.widget-view+json": {
              "model_id": "531c244b7c7d4f49b75a153e01b1e55f",
              "version_major": 2,
              "version_minor": 0
            },
            "text/plain": [
              "  0%|          | 0/331 [00:00<?, ?it/s]"
            ]
          },
          "metadata": {},
          "output_type": "display_data"
        },
        {
          "name": "stdout",
          "output_type": "stream",
          "text": [
            "Current learning rate: 1.0000000000000004e-08\n",
            "current epoch: 156 \t current val accuracy: 0.9613 \tbest val accuracy: 0.9631\n",
            "----------------------------------------\n",
            "epoch 157/200\n"
          ]
        },
        {
          "data": {
            "application/vnd.jupyter.widget-view+json": {
              "model_id": "54dd24d8095b472dbdde02de2af4bd6d",
              "version_major": 2,
              "version_minor": 0
            },
            "text/plain": [
              "  0%|          | 0/331 [00:00<?, ?it/s]"
            ]
          },
          "metadata": {},
          "output_type": "display_data"
        },
        {
          "name": "stdout",
          "output_type": "stream",
          "text": [
            "Current learning rate: 1.0000000000000004e-08\n",
            "current epoch: 157 \t current val accuracy: 0.9613 \tbest val accuracy: 0.9631\n",
            "----------------------------------------\n",
            "epoch 158/200\n"
          ]
        },
        {
          "data": {
            "application/vnd.jupyter.widget-view+json": {
              "model_id": "4a1ce160f66b40ddb1feaa67412fb3ba",
              "version_major": 2,
              "version_minor": 0
            },
            "text/plain": [
              "  0%|          | 0/331 [00:00<?, ?it/s]"
            ]
          },
          "metadata": {},
          "output_type": "display_data"
        },
        {
          "name": "stdout",
          "output_type": "stream",
          "text": [
            "Current learning rate: 1.0000000000000004e-08\n",
            "current epoch: 158 \t current val accuracy: 0.9613 \tbest val accuracy: 0.9631\n",
            "----------------------------------------\n",
            "epoch 159/200\n"
          ]
        },
        {
          "data": {
            "application/vnd.jupyter.widget-view+json": {
              "model_id": "d80fc790226c4124a4fc84b4e63a8c1c",
              "version_major": 2,
              "version_minor": 0
            },
            "text/plain": [
              "  0%|          | 0/331 [00:00<?, ?it/s]"
            ]
          },
          "metadata": {},
          "output_type": "display_data"
        },
        {
          "name": "stdout",
          "output_type": "stream",
          "text": [
            "Current learning rate: 1.0000000000000004e-08\n",
            "current epoch: 159 \t current val accuracy: 0.9613 \tbest val accuracy: 0.9631\n",
            "----------------------------------------\n",
            "epoch 160/200\n"
          ]
        },
        {
          "data": {
            "application/vnd.jupyter.widget-view+json": {
              "model_id": "743a87306c964736a7140b95a2e69632",
              "version_major": 2,
              "version_minor": 0
            },
            "text/plain": [
              "  0%|          | 0/331 [00:00<?, ?it/s]"
            ]
          },
          "metadata": {},
          "output_type": "display_data"
        },
        {
          "name": "stdout",
          "output_type": "stream",
          "text": [
            "Current learning rate: 1.0000000000000004e-08\n",
            "current epoch: 160 \t current val accuracy: 0.9613 \tbest val accuracy: 0.9631\n",
            "----------------------------------------\n",
            "epoch 161/200\n"
          ]
        },
        {
          "data": {
            "application/vnd.jupyter.widget-view+json": {
              "model_id": "249b0ed5b3684294a536ffa741dfa509",
              "version_major": 2,
              "version_minor": 0
            },
            "text/plain": [
              "  0%|          | 0/331 [00:00<?, ?it/s]"
            ]
          },
          "metadata": {},
          "output_type": "display_data"
        },
        {
          "name": "stdout",
          "output_type": "stream",
          "text": [
            "Current learning rate: 1.0000000000000004e-08\n",
            "current epoch: 161 \t current val accuracy: 0.9613 \tbest val accuracy: 0.9631\n",
            "----------------------------------------\n",
            "epoch 162/200\n"
          ]
        },
        {
          "data": {
            "application/vnd.jupyter.widget-view+json": {
              "model_id": "7c9be6e53dae430f8c1e17fbf2aa56d3",
              "version_major": 2,
              "version_minor": 0
            },
            "text/plain": [
              "  0%|          | 0/331 [00:00<?, ?it/s]"
            ]
          },
          "metadata": {},
          "output_type": "display_data"
        },
        {
          "name": "stdout",
          "output_type": "stream",
          "text": [
            "Current learning rate: 1.0000000000000004e-08\n",
            "current epoch: 162 \t current val accuracy: 0.9613 \tbest val accuracy: 0.9631\n",
            "----------------------------------------\n",
            "epoch 163/200\n"
          ]
        },
        {
          "data": {
            "application/vnd.jupyter.widget-view+json": {
              "model_id": "6cc1415c552c45ef915aac4ad2f4be55",
              "version_major": 2,
              "version_minor": 0
            },
            "text/plain": [
              "  0%|          | 0/331 [00:00<?, ?it/s]"
            ]
          },
          "metadata": {},
          "output_type": "display_data"
        },
        {
          "name": "stdout",
          "output_type": "stream",
          "text": [
            "Current learning rate: 1.0000000000000004e-08\n",
            "current epoch: 163 \t current val accuracy: 0.9613 \tbest val accuracy: 0.9631\n",
            "----------------------------------------\n",
            "epoch 164/200\n"
          ]
        },
        {
          "data": {
            "application/vnd.jupyter.widget-view+json": {
              "model_id": "b0ea9d1ad4534b609a359acb2e619426",
              "version_major": 2,
              "version_minor": 0
            },
            "text/plain": [
              "  0%|          | 0/331 [00:00<?, ?it/s]"
            ]
          },
          "metadata": {},
          "output_type": "display_data"
        },
        {
          "name": "stdout",
          "output_type": "stream",
          "text": [
            "Current learning rate: 1.0000000000000004e-08\n",
            "current epoch: 164 \t current val accuracy: 0.9613 \tbest val accuracy: 0.9631\n",
            "----------------------------------------\n",
            "epoch 165/200\n"
          ]
        },
        {
          "data": {
            "application/vnd.jupyter.widget-view+json": {
              "model_id": "3d7baa031140455386510c818033679e",
              "version_major": 2,
              "version_minor": 0
            },
            "text/plain": [
              "  0%|          | 0/331 [00:00<?, ?it/s]"
            ]
          },
          "metadata": {},
          "output_type": "display_data"
        },
        {
          "name": "stdout",
          "output_type": "stream",
          "text": [
            "Current learning rate: 1.0000000000000004e-08\n",
            "current epoch: 165 \t current val accuracy: 0.9613 \tbest val accuracy: 0.9631\n",
            "----------------------------------------\n",
            "epoch 166/200\n"
          ]
        },
        {
          "data": {
            "application/vnd.jupyter.widget-view+json": {
              "model_id": "79aaac9ba86b41aebc0a96154b0a650c",
              "version_major": 2,
              "version_minor": 0
            },
            "text/plain": [
              "  0%|          | 0/331 [00:00<?, ?it/s]"
            ]
          },
          "metadata": {},
          "output_type": "display_data"
        },
        {
          "name": "stdout",
          "output_type": "stream",
          "text": [
            "Current learning rate: 1.0000000000000004e-08\n",
            "current epoch: 166 \t current val accuracy: 0.9613 \tbest val accuracy: 0.9631\n",
            "----------------------------------------\n",
            "epoch 167/200\n"
          ]
        },
        {
          "data": {
            "application/vnd.jupyter.widget-view+json": {
              "model_id": "1d087644c8e849a8833e942b7e798cf2",
              "version_major": 2,
              "version_minor": 0
            },
            "text/plain": [
              "  0%|          | 0/331 [00:00<?, ?it/s]"
            ]
          },
          "metadata": {},
          "output_type": "display_data"
        },
        {
          "name": "stdout",
          "output_type": "stream",
          "text": [
            "Current learning rate: 1.0000000000000004e-08\n",
            "current epoch: 167 \t current val accuracy: 0.9613 \tbest val accuracy: 0.9631\n",
            "----------------------------------------\n",
            "epoch 168/200\n"
          ]
        },
        {
          "data": {
            "application/vnd.jupyter.widget-view+json": {
              "model_id": "20fa0b8dc24b4a3aa57f574cb7b9d7a9",
              "version_major": 2,
              "version_minor": 0
            },
            "text/plain": [
              "  0%|          | 0/331 [00:00<?, ?it/s]"
            ]
          },
          "metadata": {},
          "output_type": "display_data"
        },
        {
          "name": "stdout",
          "output_type": "stream",
          "text": [
            "Current learning rate: 1.0000000000000004e-08\n",
            "current epoch: 168 \t current val accuracy: 0.9613 \tbest val accuracy: 0.9631\n",
            "----------------------------------------\n",
            "epoch 169/200\n"
          ]
        },
        {
          "data": {
            "application/vnd.jupyter.widget-view+json": {
              "model_id": "e8ba4dd2f62c40eab963ba51cfa6d6f6",
              "version_major": 2,
              "version_minor": 0
            },
            "text/plain": [
              "  0%|          | 0/331 [00:00<?, ?it/s]"
            ]
          },
          "metadata": {},
          "output_type": "display_data"
        },
        {
          "name": "stdout",
          "output_type": "stream",
          "text": [
            "Current learning rate: 1.0000000000000004e-08\n",
            "current epoch: 169 \t current val accuracy: 0.9613 \tbest val accuracy: 0.9631\n",
            "----------------------------------------\n",
            "epoch 170/200\n"
          ]
        },
        {
          "data": {
            "application/vnd.jupyter.widget-view+json": {
              "model_id": "82f5039d6ada42469ffa12c9de1a2042",
              "version_major": 2,
              "version_minor": 0
            },
            "text/plain": [
              "  0%|          | 0/331 [00:00<?, ?it/s]"
            ]
          },
          "metadata": {},
          "output_type": "display_data"
        },
        {
          "name": "stdout",
          "output_type": "stream",
          "text": [
            "Current learning rate: 1.0000000000000004e-08\n",
            "current epoch: 170 \t current val accuracy: 0.9613 \tbest val accuracy: 0.9631\n",
            "----------------------------------------\n",
            "epoch 171/200\n"
          ]
        },
        {
          "data": {
            "application/vnd.jupyter.widget-view+json": {
              "model_id": "f011215854164bb1925e275a56e2cc6d",
              "version_major": 2,
              "version_minor": 0
            },
            "text/plain": [
              "  0%|          | 0/331 [00:00<?, ?it/s]"
            ]
          },
          "metadata": {},
          "output_type": "display_data"
        },
        {
          "name": "stdout",
          "output_type": "stream",
          "text": [
            "Current learning rate: 1.0000000000000004e-08\n",
            "current epoch: 171 \t current val accuracy: 0.9613 \tbest val accuracy: 0.9631\n",
            "----------------------------------------\n",
            "epoch 172/200\n"
          ]
        },
        {
          "data": {
            "application/vnd.jupyter.widget-view+json": {
              "model_id": "1d6232bfdd59496aabf63baab44582d0",
              "version_major": 2,
              "version_minor": 0
            },
            "text/plain": [
              "  0%|          | 0/331 [00:00<?, ?it/s]"
            ]
          },
          "metadata": {},
          "output_type": "display_data"
        },
        {
          "name": "stdout",
          "output_type": "stream",
          "text": [
            "Current learning rate: 1.0000000000000004e-08\n",
            "current epoch: 172 \t current val accuracy: 0.9613 \tbest val accuracy: 0.9631\n",
            "----------------------------------------\n",
            "epoch 173/200\n"
          ]
        },
        {
          "data": {
            "application/vnd.jupyter.widget-view+json": {
              "model_id": "2228d9e6e0844b9da7b69eea8a79afe2",
              "version_major": 2,
              "version_minor": 0
            },
            "text/plain": [
              "  0%|          | 0/331 [00:00<?, ?it/s]"
            ]
          },
          "metadata": {},
          "output_type": "display_data"
        },
        {
          "name": "stdout",
          "output_type": "stream",
          "text": [
            "Current learning rate: 1.0000000000000004e-08\n",
            "current epoch: 173 \t current val accuracy: 0.9618 \tbest val accuracy: 0.9631\n",
            "----------------------------------------\n",
            "epoch 174/200\n"
          ]
        },
        {
          "data": {
            "application/vnd.jupyter.widget-view+json": {
              "model_id": "11311914937b4c948b7061d12e9bdb76",
              "version_major": 2,
              "version_minor": 0
            },
            "text/plain": [
              "  0%|          | 0/331 [00:00<?, ?it/s]"
            ]
          },
          "metadata": {},
          "output_type": "display_data"
        },
        {
          "name": "stdout",
          "output_type": "stream",
          "text": [
            "Current learning rate: 1.0000000000000004e-08\n",
            "current epoch: 174 \t current val accuracy: 0.9618 \tbest val accuracy: 0.9631\n",
            "----------------------------------------\n",
            "epoch 175/200\n"
          ]
        },
        {
          "data": {
            "application/vnd.jupyter.widget-view+json": {
              "model_id": "03f6da1d320e4097aa1d78bf51e91510",
              "version_major": 2,
              "version_minor": 0
            },
            "text/plain": [
              "  0%|          | 0/331 [00:00<?, ?it/s]"
            ]
          },
          "metadata": {},
          "output_type": "display_data"
        },
        {
          "name": "stdout",
          "output_type": "stream",
          "text": [
            "Current learning rate: 1.0000000000000004e-08\n",
            "current epoch: 175 \t current val accuracy: 0.9618 \tbest val accuracy: 0.9631\n",
            "----------------------------------------\n",
            "epoch 176/200\n"
          ]
        },
        {
          "data": {
            "application/vnd.jupyter.widget-view+json": {
              "model_id": "6c5368b7b6c24ecd9eda742079b2f888",
              "version_major": 2,
              "version_minor": 0
            },
            "text/plain": [
              "  0%|          | 0/331 [00:00<?, ?it/s]"
            ]
          },
          "metadata": {},
          "output_type": "display_data"
        },
        {
          "name": "stdout",
          "output_type": "stream",
          "text": [
            "Current learning rate: 1.0000000000000004e-08\n",
            "current epoch: 176 \t current val accuracy: 0.9618 \tbest val accuracy: 0.9631\n",
            "----------------------------------------\n",
            "epoch 177/200\n"
          ]
        },
        {
          "data": {
            "application/vnd.jupyter.widget-view+json": {
              "model_id": "c3d212c53a0f4f029bf49b5e8f57b909",
              "version_major": 2,
              "version_minor": 0
            },
            "text/plain": [
              "  0%|          | 0/331 [00:00<?, ?it/s]"
            ]
          },
          "metadata": {},
          "output_type": "display_data"
        },
        {
          "name": "stdout",
          "output_type": "stream",
          "text": [
            "Current learning rate: 1.0000000000000004e-08\n",
            "current epoch: 177 \t current val accuracy: 0.9618 \tbest val accuracy: 0.9631\n",
            "----------------------------------------\n",
            "epoch 178/200\n"
          ]
        },
        {
          "data": {
            "application/vnd.jupyter.widget-view+json": {
              "model_id": "633e0b34ec1b4e41a37006b66157fa6d",
              "version_major": 2,
              "version_minor": 0
            },
            "text/plain": [
              "  0%|          | 0/331 [00:00<?, ?it/s]"
            ]
          },
          "metadata": {},
          "output_type": "display_data"
        },
        {
          "name": "stdout",
          "output_type": "stream",
          "text": [
            "Current learning rate: 1.0000000000000004e-08\n",
            "current epoch: 178 \t current val accuracy: 0.9618 \tbest val accuracy: 0.9631\n",
            "----------------------------------------\n",
            "epoch 179/200\n"
          ]
        },
        {
          "data": {
            "application/vnd.jupyter.widget-view+json": {
              "model_id": "66fea60260fd43f8baa1d33d42114f78",
              "version_major": 2,
              "version_minor": 0
            },
            "text/plain": [
              "  0%|          | 0/331 [00:00<?, ?it/s]"
            ]
          },
          "metadata": {},
          "output_type": "display_data"
        },
        {
          "name": "stdout",
          "output_type": "stream",
          "text": [
            "Current learning rate: 1.0000000000000004e-08\n",
            "current epoch: 179 \t current val accuracy: 0.9618 \tbest val accuracy: 0.9631\n",
            "----------------------------------------\n",
            "epoch 180/200\n"
          ]
        },
        {
          "data": {
            "application/vnd.jupyter.widget-view+json": {
              "model_id": "c71fefeb1151464a95332818e48ad78c",
              "version_major": 2,
              "version_minor": 0
            },
            "text/plain": [
              "  0%|          | 0/331 [00:00<?, ?it/s]"
            ]
          },
          "metadata": {},
          "output_type": "display_data"
        },
        {
          "name": "stdout",
          "output_type": "stream",
          "text": [
            "Current learning rate: 1.0000000000000004e-08\n",
            "current epoch: 180 \t current val accuracy: 0.9618 \tbest val accuracy: 0.9631\n",
            "----------------------------------------\n",
            "epoch 181/200\n"
          ]
        },
        {
          "data": {
            "application/vnd.jupyter.widget-view+json": {
              "model_id": "d9c055c20e3f4881bcae43e4d656b90d",
              "version_major": 2,
              "version_minor": 0
            },
            "text/plain": [
              "  0%|          | 0/331 [00:00<?, ?it/s]"
            ]
          },
          "metadata": {},
          "output_type": "display_data"
        },
        {
          "name": "stdout",
          "output_type": "stream",
          "text": [
            "Current learning rate: 1.0000000000000004e-08\n",
            "current epoch: 181 \t current val accuracy: 0.9618 \tbest val accuracy: 0.9631\n",
            "----------------------------------------\n",
            "epoch 182/200\n"
          ]
        },
        {
          "data": {
            "application/vnd.jupyter.widget-view+json": {
              "model_id": "95c0230de1d34ac296d5627dba5718d2",
              "version_major": 2,
              "version_minor": 0
            },
            "text/plain": [
              "  0%|          | 0/331 [00:00<?, ?it/s]"
            ]
          },
          "metadata": {},
          "output_type": "display_data"
        },
        {
          "name": "stdout",
          "output_type": "stream",
          "text": [
            "Current learning rate: 1.0000000000000004e-08\n",
            "current epoch: 182 \t current val accuracy: 0.9618 \tbest val accuracy: 0.9631\n",
            "----------------------------------------\n",
            "epoch 183/200\n"
          ]
        },
        {
          "data": {
            "application/vnd.jupyter.widget-view+json": {
              "model_id": "609f7bc9181946099751bdb1895b0999",
              "version_major": 2,
              "version_minor": 0
            },
            "text/plain": [
              "  0%|          | 0/331 [00:00<?, ?it/s]"
            ]
          },
          "metadata": {},
          "output_type": "display_data"
        },
        {
          "name": "stdout",
          "output_type": "stream",
          "text": [
            "Current learning rate: 1.0000000000000004e-08\n",
            "current epoch: 183 \t current val accuracy: 0.9618 \tbest val accuracy: 0.9631\n",
            "----------------------------------------\n",
            "epoch 184/200\n"
          ]
        },
        {
          "data": {
            "application/vnd.jupyter.widget-view+json": {
              "model_id": "25e26a0db4ed4148800babe2eb8773b3",
              "version_major": 2,
              "version_minor": 0
            },
            "text/plain": [
              "  0%|          | 0/331 [00:00<?, ?it/s]"
            ]
          },
          "metadata": {},
          "output_type": "display_data"
        },
        {
          "name": "stdout",
          "output_type": "stream",
          "text": [
            "Current learning rate: 1.0000000000000004e-08\n",
            "current epoch: 184 \t current val accuracy: 0.9618 \tbest val accuracy: 0.9631\n",
            "----------------------------------------\n",
            "epoch 185/200\n"
          ]
        },
        {
          "data": {
            "application/vnd.jupyter.widget-view+json": {
              "model_id": "e814d9dad6e342e0a22215b65d701d64",
              "version_major": 2,
              "version_minor": 0
            },
            "text/plain": [
              "  0%|          | 0/331 [00:00<?, ?it/s]"
            ]
          },
          "metadata": {},
          "output_type": "display_data"
        },
        {
          "name": "stdout",
          "output_type": "stream",
          "text": [
            "Current learning rate: 1.0000000000000004e-08\n",
            "current epoch: 185 \t current val accuracy: 0.9618 \tbest val accuracy: 0.9631\n",
            "----------------------------------------\n",
            "epoch 186/200\n"
          ]
        },
        {
          "data": {
            "application/vnd.jupyter.widget-view+json": {
              "model_id": "7f1c9df9000243cbb1e02241707eb58c",
              "version_major": 2,
              "version_minor": 0
            },
            "text/plain": [
              "  0%|          | 0/331 [00:00<?, ?it/s]"
            ]
          },
          "metadata": {},
          "output_type": "display_data"
        },
        {
          "name": "stdout",
          "output_type": "stream",
          "text": [
            "Current learning rate: 1.0000000000000004e-08\n",
            "current epoch: 186 \t current val accuracy: 0.9618 \tbest val accuracy: 0.9631\n",
            "----------------------------------------\n",
            "epoch 187/200\n"
          ]
        },
        {
          "data": {
            "application/vnd.jupyter.widget-view+json": {
              "model_id": "31f15a1379894528b31789af074d3af9",
              "version_major": 2,
              "version_minor": 0
            },
            "text/plain": [
              "  0%|          | 0/331 [00:00<?, ?it/s]"
            ]
          },
          "metadata": {},
          "output_type": "display_data"
        },
        {
          "name": "stdout",
          "output_type": "stream",
          "text": [
            "Current learning rate: 1.0000000000000004e-08\n",
            "current epoch: 187 \t current val accuracy: 0.9618 \tbest val accuracy: 0.9631\n",
            "----------------------------------------\n",
            "epoch 188/200\n"
          ]
        },
        {
          "data": {
            "application/vnd.jupyter.widget-view+json": {
              "model_id": "6b23d662e272457fae7a3ce4ef7a22d2",
              "version_major": 2,
              "version_minor": 0
            },
            "text/plain": [
              "  0%|          | 0/331 [00:00<?, ?it/s]"
            ]
          },
          "metadata": {},
          "output_type": "display_data"
        },
        {
          "name": "stdout",
          "output_type": "stream",
          "text": [
            "Current learning rate: 1.0000000000000004e-08\n",
            "current epoch: 188 \t current val accuracy: 0.9618 \tbest val accuracy: 0.9631\n",
            "----------------------------------------\n",
            "epoch 189/200\n"
          ]
        },
        {
          "data": {
            "application/vnd.jupyter.widget-view+json": {
              "model_id": "3880094c07fb4ad6b540af2e62b7cfc1",
              "version_major": 2,
              "version_minor": 0
            },
            "text/plain": [
              "  0%|          | 0/331 [00:00<?, ?it/s]"
            ]
          },
          "metadata": {},
          "output_type": "display_data"
        },
        {
          "name": "stdout",
          "output_type": "stream",
          "text": [
            "Current learning rate: 1.0000000000000004e-08\n",
            "current epoch: 189 \t current val accuracy: 0.9618 \tbest val accuracy: 0.9631\n",
            "----------------------------------------\n",
            "epoch 190/200\n"
          ]
        },
        {
          "data": {
            "application/vnd.jupyter.widget-view+json": {
              "model_id": "7c6506ae2733406dab6617c8a733d873",
              "version_major": 2,
              "version_minor": 0
            },
            "text/plain": [
              "  0%|          | 0/331 [00:00<?, ?it/s]"
            ]
          },
          "metadata": {},
          "output_type": "display_data"
        },
        {
          "name": "stdout",
          "output_type": "stream",
          "text": [
            "Current learning rate: 1.0000000000000004e-08\n",
            "current epoch: 190 \t current val accuracy: 0.9618 \tbest val accuracy: 0.9631\n",
            "----------------------------------------\n",
            "epoch 191/200\n"
          ]
        },
        {
          "data": {
            "application/vnd.jupyter.widget-view+json": {
              "model_id": "ceb57163644045df8b6d790a863d4fb1",
              "version_major": 2,
              "version_minor": 0
            },
            "text/plain": [
              "  0%|          | 0/331 [00:00<?, ?it/s]"
            ]
          },
          "metadata": {},
          "output_type": "display_data"
        },
        {
          "name": "stdout",
          "output_type": "stream",
          "text": [
            "Current learning rate: 1.0000000000000004e-08\n",
            "current epoch: 191 \t current val accuracy: 0.9618 \tbest val accuracy: 0.9631\n",
            "----------------------------------------\n",
            "epoch 192/200\n"
          ]
        },
        {
          "data": {
            "application/vnd.jupyter.widget-view+json": {
              "model_id": "b5cd58a91e204d2bb6bfe3f8330cd8c2",
              "version_major": 2,
              "version_minor": 0
            },
            "text/plain": [
              "  0%|          | 0/331 [00:00<?, ?it/s]"
            ]
          },
          "metadata": {},
          "output_type": "display_data"
        },
        {
          "name": "stdout",
          "output_type": "stream",
          "text": [
            "Current learning rate: 1.0000000000000004e-08\n",
            "current epoch: 192 \t current val accuracy: 0.9618 \tbest val accuracy: 0.9631\n",
            "----------------------------------------\n",
            "epoch 193/200\n"
          ]
        },
        {
          "data": {
            "application/vnd.jupyter.widget-view+json": {
              "model_id": "04afb6405a744b5cb561ade50f725bf8",
              "version_major": 2,
              "version_minor": 0
            },
            "text/plain": [
              "  0%|          | 0/331 [00:00<?, ?it/s]"
            ]
          },
          "metadata": {},
          "output_type": "display_data"
        },
        {
          "name": "stdout",
          "output_type": "stream",
          "text": [
            "Current learning rate: 1.0000000000000004e-08\n",
            "current epoch: 193 \t current val accuracy: 0.9618 \tbest val accuracy: 0.9631\n",
            "----------------------------------------\n",
            "epoch 194/200\n"
          ]
        },
        {
          "data": {
            "application/vnd.jupyter.widget-view+json": {
              "model_id": "b05cadf66d7a4342bc2a017563872cb3",
              "version_major": 2,
              "version_minor": 0
            },
            "text/plain": [
              "  0%|          | 0/331 [00:00<?, ?it/s]"
            ]
          },
          "metadata": {},
          "output_type": "display_data"
        },
        {
          "name": "stdout",
          "output_type": "stream",
          "text": [
            "Current learning rate: 1.0000000000000004e-08\n",
            "current epoch: 194 \t current val accuracy: 0.9618 \tbest val accuracy: 0.9631\n",
            "----------------------------------------\n",
            "epoch 195/200\n"
          ]
        },
        {
          "data": {
            "application/vnd.jupyter.widget-view+json": {
              "model_id": "2e6f026ed26f4bf0805cc682ac028c08",
              "version_major": 2,
              "version_minor": 0
            },
            "text/plain": [
              "  0%|          | 0/331 [00:00<?, ?it/s]"
            ]
          },
          "metadata": {},
          "output_type": "display_data"
        },
        {
          "name": "stdout",
          "output_type": "stream",
          "text": [
            "Current learning rate: 1.0000000000000004e-08\n",
            "current epoch: 195 \t current val accuracy: 0.9618 \tbest val accuracy: 0.9631\n",
            "----------------------------------------\n",
            "epoch 196/200\n"
          ]
        },
        {
          "data": {
            "application/vnd.jupyter.widget-view+json": {
              "model_id": "e0fd5a686a174bc083641430a1c510a6",
              "version_major": 2,
              "version_minor": 0
            },
            "text/plain": [
              "  0%|          | 0/331 [00:00<?, ?it/s]"
            ]
          },
          "metadata": {},
          "output_type": "display_data"
        },
        {
          "name": "stdout",
          "output_type": "stream",
          "text": [
            "Current learning rate: 1.0000000000000004e-08\n",
            "current epoch: 196 \t current val accuracy: 0.9618 \tbest val accuracy: 0.9631\n",
            "----------------------------------------\n",
            "epoch 197/200\n"
          ]
        },
        {
          "data": {
            "application/vnd.jupyter.widget-view+json": {
              "model_id": "886713befdf3422e993158b787891f65",
              "version_major": 2,
              "version_minor": 0
            },
            "text/plain": [
              "  0%|          | 0/331 [00:00<?, ?it/s]"
            ]
          },
          "metadata": {},
          "output_type": "display_data"
        },
        {
          "name": "stdout",
          "output_type": "stream",
          "text": [
            "Current learning rate: 1.0000000000000004e-08\n",
            "current epoch: 197 \t current val accuracy: 0.9618 \tbest val accuracy: 0.9631\n",
            "----------------------------------------\n",
            "epoch 198/200\n"
          ]
        },
        {
          "data": {
            "application/vnd.jupyter.widget-view+json": {
              "model_id": "69d6ffdbf195497c9c2355376dd44315",
              "version_major": 2,
              "version_minor": 0
            },
            "text/plain": [
              "  0%|          | 0/331 [00:00<?, ?it/s]"
            ]
          },
          "metadata": {},
          "output_type": "display_data"
        },
        {
          "name": "stdout",
          "output_type": "stream",
          "text": [
            "Current learning rate: 1.0000000000000004e-08\n",
            "current epoch: 198 \t current val accuracy: 0.9618 \tbest val accuracy: 0.9631\n",
            "----------------------------------------\n",
            "epoch 199/200\n"
          ]
        },
        {
          "data": {
            "application/vnd.jupyter.widget-view+json": {
              "model_id": "a4bae098f51e4a73973821378e0486ff",
              "version_major": 2,
              "version_minor": 0
            },
            "text/plain": [
              "  0%|          | 0/331 [00:00<?, ?it/s]"
            ]
          },
          "metadata": {},
          "output_type": "display_data"
        },
        {
          "name": "stdout",
          "output_type": "stream",
          "text": [
            "Current learning rate: 1.0000000000000004e-08\n",
            "current epoch: 199 \t current val accuracy: 0.9618 \tbest val accuracy: 0.9631\n",
            "----------------------------------------\n",
            "epoch 200/200\n"
          ]
        },
        {
          "data": {
            "application/vnd.jupyter.widget-view+json": {
              "model_id": "2a5136a3200344f18ea335ce6bb99d97",
              "version_major": 2,
              "version_minor": 0
            },
            "text/plain": [
              "  0%|          | 0/331 [00:00<?, ?it/s]"
            ]
          },
          "metadata": {},
          "output_type": "display_data"
        },
        {
          "name": "stdout",
          "output_type": "stream",
          "text": [
            "Current learning rate: 1.0000000000000004e-08\n",
            "current epoch: 200 \t current val accuracy: 0.9618 \tbest val accuracy: 0.9631\n"
          ]
        }
      ],
      "source": [
        "train_loss_values, train_accuracy_values, validation_loss_values, validation_accuracy_values = train_loop(trainloader, valloader, EPOCH_NUM, PATIENCE, model, loss_fn, optimizer, device, scheduler=scheduler)"
      ]
    },
    {
      "cell_type": "code",
      "execution_count": null,
      "metadata": {
        "colab": {
          "base_uri": "https://localhost:8080/",
          "height": 17
        },
        "id": "1sBG59c6sHPK",
        "outputId": "7c9ec253-a679-437a-826f-69fcffc93c0d"
      },
      "outputs": [
        {
          "data": {
            "application/javascript": [
              "\n",
              "    async function download(id, filename, size) {\n",
              "      if (!google.colab.kernel.accessAllowed) {\n",
              "        return;\n",
              "      }\n",
              "      const div = document.createElement('div');\n",
              "      const label = document.createElement('label');\n",
              "      label.textContent = `Downloading \"${filename}\": `;\n",
              "      div.appendChild(label);\n",
              "      const progress = document.createElement('progress');\n",
              "      progress.max = size;\n",
              "      div.appendChild(progress);\n",
              "      document.body.appendChild(div);\n",
              "\n",
              "      const buffers = [];\n",
              "      let downloaded = 0;\n",
              "\n",
              "      const channel = await google.colab.kernel.comms.open(id);\n",
              "      // Send a message to notify the kernel that we're ready.\n",
              "      channel.send({})\n",
              "\n",
              "      for await (const message of channel.messages) {\n",
              "        // Send a message to notify the kernel that we're ready.\n",
              "        channel.send({})\n",
              "        if (message.buffers) {\n",
              "          for (const buffer of message.buffers) {\n",
              "            buffers.push(buffer);\n",
              "            downloaded += buffer.byteLength;\n",
              "            progress.value = downloaded;\n",
              "          }\n",
              "        }\n",
              "      }\n",
              "      const blob = new Blob(buffers, {type: 'application/binary'});\n",
              "      const a = document.createElement('a');\n",
              "      a.href = window.URL.createObjectURL(blob);\n",
              "      a.download = filename;\n",
              "      div.appendChild(a);\n",
              "      a.click();\n",
              "      div.remove();\n",
              "    }\n",
              "  "
            ],
            "text/plain": [
              "<IPython.core.display.Javascript object>"
            ]
          },
          "metadata": {},
          "output_type": "display_data"
        },
        {
          "data": {
            "application/javascript": [
              "download(\"download_268c56e4-ff7b-4a2c-b4fd-98d0bdefe411\", \"lstm_flex_best_model.pth\", 1210067)"
            ],
            "text/plain": [
              "<IPython.core.display.Javascript object>"
            ]
          },
          "metadata": {},
          "output_type": "display_data"
        }
      ],
      "source": [
        "from google.colab import files\n",
        "files.download('./models/lstm_flex_best_model.pth')"
      ]
    },
    {
      "cell_type": "markdown",
      "metadata": {
        "id": "Rpcyynl0P3-F"
      },
      "source": [
        "# PLOT MODEL RESULT"
      ]
    },
    {
      "cell_type": "code",
      "execution_count": 9,
      "metadata": {
        "colab": {
          "base_uri": "https://localhost:8080/",
          "height": 211
        },
        "id": "cOSuPud-P5z_",
        "outputId": "807ac958-3611-4b08-a516-3a81fd80f00b"
      },
      "outputs": [
        {
          "output_type": "error",
          "ename": "NameError",
          "evalue": "name 'train_loss_values' is not defined",
          "traceback": [
            "\u001b[0;31m---------------------------------------------------------------------------\u001b[0m",
            "\u001b[0;31mNameError\u001b[0m                                 Traceback (most recent call last)",
            "\u001b[0;32m/tmp/ipython-input-9-1602805346.py\u001b[0m in \u001b[0;36m<cell line: 0>\u001b[0;34m()\u001b[0m\n\u001b[0;32m----> 1\u001b[0;31m \u001b[0mplt\u001b[0m\u001b[0;34m.\u001b[0m\u001b[0mplot\u001b[0m\u001b[0;34m(\u001b[0m\u001b[0;34m(\u001b[0m\u001b[0mnp\u001b[0m\u001b[0;34m.\u001b[0m\u001b[0marray\u001b[0m\u001b[0;34m(\u001b[0m\u001b[0mtrain_loss_values\u001b[0m\u001b[0;34m)\u001b[0m\u001b[0;34m)\u001b[0m\u001b[0;34m,\u001b[0m \u001b[0mlabel\u001b[0m\u001b[0;34m=\u001b[0m\u001b[0;34m\"train loss\"\u001b[0m\u001b[0;34m,\u001b[0m \u001b[0mcolor\u001b[0m\u001b[0;34m=\u001b[0m\u001b[0;34m'blue'\u001b[0m\u001b[0;34m)\u001b[0m\u001b[0;34m\u001b[0m\u001b[0;34m\u001b[0m\u001b[0m\n\u001b[0m\u001b[1;32m      2\u001b[0m \u001b[0mplt\u001b[0m\u001b[0;34m.\u001b[0m\u001b[0mplot\u001b[0m\u001b[0;34m(\u001b[0m\u001b[0;34m(\u001b[0m\u001b[0mnp\u001b[0m\u001b[0;34m.\u001b[0m\u001b[0marray\u001b[0m\u001b[0;34m(\u001b[0m\u001b[0mvalidation_loss_values\u001b[0m\u001b[0;34m)\u001b[0m\u001b[0;34m)\u001b[0m\u001b[0;34m,\u001b[0m \u001b[0mlabel\u001b[0m\u001b[0;34m=\u001b[0m\u001b[0;34m\"validation loss\"\u001b[0m\u001b[0;34m,\u001b[0m \u001b[0mcolor\u001b[0m\u001b[0;34m=\u001b[0m\u001b[0;34m'orange'\u001b[0m\u001b[0;34m)\u001b[0m\u001b[0;34m\u001b[0m\u001b[0;34m\u001b[0m\u001b[0m\n\u001b[1;32m      3\u001b[0m \u001b[0mplt\u001b[0m\u001b[0;34m.\u001b[0m\u001b[0mxlabel\u001b[0m\u001b[0;34m(\u001b[0m\u001b[0;34m'Epoch'\u001b[0m\u001b[0;34m)\u001b[0m\u001b[0;34m\u001b[0m\u001b[0;34m\u001b[0m\u001b[0m\n\u001b[1;32m      4\u001b[0m \u001b[0mplt\u001b[0m\u001b[0;34m.\u001b[0m\u001b[0mylabel\u001b[0m\u001b[0;34m(\u001b[0m\u001b[0;34m'Loss'\u001b[0m\u001b[0;34m)\u001b[0m\u001b[0;34m\u001b[0m\u001b[0;34m\u001b[0m\u001b[0m\n\u001b[1;32m      5\u001b[0m \u001b[0mplt\u001b[0m\u001b[0;34m.\u001b[0m\u001b[0mtitle\u001b[0m\u001b[0;34m(\u001b[0m\u001b[0;34m'Model Loss Over Epochs'\u001b[0m\u001b[0;34m)\u001b[0m\u001b[0;34m\u001b[0m\u001b[0;34m\u001b[0m\u001b[0m\n",
            "\u001b[0;31mNameError\u001b[0m: name 'train_loss_values' is not defined"
          ]
        }
      ],
      "source": [
        "plt.plot((np.array(train_loss_values)), label=\"train loss\", color='blue')\n",
        "plt.plot((np.array(validation_loss_values)), label=\"validation loss\", color='orange')\n",
        "plt.xlabel('Epoch')\n",
        "plt.ylabel('Loss')\n",
        "plt.title('Model Loss Over Epochs')\n",
        "plt.legend()\n",
        "plt.tight_layout()\n",
        "plt.show()"
      ]
    },
    {
      "cell_type": "code",
      "execution_count": null,
      "metadata": {
        "id": "vCCTeaPJP9AW"
      },
      "outputs": [],
      "source": [
        "plt.plot(train_accuracy_values, label='train accuracy', color='blue')\n",
        "plt.plot(validation_accuracy_values, label='validation accuracy', color='orange')\n",
        "plt.xlabel('Epoch')\n",
        "plt.ylabel('Val Accuracy')\n",
        "plt.title('Model Accuracy Over Epochs')\n",
        "plt.legend()\n",
        "plt.tight_layout()\n",
        "plt.show()"
      ]
    },
    {
      "cell_type": "markdown",
      "metadata": {
        "id": "IZM2VraFjcKz"
      },
      "source": [
        "# LOAD AND TEST MODEL"
      ]
    },
    {
      "cell_type": "code",
      "execution_count": 10,
      "metadata": {
        "colab": {
          "base_uri": "https://localhost:8080/",
          "height": 211
        },
        "id": "30py939SAH5L",
        "outputId": "b4968c31-9026-4e33-c449-95f33159410a"
      },
      "outputs": [
        {
          "output_type": "error",
          "ename": "NameError",
          "evalue": "name 'SIBILSTMModel' is not defined",
          "traceback": [
            "\u001b[0;31m---------------------------------------------------------------------------\u001b[0m",
            "\u001b[0;31mNameError\u001b[0m                                 Traceback (most recent call last)",
            "\u001b[0;32m/tmp/ipython-input-10-287099473.py\u001b[0m in \u001b[0;36m<cell line: 0>\u001b[0;34m()\u001b[0m\n\u001b[1;32m      1\u001b[0m \u001b[0;31m# model = SIBILSTMModel(input_size=5, hidden_size=64, num_layers=3, output_size=26, seq_length=SEQ_LENGTH).to(device)\u001b[0m\u001b[0;34m\u001b[0m\u001b[0;34m\u001b[0m\u001b[0m\n\u001b[0;32m----> 2\u001b[0;31m \u001b[0mmodel\u001b[0m \u001b[0;34m=\u001b[0m \u001b[0mSIBILSTMModel\u001b[0m\u001b[0;34m(\u001b[0m\u001b[0minput_size\u001b[0m\u001b[0;34m=\u001b[0m\u001b[0;36m5\u001b[0m\u001b[0;34m,\u001b[0m \u001b[0mhidden_size\u001b[0m\u001b[0;34m=\u001b[0m\u001b[0;36m64\u001b[0m\u001b[0;34m,\u001b[0m \u001b[0mnum_layers\u001b[0m\u001b[0;34m=\u001b[0m\u001b[0;36m2\u001b[0m\u001b[0;34m,\u001b[0m \u001b[0moutput_size\u001b[0m\u001b[0;34m=\u001b[0m\u001b[0;36m26\u001b[0m\u001b[0;34m)\u001b[0m\u001b[0;34m.\u001b[0m\u001b[0mto\u001b[0m\u001b[0;34m(\u001b[0m\u001b[0mdevice\u001b[0m\u001b[0;34m)\u001b[0m\u001b[0;34m\u001b[0m\u001b[0;34m\u001b[0m\u001b[0m\n\u001b[0m\u001b[1;32m      3\u001b[0m \u001b[0mmodel\u001b[0m\u001b[0;34m.\u001b[0m\u001b[0mload_state_dict\u001b[0m\u001b[0;34m(\u001b[0m\u001b[0mtorch\u001b[0m\u001b[0;34m.\u001b[0m\u001b[0mload\u001b[0m\u001b[0;34m(\u001b[0m\u001b[0;34m\"/content/models/lstm_flex_best_model.pth\"\u001b[0m\u001b[0;34m)\u001b[0m\u001b[0;34m)\u001b[0m\u001b[0;34m\u001b[0m\u001b[0;34m\u001b[0m\u001b[0m\n\u001b[1;32m      4\u001b[0m \u001b[0mmodel\u001b[0m\u001b[0;34m.\u001b[0m\u001b[0meval\u001b[0m\u001b[0;34m(\u001b[0m\u001b[0;34m)\u001b[0m\u001b[0;34m\u001b[0m\u001b[0;34m\u001b[0m\u001b[0m\n\u001b[1;32m      5\u001b[0m \u001b[0;34m\u001b[0m\u001b[0m\n",
            "\u001b[0;31mNameError\u001b[0m: name 'SIBILSTMModel' is not defined"
          ]
        }
      ],
      "source": [
        "# model = SIBILSTMModel(input_size=5, hidden_size=64, num_layers=3, output_size=26, seq_length=SEQ_LENGTH).to(device)\n",
        "model = SIBILSTMModel(input_size=5, hidden_size=64, num_layers=2, output_size=26).to(device)\n",
        "model.load_state_dict(torch.load(\"/content/models/lstm_flex_best_model.pth\"))\n",
        "model.eval()\n",
        "\n",
        "y_pred, y_true = [], []\n",
        "score = 0\n",
        "for i in range(len(testseq)):\n",
        "  input_tensor = torch.tensor(testseq[i][0], dtype=torch.float32).unsqueeze(0).to(device)\n",
        "  out = model(input_tensor)\n",
        "\n",
        "  pred = chr(torch.argmax(out).item() + 97)\n",
        "  true = chr(torch.argmax(testseq[i][1]).item() + 97)\n",
        "\n",
        "  y_pred.append(pred)\n",
        "  y_true.append(true)\n",
        "\n",
        "  score += 1 if true==pred else 0\n",
        "\n",
        "print(f\"Test Score = {round(score/len(testseq), 2)}\")"
      ]
    },
    {
      "cell_type": "code",
      "execution_count": 11,
      "metadata": {
        "id": "8Fe2xgg0__nm"
      },
      "outputs": [],
      "source": [
        "LETTERS = 'abcdefghijklmnopqrstuvwxyz'"
      ]
    },
    {
      "cell_type": "code",
      "execution_count": 12,
      "metadata": {
        "id": "SNlp_WsY-inp"
      },
      "outputs": [],
      "source": [
        "def draw_confusion_matrix(y_true, y_pred, labels=None, figsize=(15, 15)):\n",
        "  conf_mat = confusion_matrix(y_true, y_pred, labels = labels)\n",
        "  conf_mat_norm = np.around(conf_mat.astype('float') / conf_mat.sum(axis=1)[:, np.newaxis], decimals=2)\n",
        "  cmp = ConfusionMatrixDisplay(conf_mat_norm, display_labels=labels)\n",
        "\n",
        "  fig, ax = plt.subplots(figsize=figsize)\n",
        "  cmp.plot(ax=ax)"
      ]
    },
    {
      "cell_type": "code",
      "execution_count": 13,
      "metadata": {
        "id": "O3dYZf3D_yLQ"
      },
      "outputs": [],
      "source": [
        "def multilabel_confusion_dataframe(y_true, y_pred, index=None):\n",
        "    report = classification_report(y_true, y_pred, output_dict=True)\n",
        "    df_report = pd.DataFrame(report).transpose()\n",
        "    df_report = df_report.iloc[:-3, :3]\n",
        "\n",
        "    df_report['error'] = 1 - df_report['f1-score']\n",
        "\n",
        "    avg_row = df_report.mean()\n",
        "    df_report.loc['average'] = avg_row\n",
        "\n",
        "    return df_report"
      ]
    },
    {
      "cell_type": "code",
      "execution_count": null,
      "metadata": {
        "colab": {
          "base_uri": "https://localhost:8080/",
          "height": 141
        },
        "id": "sjP2qK4T_E_m",
        "outputId": "b39802b1-849d-4f01-a9fb-1630af52e75f"
      },
      "outputs": [
        {
          "ename": "NameError",
          "evalue": "name 'y_true' is not defined",
          "output_type": "error",
          "traceback": [
            "\u001b[0;31m---------------------------------------------------------------------------\u001b[0m",
            "\u001b[0;31mNameError\u001b[0m                                 Traceback (most recent call last)",
            "\u001b[0;32m/tmp/ipython-input-10-2470102030.py\u001b[0m in \u001b[0;36m<cell line: 0>\u001b[0;34m()\u001b[0m\n\u001b[0;32m----> 1\u001b[0;31m \u001b[0mdraw_confusion_matrix\u001b[0m\u001b[0;34m(\u001b[0m\u001b[0my_true\u001b[0m\u001b[0;34m,\u001b[0m \u001b[0my_pred\u001b[0m\u001b[0;34m,\u001b[0m \u001b[0mlabels\u001b[0m\u001b[0;34m=\u001b[0m\u001b[0;34m[\u001b[0m\u001b[0mletter\u001b[0m \u001b[0;32mfor\u001b[0m \u001b[0mletter\u001b[0m \u001b[0;32min\u001b[0m \u001b[0mLETTERS\u001b[0m\u001b[0;34m]\u001b[0m\u001b[0;34m,\u001b[0m \u001b[0mfigsize\u001b[0m\u001b[0;34m=\u001b[0m\u001b[0;34m(\u001b[0m\u001b[0;36m15\u001b[0m\u001b[0;34m,\u001b[0m \u001b[0;36m15\u001b[0m\u001b[0;34m)\u001b[0m\u001b[0;34m)\u001b[0m\u001b[0;34m\u001b[0m\u001b[0;34m\u001b[0m\u001b[0m\n\u001b[0m",
            "\u001b[0;31mNameError\u001b[0m: name 'y_true' is not defined"
          ]
        }
      ],
      "source": [
        "draw_confusion_matrix(y_true, y_pred, labels=[letter for letter in LETTERS], figsize=(15, 15))"
      ]
    },
    {
      "cell_type": "code",
      "execution_count": null,
      "metadata": {
        "colab": {
          "base_uri": "https://localhost:8080/",
          "height": 896
        },
        "id": "2QiymOCr_NVT",
        "outputId": "76d7b5c1-75e3-459f-d6f2-23122c05f8a4"
      },
      "outputs": [
        {
          "data": {
            "application/vnd.google.colaboratory.intrinsic+json": {
              "summary": "{\n  \"name\": \"multilabel_confusion_dataframe(y_true, y_pred, index=[letter for letter in LETTERS])\",\n  \"rows\": 27,\n  \"fields\": [\n    {\n      \"column\": \"precision\",\n      \"properties\": {\n        \"dtype\": \"number\",\n        \"std\": 0.036971134763170044,\n        \"min\": 0.8666666666666667,\n        \"max\": 1.0,\n        \"num_unique_values\": 18,\n        \"samples\": [\n          0.9888888888888889,\n          1.0,\n          0.967391304347826\n        ],\n        \"semantic_type\": \"\",\n        \"description\": \"\"\n      }\n    },\n    {\n      \"column\": \"recall\",\n      \"properties\": {\n        \"dtype\": \"number\",\n        \"std\": 0.03566754503511425,\n        \"min\": 0.8651685393258427,\n        \"max\": 1.0,\n        \"num_unique_values\": 15,\n        \"samples\": [\n          0.9885057471264368,\n          0.9310344827586207,\n          1.0\n        ],\n        \"semantic_type\": \"\",\n        \"description\": \"\"\n      }\n    },\n    {\n      \"column\": \"f1-score\",\n      \"properties\": {\n        \"dtype\": \"number\",\n        \"std\": 0.03440685483637588,\n        \"min\": 0.8700564971751412,\n        \"max\": 1.0,\n        \"num_unique_values\": 20,\n        \"samples\": [\n          0.994413407821229,\n          0.9885057471264368,\n          0.9257142857142857\n        ],\n        \"semantic_type\": \"\",\n        \"description\": \"\"\n      }\n    },\n    {\n      \"column\": \"error\",\n      \"properties\": {\n        \"dtype\": \"number\",\n        \"std\": 0.03440685483637588,\n        \"min\": 0.0,\n        \"max\": 0.12994350282485878,\n        \"num_unique_values\": 20,\n        \"samples\": [\n          0.005586592178770999,\n          0.011494252873563204,\n          0.07428571428571429\n        ],\n        \"semantic_type\": \"\",\n        \"description\": \"\"\n      }\n    }\n  ]\n}",
              "type": "dataframe"
            },
            "text/html": [
              "\n",
              "  <div id=\"df-df806a64-8989-4bcf-a837-e996e79b4a43\" class=\"colab-df-container\">\n",
              "    <div>\n",
              "<style scoped>\n",
              "    .dataframe tbody tr th:only-of-type {\n",
              "        vertical-align: middle;\n",
              "    }\n",
              "\n",
              "    .dataframe tbody tr th {\n",
              "        vertical-align: top;\n",
              "    }\n",
              "\n",
              "    .dataframe thead th {\n",
              "        text-align: right;\n",
              "    }\n",
              "</style>\n",
              "<table border=\"1\" class=\"dataframe\">\n",
              "  <thead>\n",
              "    <tr style=\"text-align: right;\">\n",
              "      <th></th>\n",
              "      <th>precision</th>\n",
              "      <th>recall</th>\n",
              "      <th>f1-score</th>\n",
              "      <th>error</th>\n",
              "    </tr>\n",
              "  </thead>\n",
              "  <tbody>\n",
              "    <tr>\n",
              "      <th>a</th>\n",
              "      <td>0.988889</td>\n",
              "      <td>1.000000</td>\n",
              "      <td>0.994413</td>\n",
              "      <td>0.005587</td>\n",
              "    </tr>\n",
              "    <tr>\n",
              "      <th>b</th>\n",
              "      <td>1.000000</td>\n",
              "      <td>1.000000</td>\n",
              "      <td>1.000000</td>\n",
              "      <td>0.000000</td>\n",
              "    </tr>\n",
              "    <tr>\n",
              "      <th>c</th>\n",
              "      <td>0.977273</td>\n",
              "      <td>0.966292</td>\n",
              "      <td>0.971751</td>\n",
              "      <td>0.028249</td>\n",
              "    </tr>\n",
              "    <tr>\n",
              "      <th>d</th>\n",
              "      <td>0.967033</td>\n",
              "      <td>0.988764</td>\n",
              "      <td>0.977778</td>\n",
              "      <td>0.022222</td>\n",
              "    </tr>\n",
              "    <tr>\n",
              "      <th>e</th>\n",
              "      <td>0.988889</td>\n",
              "      <td>0.978022</td>\n",
              "      <td>0.983425</td>\n",
              "      <td>0.016575</td>\n",
              "    </tr>\n",
              "    <tr>\n",
              "      <th>f</th>\n",
              "      <td>1.000000</td>\n",
              "      <td>1.000000</td>\n",
              "      <td>1.000000</td>\n",
              "      <td>0.000000</td>\n",
              "    </tr>\n",
              "    <tr>\n",
              "      <th>g</th>\n",
              "      <td>0.945652</td>\n",
              "      <td>0.977528</td>\n",
              "      <td>0.961326</td>\n",
              "      <td>0.038674</td>\n",
              "    </tr>\n",
              "    <tr>\n",
              "      <th>h</th>\n",
              "      <td>0.976744</td>\n",
              "      <td>0.943820</td>\n",
              "      <td>0.960000</td>\n",
              "      <td>0.040000</td>\n",
              "    </tr>\n",
              "    <tr>\n",
              "      <th>i</th>\n",
              "      <td>0.875000</td>\n",
              "      <td>0.865169</td>\n",
              "      <td>0.870056</td>\n",
              "      <td>0.129944</td>\n",
              "    </tr>\n",
              "    <tr>\n",
              "      <th>j</th>\n",
              "      <td>0.866667</td>\n",
              "      <td>0.876404</td>\n",
              "      <td>0.871508</td>\n",
              "      <td>0.128492</td>\n",
              "    </tr>\n",
              "    <tr>\n",
              "      <th>k</th>\n",
              "      <td>0.967391</td>\n",
              "      <td>1.000000</td>\n",
              "      <td>0.983425</td>\n",
              "      <td>0.016575</td>\n",
              "    </tr>\n",
              "    <tr>\n",
              "      <th>l</th>\n",
              "      <td>1.000000</td>\n",
              "      <td>1.000000</td>\n",
              "      <td>1.000000</td>\n",
              "      <td>0.000000</td>\n",
              "    </tr>\n",
              "    <tr>\n",
              "      <th>m</th>\n",
              "      <td>0.966667</td>\n",
              "      <td>0.977528</td>\n",
              "      <td>0.972067</td>\n",
              "      <td>0.027933</td>\n",
              "    </tr>\n",
              "    <tr>\n",
              "      <th>n</th>\n",
              "      <td>0.988889</td>\n",
              "      <td>1.000000</td>\n",
              "      <td>0.994413</td>\n",
              "      <td>0.005587</td>\n",
              "    </tr>\n",
              "    <tr>\n",
              "      <th>o</th>\n",
              "      <td>0.966292</td>\n",
              "      <td>0.966292</td>\n",
              "      <td>0.966292</td>\n",
              "      <td>0.033708</td>\n",
              "    </tr>\n",
              "    <tr>\n",
              "      <th>p</th>\n",
              "      <td>0.988506</td>\n",
              "      <td>0.966292</td>\n",
              "      <td>0.977273</td>\n",
              "      <td>0.022727</td>\n",
              "    </tr>\n",
              "    <tr>\n",
              "      <th>q</th>\n",
              "      <td>0.977011</td>\n",
              "      <td>0.955056</td>\n",
              "      <td>0.965909</td>\n",
              "      <td>0.034091</td>\n",
              "    </tr>\n",
              "    <tr>\n",
              "      <th>r</th>\n",
              "      <td>1.000000</td>\n",
              "      <td>0.977528</td>\n",
              "      <td>0.988636</td>\n",
              "      <td>0.011364</td>\n",
              "    </tr>\n",
              "    <tr>\n",
              "      <th>s</th>\n",
              "      <td>0.966292</td>\n",
              "      <td>0.988506</td>\n",
              "      <td>0.977273</td>\n",
              "      <td>0.022727</td>\n",
              "    </tr>\n",
              "    <tr>\n",
              "      <th>t</th>\n",
              "      <td>1.000000</td>\n",
              "      <td>0.988506</td>\n",
              "      <td>0.994220</td>\n",
              "      <td>0.005780</td>\n",
              "    </tr>\n",
              "    <tr>\n",
              "      <th>u</th>\n",
              "      <td>0.900000</td>\n",
              "      <td>0.952941</td>\n",
              "      <td>0.925714</td>\n",
              "      <td>0.074286</td>\n",
              "    </tr>\n",
              "    <tr>\n",
              "      <th>v</th>\n",
              "      <td>0.920455</td>\n",
              "      <td>0.931034</td>\n",
              "      <td>0.925714</td>\n",
              "      <td>0.074286</td>\n",
              "    </tr>\n",
              "    <tr>\n",
              "      <th>w</th>\n",
              "      <td>1.000000</td>\n",
              "      <td>1.000000</td>\n",
              "      <td>1.000000</td>\n",
              "      <td>0.000000</td>\n",
              "    </tr>\n",
              "    <tr>\n",
              "      <th>x</th>\n",
              "      <td>0.988235</td>\n",
              "      <td>0.965517</td>\n",
              "      <td>0.976744</td>\n",
              "      <td>0.023256</td>\n",
              "    </tr>\n",
              "    <tr>\n",
              "      <th>y</th>\n",
              "      <td>0.988506</td>\n",
              "      <td>0.988506</td>\n",
              "      <td>0.988506</td>\n",
              "      <td>0.011494</td>\n",
              "    </tr>\n",
              "    <tr>\n",
              "      <th>z</th>\n",
              "      <td>0.985294</td>\n",
              "      <td>0.917808</td>\n",
              "      <td>0.950355</td>\n",
              "      <td>0.049645</td>\n",
              "    </tr>\n",
              "    <tr>\n",
              "      <th>average</th>\n",
              "      <td>0.968834</td>\n",
              "      <td>0.968135</td>\n",
              "      <td>0.968338</td>\n",
              "      <td>0.031662</td>\n",
              "    </tr>\n",
              "  </tbody>\n",
              "</table>\n",
              "</div>\n",
              "    <div class=\"colab-df-buttons\">\n",
              "\n",
              "  <div class=\"colab-df-container\">\n",
              "    <button class=\"colab-df-convert\" onclick=\"convertToInteractive('df-df806a64-8989-4bcf-a837-e996e79b4a43')\"\n",
              "            title=\"Convert this dataframe to an interactive table.\"\n",
              "            style=\"display:none;\">\n",
              "\n",
              "  <svg xmlns=\"http://www.w3.org/2000/svg\" height=\"24px\" viewBox=\"0 -960 960 960\">\n",
              "    <path d=\"M120-120v-720h720v720H120Zm60-500h600v-160H180v160Zm220 220h160v-160H400v160Zm0 220h160v-160H400v160ZM180-400h160v-160H180v160Zm440 0h160v-160H620v160ZM180-180h160v-160H180v160Zm440 0h160v-160H620v160Z\"/>\n",
              "  </svg>\n",
              "    </button>\n",
              "\n",
              "  <style>\n",
              "    .colab-df-container {\n",
              "      display:flex;\n",
              "      gap: 12px;\n",
              "    }\n",
              "\n",
              "    .colab-df-convert {\n",
              "      background-color: #E8F0FE;\n",
              "      border: none;\n",
              "      border-radius: 50%;\n",
              "      cursor: pointer;\n",
              "      display: none;\n",
              "      fill: #1967D2;\n",
              "      height: 32px;\n",
              "      padding: 0 0 0 0;\n",
              "      width: 32px;\n",
              "    }\n",
              "\n",
              "    .colab-df-convert:hover {\n",
              "      background-color: #E2EBFA;\n",
              "      box-shadow: 0px 1px 2px rgba(60, 64, 67, 0.3), 0px 1px 3px 1px rgba(60, 64, 67, 0.15);\n",
              "      fill: #174EA6;\n",
              "    }\n",
              "\n",
              "    .colab-df-buttons div {\n",
              "      margin-bottom: 4px;\n",
              "    }\n",
              "\n",
              "    [theme=dark] .colab-df-convert {\n",
              "      background-color: #3B4455;\n",
              "      fill: #D2E3FC;\n",
              "    }\n",
              "\n",
              "    [theme=dark] .colab-df-convert:hover {\n",
              "      background-color: #434B5C;\n",
              "      box-shadow: 0px 1px 3px 1px rgba(0, 0, 0, 0.15);\n",
              "      filter: drop-shadow(0px 1px 2px rgba(0, 0, 0, 0.3));\n",
              "      fill: #FFFFFF;\n",
              "    }\n",
              "  </style>\n",
              "\n",
              "    <script>\n",
              "      const buttonEl =\n",
              "        document.querySelector('#df-df806a64-8989-4bcf-a837-e996e79b4a43 button.colab-df-convert');\n",
              "      buttonEl.style.display =\n",
              "        google.colab.kernel.accessAllowed ? 'block' : 'none';\n",
              "\n",
              "      async function convertToInteractive(key) {\n",
              "        const element = document.querySelector('#df-df806a64-8989-4bcf-a837-e996e79b4a43');\n",
              "        const dataTable =\n",
              "          await google.colab.kernel.invokeFunction('convertToInteractive',\n",
              "                                                    [key], {});\n",
              "        if (!dataTable) return;\n",
              "\n",
              "        const docLinkHtml = 'Like what you see? Visit the ' +\n",
              "          '<a target=\"_blank\" href=https://colab.research.google.com/notebooks/data_table.ipynb>data table notebook</a>'\n",
              "          + ' to learn more about interactive tables.';\n",
              "        element.innerHTML = '';\n",
              "        dataTable['output_type'] = 'display_data';\n",
              "        await google.colab.output.renderOutput(dataTable, element);\n",
              "        const docLink = document.createElement('div');\n",
              "        docLink.innerHTML = docLinkHtml;\n",
              "        element.appendChild(docLink);\n",
              "      }\n",
              "    </script>\n",
              "  </div>\n",
              "\n",
              "\n",
              "    <div id=\"df-4bc87f1a-7d26-4331-bc92-a31cc38a5f3e\">\n",
              "      <button class=\"colab-df-quickchart\" onclick=\"quickchart('df-4bc87f1a-7d26-4331-bc92-a31cc38a5f3e')\"\n",
              "                title=\"Suggest charts\"\n",
              "                style=\"display:none;\">\n",
              "\n",
              "<svg xmlns=\"http://www.w3.org/2000/svg\" height=\"24px\"viewBox=\"0 0 24 24\"\n",
              "     width=\"24px\">\n",
              "    <g>\n",
              "        <path d=\"M19 3H5c-1.1 0-2 .9-2 2v14c0 1.1.9 2 2 2h14c1.1 0 2-.9 2-2V5c0-1.1-.9-2-2-2zM9 17H7v-7h2v7zm4 0h-2V7h2v10zm4 0h-2v-4h2v4z\"/>\n",
              "    </g>\n",
              "</svg>\n",
              "      </button>\n",
              "\n",
              "<style>\n",
              "  .colab-df-quickchart {\n",
              "      --bg-color: #E8F0FE;\n",
              "      --fill-color: #1967D2;\n",
              "      --hover-bg-color: #E2EBFA;\n",
              "      --hover-fill-color: #174EA6;\n",
              "      --disabled-fill-color: #AAA;\n",
              "      --disabled-bg-color: #DDD;\n",
              "  }\n",
              "\n",
              "  [theme=dark] .colab-df-quickchart {\n",
              "      --bg-color: #3B4455;\n",
              "      --fill-color: #D2E3FC;\n",
              "      --hover-bg-color: #434B5C;\n",
              "      --hover-fill-color: #FFFFFF;\n",
              "      --disabled-bg-color: #3B4455;\n",
              "      --disabled-fill-color: #666;\n",
              "  }\n",
              "\n",
              "  .colab-df-quickchart {\n",
              "    background-color: var(--bg-color);\n",
              "    border: none;\n",
              "    border-radius: 50%;\n",
              "    cursor: pointer;\n",
              "    display: none;\n",
              "    fill: var(--fill-color);\n",
              "    height: 32px;\n",
              "    padding: 0;\n",
              "    width: 32px;\n",
              "  }\n",
              "\n",
              "  .colab-df-quickchart:hover {\n",
              "    background-color: var(--hover-bg-color);\n",
              "    box-shadow: 0 1px 2px rgba(60, 64, 67, 0.3), 0 1px 3px 1px rgba(60, 64, 67, 0.15);\n",
              "    fill: var(--button-hover-fill-color);\n",
              "  }\n",
              "\n",
              "  .colab-df-quickchart-complete:disabled,\n",
              "  .colab-df-quickchart-complete:disabled:hover {\n",
              "    background-color: var(--disabled-bg-color);\n",
              "    fill: var(--disabled-fill-color);\n",
              "    box-shadow: none;\n",
              "  }\n",
              "\n",
              "  .colab-df-spinner {\n",
              "    border: 2px solid var(--fill-color);\n",
              "    border-color: transparent;\n",
              "    border-bottom-color: var(--fill-color);\n",
              "    animation:\n",
              "      spin 1s steps(1) infinite;\n",
              "  }\n",
              "\n",
              "  @keyframes spin {\n",
              "    0% {\n",
              "      border-color: transparent;\n",
              "      border-bottom-color: var(--fill-color);\n",
              "      border-left-color: var(--fill-color);\n",
              "    }\n",
              "    20% {\n",
              "      border-color: transparent;\n",
              "      border-left-color: var(--fill-color);\n",
              "      border-top-color: var(--fill-color);\n",
              "    }\n",
              "    30% {\n",
              "      border-color: transparent;\n",
              "      border-left-color: var(--fill-color);\n",
              "      border-top-color: var(--fill-color);\n",
              "      border-right-color: var(--fill-color);\n",
              "    }\n",
              "    40% {\n",
              "      border-color: transparent;\n",
              "      border-right-color: var(--fill-color);\n",
              "      border-top-color: var(--fill-color);\n",
              "    }\n",
              "    60% {\n",
              "      border-color: transparent;\n",
              "      border-right-color: var(--fill-color);\n",
              "    }\n",
              "    80% {\n",
              "      border-color: transparent;\n",
              "      border-right-color: var(--fill-color);\n",
              "      border-bottom-color: var(--fill-color);\n",
              "    }\n",
              "    90% {\n",
              "      border-color: transparent;\n",
              "      border-bottom-color: var(--fill-color);\n",
              "    }\n",
              "  }\n",
              "</style>\n",
              "\n",
              "      <script>\n",
              "        async function quickchart(key) {\n",
              "          const quickchartButtonEl =\n",
              "            document.querySelector('#' + key + ' button');\n",
              "          quickchartButtonEl.disabled = true;  // To prevent multiple clicks.\n",
              "          quickchartButtonEl.classList.add('colab-df-spinner');\n",
              "          try {\n",
              "            const charts = await google.colab.kernel.invokeFunction(\n",
              "                'suggestCharts', [key], {});\n",
              "          } catch (error) {\n",
              "            console.error('Error during call to suggestCharts:', error);\n",
              "          }\n",
              "          quickchartButtonEl.classList.remove('colab-df-spinner');\n",
              "          quickchartButtonEl.classList.add('colab-df-quickchart-complete');\n",
              "        }\n",
              "        (() => {\n",
              "          let quickchartButtonEl =\n",
              "            document.querySelector('#df-4bc87f1a-7d26-4331-bc92-a31cc38a5f3e button');\n",
              "          quickchartButtonEl.style.display =\n",
              "            google.colab.kernel.accessAllowed ? 'block' : 'none';\n",
              "        })();\n",
              "      </script>\n",
              "    </div>\n",
              "\n",
              "    </div>\n",
              "  </div>\n"
            ],
            "text/plain": [
              "         precision    recall  f1-score     error\n",
              "a         0.988889  1.000000  0.994413  0.005587\n",
              "b         1.000000  1.000000  1.000000  0.000000\n",
              "c         0.977273  0.966292  0.971751  0.028249\n",
              "d         0.967033  0.988764  0.977778  0.022222\n",
              "e         0.988889  0.978022  0.983425  0.016575\n",
              "f         1.000000  1.000000  1.000000  0.000000\n",
              "g         0.945652  0.977528  0.961326  0.038674\n",
              "h         0.976744  0.943820  0.960000  0.040000\n",
              "i         0.875000  0.865169  0.870056  0.129944\n",
              "j         0.866667  0.876404  0.871508  0.128492\n",
              "k         0.967391  1.000000  0.983425  0.016575\n",
              "l         1.000000  1.000000  1.000000  0.000000\n",
              "m         0.966667  0.977528  0.972067  0.027933\n",
              "n         0.988889  1.000000  0.994413  0.005587\n",
              "o         0.966292  0.966292  0.966292  0.033708\n",
              "p         0.988506  0.966292  0.977273  0.022727\n",
              "q         0.977011  0.955056  0.965909  0.034091\n",
              "r         1.000000  0.977528  0.988636  0.011364\n",
              "s         0.966292  0.988506  0.977273  0.022727\n",
              "t         1.000000  0.988506  0.994220  0.005780\n",
              "u         0.900000  0.952941  0.925714  0.074286\n",
              "v         0.920455  0.931034  0.925714  0.074286\n",
              "w         1.000000  1.000000  1.000000  0.000000\n",
              "x         0.988235  0.965517  0.976744  0.023256\n",
              "y         0.988506  0.988506  0.988506  0.011494\n",
              "z         0.985294  0.917808  0.950355  0.049645\n",
              "average   0.968834  0.968135  0.968338  0.031662"
            ]
          },
          "execution_count": 53,
          "metadata": {},
          "output_type": "execute_result"
        }
      ],
      "source": [
        "multilabel_confusion_dataframe(y_true, y_pred, index=[letter for letter in LETTERS])"
      ]
    },
    {
      "cell_type": "markdown",
      "metadata": {
        "id": "SLmzmsxy-jRT"
      },
      "source": [
        "# REALTIME RESULT TEST"
      ]
    },
    {
      "cell_type": "code",
      "execution_count": 14,
      "metadata": {
        "colab": {
          "base_uri": "https://localhost:8080/",
          "height": 104
        },
        "id": "BR_8Sx7705j7",
        "outputId": "744fb837-efd2-48b6-bc55-ccd45ec84b40"
      },
      "outputs": [
        {
          "output_type": "stream",
          "name": "stderr",
          "text": [
            "Downloading...\n",
            "From: https://drive.google.com/uc?id=1lUXNX670HmZrt48jWoQjusaPqudaiXS1\n",
            "To: /content/Flex.zip\n",
            "100%|██████████| 47.1k/47.1k [00:00<00:00, 52.0MB/s]\n"
          ]
        },
        {
          "output_type": "execute_result",
          "data": {
            "text/plain": [
              "'Flex.zip'"
            ],
            "application/vnd.google.colaboratory.intrinsic+json": {
              "type": "string"
            }
          },
          "metadata": {},
          "execution_count": 14
        }
      ],
      "source": [
        "# @title <p> Download Real Time Test Result\n",
        "url = 'https://drive.google.com/file/d/1lUXNX670HmZrt48jWoQjusaPqudaiXS1/view?usp=sharing'\n",
        "output_path = 'Flex.zip'\n",
        "gdown.download(url, output_path, quiet=False,fuzzy=True)"
      ]
    },
    {
      "cell_type": "code",
      "execution_count": 15,
      "metadata": {
        "id": "3OISZk3e1RD5"
      },
      "outputs": [],
      "source": [
        "# @title <p> Assign file path\n",
        "REALTIME_DIR = 'Flex'\n",
        "\n",
        "if not os.path.isdir(REALTIME_DIR) :\n",
        "  !unzip Flex.zip &> /dev/null"
      ]
    },
    {
      "cell_type": "code",
      "execution_count": 16,
      "metadata": {
        "id": "33pwt_Ya-5mg"
      },
      "outputs": [],
      "source": [
        "def read_result_zip():\n",
        "  TEST_PARTICIPANTS = ['steven', 'maul', 'bayu', 'afiq', 'robby', 'ihsan', 'fidel']\n",
        "  result_dict = {letter: {participant: None for participant in TEST_PARTICIPANTS} for letter in LETTERS}\n",
        "  result_dir = 'Flex'\n",
        "  for result_file in os.listdir(result_dir):\n",
        "    try :\n",
        "      participant = result_file.split('-')[0]\n",
        "      letter = result_file.split('-')[1]\n",
        "      with open(os.path.join(result_dir, result_file), 'r') as f:\n",
        "        result_data = f.read().splitlines()\n",
        "\n",
        "      if len(result_data) < 100 :\n",
        "        print(result_file)\n",
        "      result_dict[letter][participant] = result_data[:100]\n",
        "\n",
        "    except :\n",
        "      continue\n",
        "\n",
        "  return result_dict"
      ]
    },
    {
      "cell_type": "code",
      "execution_count": 17,
      "metadata": {
        "id": "7Ufw1h_q2fpC"
      },
      "outputs": [],
      "source": [
        "def result_true_pred(result_dict):\n",
        "  y_true, y_pred = [], []\n",
        "  for letter, participant_data in result_dict.items():\n",
        "    for participant, data in participant_data.items():\n",
        "      if letter is not None and data is not None :\n",
        "        y_true = y_true + [letter]*100\n",
        "        y_pred = y_pred + data\n",
        "\n",
        "  return y_true, y_pred"
      ]
    },
    {
      "cell_type": "code",
      "execution_count": 18,
      "metadata": {
        "colab": {
          "base_uri": "https://localhost:8080/",
          "height": 1000
        },
        "id": "d9z5CaJL_WzB",
        "outputId": "6dbf0d01-859f-4eb1-e28f-e68d38d00ce5"
      },
      "outputs": [
        {
          "output_type": "display_data",
          "data": {
            "text/plain": [
              "<Figure size 1500x1500 with 2 Axes>"
            ],
            "image/png": "[encoded data removed]"
          },
          "metadata": {}
        }
      ],
      "source": [
        "# @title <p> Draw Confusion Matrix\n",
        "result_dict = read_result_zip()\n",
        "y_true_test, y_pred_test = result_true_pred(result_dict)\n",
        "draw_confusion_matrix(y_true_test, y_pred_test, labels = [letter for letter in LETTERS])"
      ]
    },
    {
      "cell_type": "code",
      "source": [
        "def accuracy_per_letter_manual(y_true, y_pred):\n",
        "  letters = LETTERS\n",
        "  correct_counts = {letter: 0 for letter in letters}\n",
        "  total_counts = {letter: 0 for letter in letters}\n",
        "\n",
        "  for true, pred in zip(y_true, y_pred):\n",
        "    total_counts[true] += 1\n",
        "    if true == pred:\n",
        "        correct_counts[true] += 1\n",
        "\n",
        "  letter_accuracies = {}\n",
        "  total_accuracy_sum = 0\n",
        "  num_letters_with_data = 0\n",
        "\n",
        "  for letter in letters:\n",
        "    if total_counts[letter] > 0:\n",
        "        acc = correct_counts[letter] / total_counts[letter]\n",
        "        letter_accuracies[letter] = acc\n",
        "        total_accuracy_sum += acc\n",
        "        num_letters_with_data += 1\n",
        "    else:\n",
        "        letter_accuracies[letter] = None\n",
        "\n",
        "  average_accuracy = total_accuracy_sum / num_letters_with_data if num_letters_with_data > 0 else 0\n",
        "\n",
        "  return letter_accuracies, average_accuracy"
      ],
      "metadata": {
        "id": "Q38FN2hWcGAC"
      },
      "execution_count": 30,
      "outputs": []
    },
    {
      "cell_type": "code",
      "source": [
        "letter_acc_realtime, avg_letter_acc_realtime  = accuracy_per_letter_manual(y_true_test, y_pred_test)\n",
        "for letter, accuracy in letter_acc_realtime.items():\n",
        "  print(f\"Letter: {letter}, Accuracy: {accuracy:.2%}\")\n",
        "print(f\"Average Letter Accuracy: {avg_letter_acc_realtime:.2%}\")"
      ],
      "metadata": {
        "colab": {
          "base_uri": "https://localhost:8080/"
        },
        "id": "PTZmU4IFc4FF",
        "outputId": "f7c81d58-35fd-4d59-c2d9-5090446569dd"
      },
      "execution_count": 35,
      "outputs": [
        {
          "output_type": "stream",
          "name": "stdout",
          "text": [
            "Letter: a, Accuracy: 100.00%\n",
            "Letter: b, Accuracy: 98.71%\n",
            "Letter: c, Accuracy: 97.29%\n",
            "Letter: d, Accuracy: 54.00%\n",
            "Letter: e, Accuracy: 66.86%\n",
            "Letter: f, Accuracy: 99.43%\n",
            "Letter: g, Accuracy: 30.86%\n",
            "Letter: h, Accuracy: 20.14%\n",
            "Letter: i, Accuracy: 54.00%\n",
            "Letter: j, Accuracy: 74.00%\n",
            "Letter: k, Accuracy: 42.57%\n",
            "Letter: l, Accuracy: 80.57%\n",
            "Letter: m, Accuracy: 83.43%\n",
            "Letter: n, Accuracy: 95.43%\n",
            "Letter: o, Accuracy: 71.83%\n",
            "Letter: p, Accuracy: 69.57%\n",
            "Letter: q, Accuracy: 62.86%\n",
            "Letter: r, Accuracy: 94.86%\n",
            "Letter: s, Accuracy: 67.57%\n",
            "Letter: t, Accuracy: 93.00%\n",
            "Letter: u, Accuracy: 63.71%\n",
            "Letter: v, Accuracy: 38.29%\n",
            "Letter: w, Accuracy: 95.67%\n",
            "Letter: x, Accuracy: 78.43%\n",
            "Letter: y, Accuracy: 97.14%\n",
            "Letter: z, Accuracy: 51.29%\n",
            "Average Letter Accuracy: 72.37%\n"
          ]
        }
      ]
    },
    {
      "cell_type": "code",
      "execution_count": 34,
      "metadata": {
        "colab": {
          "base_uri": "https://localhost:8080/",
          "height": 896
        },
        "id": "g9hvVOFQ_Y0e",
        "outputId": "bb30aff1-1b74-438e-a180-f0fc980dba94"
      },
      "outputs": [
        {
          "output_type": "execute_result",
          "data": {
            "text/plain": [
              "         precision    recall  f1-score     error\n",
              "a         0.942127  1.000000  0.970201  0.029799\n",
              "b         0.997114  0.987143  0.992103  0.007897\n",
              "c         0.822464  0.972857  0.891361  0.108639\n",
              "d         0.527197  0.540000  0.533522  0.466478\n",
              "e         0.863469  0.668571  0.753623  0.246377\n",
              "f         1.000000  0.994286  0.997135  0.002865\n",
              "g         0.534653  0.308571  0.391304  0.608696\n",
              "h         0.886792  0.201429  0.328289  0.671711\n",
              "i         0.683544  0.540000  0.603352  0.396648\n",
              "j         0.617402  0.740000  0.673164  0.326836\n",
              "k         0.613169  0.425714  0.502530  0.497470\n",
              "l         0.882629  0.805714  0.842420  0.157580\n",
              "m         0.779706  0.834286  0.806073  0.193927\n",
              "n         0.747204  0.954286  0.838143  0.161857\n",
              "o         0.696284  0.718333  0.707137  0.292863\n",
              "p         0.564311  0.695714  0.623161  0.376839\n",
              "q         0.444444  0.628571  0.520710  0.479290\n",
              "r         0.540277  0.948571  0.688440  0.311560\n",
              "s         0.724349  0.675714  0.699187  0.300813\n",
              "t         0.946221  0.930000  0.938040  0.061960\n",
              "u         0.469968  0.637143  0.540934  0.459066\n",
              "v         0.699739  0.382857  0.494922  0.505078\n",
              "w         0.857997  0.956667  0.904649  0.095351\n",
              "x         0.838168  0.784286  0.810332  0.189668\n",
              "y         0.997067  0.971429  0.984081  0.015919\n",
              "z         0.529499  0.512857  0.521045  0.478955\n",
              "average   0.738684  0.723654  0.713687  0.286313"
            ],
            "text/html": [
              "\n",
              "  <div id=\"df-05329972-6e10-47f3-bd09-fb13191a4e49\" class=\"colab-df-container\">\n",
              "    <div>\n",
              "<style scoped>\n",
              "    .dataframe tbody tr th:only-of-type {\n",
              "        vertical-align: middle;\n",
              "    }\n",
              "\n",
              "    .dataframe tbody tr th {\n",
              "        vertical-align: top;\n",
              "    }\n",
              "\n",
              "    .dataframe thead th {\n",
              "        text-align: right;\n",
              "    }\n",
              "</style>\n",
              "<table border=\"1\" class=\"dataframe\">\n",
              "  <thead>\n",
              "    <tr style=\"text-align: right;\">\n",
              "      <th></th>\n",
              "      <th>precision</th>\n",
              "      <th>recall</th>\n",
              "      <th>f1-score</th>\n",
              "      <th>error</th>\n",
              "    </tr>\n",
              "  </thead>\n",
              "  <tbody>\n",
              "    <tr>\n",
              "      <th>a</th>\n",
              "      <td>0.942127</td>\n",
              "      <td>1.000000</td>\n",
              "      <td>0.970201</td>\n",
              "      <td>0.029799</td>\n",
              "    </tr>\n",
              "    <tr>\n",
              "      <th>b</th>\n",
              "      <td>0.997114</td>\n",
              "      <td>0.987143</td>\n",
              "      <td>0.992103</td>\n",
              "      <td>0.007897</td>\n",
              "    </tr>\n",
              "    <tr>\n",
              "      <th>c</th>\n",
              "      <td>0.822464</td>\n",
              "      <td>0.972857</td>\n",
              "      <td>0.891361</td>\n",
              "      <td>0.108639</td>\n",
              "    </tr>\n",
              "    <tr>\n",
              "      <th>d</th>\n",
              "      <td>0.527197</td>\n",
              "      <td>0.540000</td>\n",
              "      <td>0.533522</td>\n",
              "      <td>0.466478</td>\n",
              "    </tr>\n",
              "    <tr>\n",
              "      <th>e</th>\n",
              "      <td>0.863469</td>\n",
              "      <td>0.668571</td>\n",
              "      <td>0.753623</td>\n",
              "      <td>0.246377</td>\n",
              "    </tr>\n",
              "    <tr>\n",
              "      <th>f</th>\n",
              "      <td>1.000000</td>\n",
              "      <td>0.994286</td>\n",
              "      <td>0.997135</td>\n",
              "      <td>0.002865</td>\n",
              "    </tr>\n",
              "    <tr>\n",
              "      <th>g</th>\n",
              "      <td>0.534653</td>\n",
              "      <td>0.308571</td>\n",
              "      <td>0.391304</td>\n",
              "      <td>0.608696</td>\n",
              "    </tr>\n",
              "    <tr>\n",
              "      <th>h</th>\n",
              "      <td>0.886792</td>\n",
              "      <td>0.201429</td>\n",
              "      <td>0.328289</td>\n",
              "      <td>0.671711</td>\n",
              "    </tr>\n",
              "    <tr>\n",
              "      <th>i</th>\n",
              "      <td>0.683544</td>\n",
              "      <td>0.540000</td>\n",
              "      <td>0.603352</td>\n",
              "      <td>0.396648</td>\n",
              "    </tr>\n",
              "    <tr>\n",
              "      <th>j</th>\n",
              "      <td>0.617402</td>\n",
              "      <td>0.740000</td>\n",
              "      <td>0.673164</td>\n",
              "      <td>0.326836</td>\n",
              "    </tr>\n",
              "    <tr>\n",
              "      <th>k</th>\n",
              "      <td>0.613169</td>\n",
              "      <td>0.425714</td>\n",
              "      <td>0.502530</td>\n",
              "      <td>0.497470</td>\n",
              "    </tr>\n",
              "    <tr>\n",
              "      <th>l</th>\n",
              "      <td>0.882629</td>\n",
              "      <td>0.805714</td>\n",
              "      <td>0.842420</td>\n",
              "      <td>0.157580</td>\n",
              "    </tr>\n",
              "    <tr>\n",
              "      <th>m</th>\n",
              "      <td>0.779706</td>\n",
              "      <td>0.834286</td>\n",
              "      <td>0.806073</td>\n",
              "      <td>0.193927</td>\n",
              "    </tr>\n",
              "    <tr>\n",
              "      <th>n</th>\n",
              "      <td>0.747204</td>\n",
              "      <td>0.954286</td>\n",
              "      <td>0.838143</td>\n",
              "      <td>0.161857</td>\n",
              "    </tr>\n",
              "    <tr>\n",
              "      <th>o</th>\n",
              "      <td>0.696284</td>\n",
              "      <td>0.718333</td>\n",
              "      <td>0.707137</td>\n",
              "      <td>0.292863</td>\n",
              "    </tr>\n",
              "    <tr>\n",
              "      <th>p</th>\n",
              "      <td>0.564311</td>\n",
              "      <td>0.695714</td>\n",
              "      <td>0.623161</td>\n",
              "      <td>0.376839</td>\n",
              "    </tr>\n",
              "    <tr>\n",
              "      <th>q</th>\n",
              "      <td>0.444444</td>\n",
              "      <td>0.628571</td>\n",
              "      <td>0.520710</td>\n",
              "      <td>0.479290</td>\n",
              "    </tr>\n",
              "    <tr>\n",
              "      <th>r</th>\n",
              "      <td>0.540277</td>\n",
              "      <td>0.948571</td>\n",
              "      <td>0.688440</td>\n",
              "      <td>0.311560</td>\n",
              "    </tr>\n",
              "    <tr>\n",
              "      <th>s</th>\n",
              "      <td>0.724349</td>\n",
              "      <td>0.675714</td>\n",
              "      <td>0.699187</td>\n",
              "      <td>0.300813</td>\n",
              "    </tr>\n",
              "    <tr>\n",
              "      <th>t</th>\n",
              "      <td>0.946221</td>\n",
              "      <td>0.930000</td>\n",
              "      <td>0.938040</td>\n",
              "      <td>0.061960</td>\n",
              "    </tr>\n",
              "    <tr>\n",
              "      <th>u</th>\n",
              "      <td>0.469968</td>\n",
              "      <td>0.637143</td>\n",
              "      <td>0.540934</td>\n",
              "      <td>0.459066</td>\n",
              "    </tr>\n",
              "    <tr>\n",
              "      <th>v</th>\n",
              "      <td>0.699739</td>\n",
              "      <td>0.382857</td>\n",
              "      <td>0.494922</td>\n",
              "      <td>0.505078</td>\n",
              "    </tr>\n",
              "    <tr>\n",
              "      <th>w</th>\n",
              "      <td>0.857997</td>\n",
              "      <td>0.956667</td>\n",
              "      <td>0.904649</td>\n",
              "      <td>0.095351</td>\n",
              "    </tr>\n",
              "    <tr>\n",
              "      <th>x</th>\n",
              "      <td>0.838168</td>\n",
              "      <td>0.784286</td>\n",
              "      <td>0.810332</td>\n",
              "      <td>0.189668</td>\n",
              "    </tr>\n",
              "    <tr>\n",
              "      <th>y</th>\n",
              "      <td>0.997067</td>\n",
              "      <td>0.971429</td>\n",
              "      <td>0.984081</td>\n",
              "      <td>0.015919</td>\n",
              "    </tr>\n",
              "    <tr>\n",
              "      <th>z</th>\n",
              "      <td>0.529499</td>\n",
              "      <td>0.512857</td>\n",
              "      <td>0.521045</td>\n",
              "      <td>0.478955</td>\n",
              "    </tr>\n",
              "    <tr>\n",
              "      <th>average</th>\n",
              "      <td>0.738684</td>\n",
              "      <td>0.723654</td>\n",
              "      <td>0.713687</td>\n",
              "      <td>0.286313</td>\n",
              "    </tr>\n",
              "  </tbody>\n",
              "</table>\n",
              "</div>\n",
              "    <div class=\"colab-df-buttons\">\n",
              "\n",
              "  <div class=\"colab-df-container\">\n",
              "    <button class=\"colab-df-convert\" onclick=\"convertToInteractive('df-05329972-6e10-47f3-bd09-fb13191a4e49')\"\n",
              "            title=\"Convert this dataframe to an interactive table.\"\n",
              "            style=\"display:none;\">\n",
              "\n",
              "  <svg xmlns=\"http://www.w3.org/2000/svg\" height=\"24px\" viewBox=\"0 -960 960 960\">\n",
              "    <path d=\"M120-120v-720h720v720H120Zm60-500h600v-160H180v160Zm220 220h160v-160H400v160Zm0 220h160v-160H400v160ZM180-400h160v-160H180v160Zm440 0h160v-160H620v160ZM180-180h160v-160H180v160Zm440 0h160v-160H620v160Z\"/>\n",
              "  </svg>\n",
              "    </button>\n",
              "\n",
              "  <style>\n",
              "    .colab-df-container {\n",
              "      display:flex;\n",
              "      gap: 12px;\n",
              "    }\n",
              "\n",
              "    .colab-df-convert {\n",
              "      background-color: #E8F0FE;\n",
              "      border: none;\n",
              "      border-radius: 50%;\n",
              "      cursor: pointer;\n",
              "      display: none;\n",
              "      fill: #1967D2;\n",
              "      height: 32px;\n",
              "      padding: 0 0 0 0;\n",
              "      width: 32px;\n",
              "    }\n",
              "\n",
              "    .colab-df-convert:hover {\n",
              "      background-color: #E2EBFA;\n",
              "      box-shadow: 0px 1px 2px rgba(60, 64, 67, 0.3), 0px 1px 3px 1px rgba(60, 64, 67, 0.15);\n",
              "      fill: #174EA6;\n",
              "    }\n",
              "\n",
              "    .colab-df-buttons div {\n",
              "      margin-bottom: 4px;\n",
              "    }\n",
              "\n",
              "    [theme=dark] .colab-df-convert {\n",
              "      background-color: #3B4455;\n",
              "      fill: #D2E3FC;\n",
              "    }\n",
              "\n",
              "    [theme=dark] .colab-df-convert:hover {\n",
              "      background-color: #434B5C;\n",
              "      box-shadow: 0px 1px 3px 1px rgba(0, 0, 0, 0.15);\n",
              "      filter: drop-shadow(0px 1px 2px rgba(0, 0, 0, 0.3));\n",
              "      fill: #FFFFFF;\n",
              "    }\n",
              "  </style>\n",
              "\n",
              "    <script>\n",
              "      const buttonEl =\n",
              "        document.querySelector('#df-05329972-6e10-47f3-bd09-fb13191a4e49 button.colab-df-convert');\n",
              "      buttonEl.style.display =\n",
              "        google.colab.kernel.accessAllowed ? 'block' : 'none';\n",
              "\n",
              "      async function convertToInteractive(key) {\n",
              "        const element = document.querySelector('#df-05329972-6e10-47f3-bd09-fb13191a4e49');\n",
              "        const dataTable =\n",
              "          await google.colab.kernel.invokeFunction('convertToInteractive',\n",
              "                                                    [key], {});\n",
              "        if (!dataTable) return;\n",
              "\n",
              "        const docLinkHtml = 'Like what you see? Visit the ' +\n",
              "          '<a target=\"_blank\" href=https://colab.research.google.com/notebooks/data_table.ipynb>data table notebook</a>'\n",
              "          + ' to learn more about interactive tables.';\n",
              "        element.innerHTML = '';\n",
              "        dataTable['output_type'] = 'display_data';\n",
              "        await google.colab.output.renderOutput(dataTable, element);\n",
              "        const docLink = document.createElement('div');\n",
              "        docLink.innerHTML = docLinkHtml;\n",
              "        element.appendChild(docLink);\n",
              "      }\n",
              "    </script>\n",
              "  </div>\n",
              "\n",
              "\n",
              "    <div id=\"df-2d03bb12-85b4-4649-8755-71660bf46ce3\">\n",
              "      <button class=\"colab-df-quickchart\" onclick=\"quickchart('df-2d03bb12-85b4-4649-8755-71660bf46ce3')\"\n",
              "                title=\"Suggest charts\"\n",
              "                style=\"display:none;\">\n",
              "\n",
              "<svg xmlns=\"http://www.w3.org/2000/svg\" height=\"24px\"viewBox=\"0 0 24 24\"\n",
              "     width=\"24px\">\n",
              "    <g>\n",
              "        <path d=\"M19 3H5c-1.1 0-2 .9-2 2v14c0 1.1.9 2 2 2h14c1.1 0 2-.9 2-2V5c0-1.1-.9-2-2-2zM9 17H7v-7h2v7zm4 0h-2V7h2v10zm4 0h-2v-4h2v4z\"/>\n",
              "    </g>\n",
              "</svg>\n",
              "      </button>\n",
              "\n",
              "<style>\n",
              "  .colab-df-quickchart {\n",
              "      --bg-color: #E8F0FE;\n",
              "      --fill-color: #1967D2;\n",
              "      --hover-bg-color: #E2EBFA;\n",
              "      --hover-fill-color: #174EA6;\n",
              "      --disabled-fill-color: #AAA;\n",
              "      --disabled-bg-color: #DDD;\n",
              "  }\n",
              "\n",
              "  [theme=dark] .colab-df-quickchart {\n",
              "      --bg-color: #3B4455;\n",
              "      --fill-color: #D2E3FC;\n",
              "      --hover-bg-color: #434B5C;\n",
              "      --hover-fill-color: #FFFFFF;\n",
              "      --disabled-bg-color: #3B4455;\n",
              "      --disabled-fill-color: #666;\n",
              "  }\n",
              "\n",
              "  .colab-df-quickchart {\n",
              "    background-color: var(--bg-color);\n",
              "    border: none;\n",
              "    border-radius: 50%;\n",
              "    cursor: pointer;\n",
              "    display: none;\n",
              "    fill: var(--fill-color);\n",
              "    height: 32px;\n",
              "    padding: 0;\n",
              "    width: 32px;\n",
              "  }\n",
              "\n",
              "  .colab-df-quickchart:hover {\n",
              "    background-color: var(--hover-bg-color);\n",
              "    box-shadow: 0 1px 2px rgba(60, 64, 67, 0.3), 0 1px 3px 1px rgba(60, 64, 67, 0.15);\n",
              "    fill: var(--button-hover-fill-color);\n",
              "  }\n",
              "\n",
              "  .colab-df-quickchart-complete:disabled,\n",
              "  .colab-df-quickchart-complete:disabled:hover {\n",
              "    background-color: var(--disabled-bg-color);\n",
              "    fill: var(--disabled-fill-color);\n",
              "    box-shadow: none;\n",
              "  }\n",
              "\n",
              "  .colab-df-spinner {\n",
              "    border: 2px solid var(--fill-color);\n",
              "    border-color: transparent;\n",
              "    border-bottom-color: var(--fill-color);\n",
              "    animation:\n",
              "      spin 1s steps(1) infinite;\n",
              "  }\n",
              "\n",
              "  @keyframes spin {\n",
              "    0% {\n",
              "      border-color: transparent;\n",
              "      border-bottom-color: var(--fill-color);\n",
              "      border-left-color: var(--fill-color);\n",
              "    }\n",
              "    20% {\n",
              "      border-color: transparent;\n",
              "      border-left-color: var(--fill-color);\n",
              "      border-top-color: var(--fill-color);\n",
              "    }\n",
              "    30% {\n",
              "      border-color: transparent;\n",
              "      border-left-color: var(--fill-color);\n",
              "      border-top-color: var(--fill-color);\n",
              "      border-right-color: var(--fill-color);\n",
              "    }\n",
              "    40% {\n",
              "      border-color: transparent;\n",
              "      border-right-color: var(--fill-color);\n",
              "      border-top-color: var(--fill-color);\n",
              "    }\n",
              "    60% {\n",
              "      border-color: transparent;\n",
              "      border-right-color: var(--fill-color);\n",
              "    }\n",
              "    80% {\n",
              "      border-color: transparent;\n",
              "      border-right-color: var(--fill-color);\n",
              "      border-bottom-color: var(--fill-color);\n",
              "    }\n",
              "    90% {\n",
              "      border-color: transparent;\n",
              "      border-bottom-color: var(--fill-color);\n",
              "    }\n",
              "  }\n",
              "</style>\n",
              "\n",
              "      <script>\n",
              "        async function quickchart(key) {\n",
              "          const quickchartButtonEl =\n",
              "            document.querySelector('#' + key + ' button');\n",
              "          quickchartButtonEl.disabled = true;  // To prevent multiple clicks.\n",
              "          quickchartButtonEl.classList.add('colab-df-spinner');\n",
              "          try {\n",
              "            const charts = await google.colab.kernel.invokeFunction(\n",
              "                'suggestCharts', [key], {});\n",
              "          } catch (error) {\n",
              "            console.error('Error during call to suggestCharts:', error);\n",
              "          }\n",
              "          quickchartButtonEl.classList.remove('colab-df-spinner');\n",
              "          quickchartButtonEl.classList.add('colab-df-quickchart-complete');\n",
              "        }\n",
              "        (() => {\n",
              "          let quickchartButtonEl =\n",
              "            document.querySelector('#df-2d03bb12-85b4-4649-8755-71660bf46ce3 button');\n",
              "          quickchartButtonEl.style.display =\n",
              "            google.colab.kernel.accessAllowed ? 'block' : 'none';\n",
              "        })();\n",
              "      </script>\n",
              "    </div>\n",
              "\n",
              "  <div id=\"id_5cd2c0bf-c738-4bf6-b325-b1f9a6d04e8c\">\n",
              "    <style>\n",
              "      .colab-df-generate {\n",
              "        background-color: #E8F0FE;\n",
              "        border: none;\n",
              "        border-radius: 50%;\n",
              "        cursor: pointer;\n",
              "        display: none;\n",
              "        fill: #1967D2;\n",
              "        height: 32px;\n",
              "        padding: 0 0 0 0;\n",
              "        width: 32px;\n",
              "      }\n",
              "\n",
              "      .colab-df-generate:hover {\n",
              "        background-color: #E2EBFA;\n",
              "        box-shadow: 0px 1px 2px rgba(60, 64, 67, 0.3), 0px 1px 3px 1px rgba(60, 64, 67, 0.15);\n",
              "        fill: #174EA6;\n",
              "      }\n",
              "\n",
              "      [theme=dark] .colab-df-generate {\n",
              "        background-color: #3B4455;\n",
              "        fill: #D2E3FC;\n",
              "      }\n",
              "\n",
              "      [theme=dark] .colab-df-generate:hover {\n",
              "        background-color: #434B5C;\n",
              "        box-shadow: 0px 1px 3px 1px rgba(0, 0, 0, 0.15);\n",
              "        filter: drop-shadow(0px 1px 2px rgba(0, 0, 0, 0.3));\n",
              "        fill: #FFFFFF;\n",
              "      }\n",
              "    </style>\n",
              "    <button class=\"colab-df-generate\" onclick=\"generateWithVariable('df_test_score')\"\n",
              "            title=\"Generate code using this dataframe.\"\n",
              "            style=\"display:none;\">\n",
              "\n",
              "  <svg xmlns=\"http://www.w3.org/2000/svg\" height=\"24px\"viewBox=\"0 0 24 24\"\n",
              "       width=\"24px\">\n",
              "    <path d=\"M7,19H8.4L18.45,9,17,7.55,7,17.6ZM5,21V16.75L18.45,3.32a2,2,0,0,1,2.83,0l1.4,1.43a1.91,1.91,0,0,1,.58,1.4,1.91,1.91,0,0,1-.58,1.4L9.25,21ZM18.45,9,17,7.55Zm-12,3A5.31,5.31,0,0,0,4.9,8.1,5.31,5.31,0,0,0,1,6.5,5.31,5.31,0,0,0,4.9,4.9,5.31,5.31,0,0,0,6.5,1,5.31,5.31,0,0,0,8.1,4.9,5.31,5.31,0,0,0,12,6.5,5.46,5.46,0,0,0,6.5,12Z\"/>\n",
              "  </svg>\n",
              "    </button>\n",
              "    <script>\n",
              "      (() => {\n",
              "      const buttonEl =\n",
              "        document.querySelector('#id_5cd2c0bf-c738-4bf6-b325-b1f9a6d04e8c button.colab-df-generate');\n",
              "      buttonEl.style.display =\n",
              "        google.colab.kernel.accessAllowed ? 'block' : 'none';\n",
              "\n",
              "      buttonEl.onclick = () => {\n",
              "        google.colab.notebook.generateWithVariable('df_test_score');\n",
              "      }\n",
              "      })();\n",
              "    </script>\n",
              "  </div>\n",
              "\n",
              "    </div>\n",
              "  </div>\n"
            ],
            "application/vnd.google.colaboratory.intrinsic+json": {
              "type": "dataframe",
              "variable_name": "df_test_score",
              "summary": "{\n  \"name\": \"df_test_score\",\n  \"rows\": 27,\n  \"fields\": [\n    {\n      \"column\": \"precision\",\n      \"properties\": {\n        \"dtype\": \"number\",\n        \"std\": 0.17243989896570816,\n        \"min\": 0.4444444444444444,\n        \"max\": 1.0,\n        \"num_unique_values\": 27,\n        \"samples\": [\n          0.6835443037974683,\n          0.7472035794183445,\n          0.6174016686531585\n        ],\n        \"semantic_type\": \"\",\n        \"description\": \"\"\n      }\n    },\n    {\n      \"column\": \"recall\",\n      \"properties\": {\n        \"dtype\": \"number\",\n        \"std\": 0.2279153907803507,\n        \"min\": 0.20142857142857143,\n        \"max\": 1.0,\n        \"num_unique_values\": 26,\n        \"samples\": [\n          0.74,\n          0.9485714285714286,\n          1.0\n        ],\n        \"semantic_type\": \"\",\n        \"description\": \"\"\n      }\n    },\n    {\n      \"column\": \"f1-score\",\n      \"properties\": {\n        \"dtype\": \"number\",\n        \"std\": 0.19326502521692593,\n        \"min\": 0.32828870779976715,\n        \"max\": 0.997134670487106,\n        \"num_unique_values\": 27,\n        \"samples\": [\n          0.6033519553072626,\n          0.8381430363864492,\n          0.673164392462638\n        ],\n        \"semantic_type\": \"\",\n        \"description\": \"\"\n      }\n    },\n    {\n      \"column\": \"error\",\n      \"properties\": {\n        \"dtype\": \"number\",\n        \"std\": 0.1932650252169259,\n        \"min\": 0.002865329512893977,\n        \"max\": 0.6717112922002328,\n        \"num_unique_values\": 27,\n        \"samples\": [\n          0.3966480446927374,\n          0.16185696361355084,\n          0.32683560753736196\n        ],\n        \"semantic_type\": \"\",\n        \"description\": \"\"\n      }\n    }\n  ]\n}"
            }
          },
          "metadata": {},
          "execution_count": 34
        }
      ],
      "source": [
        "df_test_score = multilabel_confusion_dataframe(y_true_test, y_pred_test)\n",
        "df_test_score"
      ]
    }
  ],
  "metadata": {
    "accelerator": "GPU",
    "colab": {
      "collapsed_sections": [
        "BDb6Jw6o6m0w",
        "Ld4ax3vEYIzp",
        "pCXrcHPiSST3",
        "mXsCxob7RL4k",
        "AB6DnBIfLmgR",
        "jF5qrF-A6r10",
        "Rpcyynl0P3-F"
      ],
      "gpuType": "T4",
      "provenance": [],
      "include_colab_link": true
    },
    "kernelspec": {
      "display_name": "Python 3",
      "name": "python3"
    },
    "language_info": {
      "name": "python"
    }
  },
  "nbformat": 4,
  "nbformat_minor": 0
}